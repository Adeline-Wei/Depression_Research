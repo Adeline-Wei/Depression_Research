{
 "cells": [
  {
   "cell_type": "code",
   "execution_count": 106,
   "metadata": {
    "collapsed": true
   },
   "outputs": [],
   "source": [
    "import os\n",
    "import pandas as pd\n",
    "import datetime\n",
    "from nltk.tokenize import TweetTokenizer\n",
    "from nltk.corpus import stopwords\n",
    "# from nltk.stem.porter import PorterStemmer\n",
    "# 引用 tweetTextHandler.ipynb\n",
    "import ipynb.fs.defs.tweetTextHandler as tweetTextHandler\n",
    "import operator"
   ]
  },
  {
   "cell_type": "code",
   "execution_count": 107,
   "metadata": {
    "collapsed": true
   },
   "outputs": [],
   "source": [
    "# 讀取所有 user 被診斷出的推文\n",
    "users_dict = dict()\n",
    "with open('diagnosed_tweets.csv') as open_file:\n",
    "    for line in open_file.readlines():\n",
    "        line = line.strip().split('\\t')\n",
    "        users_dict[line[1]] = (line[0], line[2])\n",
    "# 取得 user 所有推文的檔名\n",
    "filenames = os.listdir('Data/Output')\n",
    "if '.DS_Store' in filenames:\n",
    "    filenames.remove('.DS_Store')\n",
    "global current_user"
   ]
  },
  {
   "cell_type": "code",
   "execution_count": 108,
   "metadata": {
    "collapsed": true
   },
   "outputs": [],
   "source": [
    "def setUpUserData(user, days=90):\n",
    "    diagnosed_time = datetime.datetime.strptime(users_dict[user][1], \"%Y-%m-%d %H:%M:%S\")\n",
    "    # 被診斷前的三個月\n",
    "    before_diagnosed_time = str(diagnosed_time - datetime.timedelta(days=days))\n",
    "    diagnosed_time = str(diagnosed_time)\n",
    "    \n",
    "    df = pd.read_csv('Data/Output/'+user,sep='\\t',header=None,usecols=[2,3],names=['Date','Text'],quoting=3,error_bad_lines=False,encoding='utf-8')\n",
    "    in_range_df = df[df['Date'].between(before_diagnosed_time, str(diagnosed_time))]\n",
    "    \n",
    "    return in_range_df"
   ]
  },
  {
   "cell_type": "code",
   "execution_count": 109,
   "metadata": {
    "collapsed": true
   },
   "outputs": [],
   "source": [
    "def calculateWords(in_range_df):\n",
    "    words_dict = dict()\n",
    "    stopwords_dict = dict()\n",
    "    #porter = PorterStemmer()\n",
    "    tknzr = TweetTokenizer()\n",
    "    stop_words = stopwords.words('english')\n",
    "    for row in in_range_df.iterrows():\n",
    "        try:\n",
    "            txt = row[1]['Text']\n",
    "            txt = tweetTextHandler.del_url(txt)\n",
    "            for token in tknzr.tokenize(txt):\n",
    "                #token = porter.stem(token.lower())\n",
    "                if token.isdigit():\n",
    "                    pass\n",
    "                elif token in stop_words:\n",
    "                    stopwords_dict[token] = stopwords_dict.get(token, 0) + 1\n",
    "                else:\n",
    "                    words_dict[token] = words_dict.get(token, 0) + 1\n",
    "        except Exception as e:\n",
    "            #print(\"Error message:\", e)\n",
    "            pass\n",
    "    \n",
    "    dictionaryToFile(words_dict, 'Data/Dict/'+current_user+'_words')\n",
    "    dictionaryToFile(stopwords_dict, 'Data/Dict/'+current_user+'_stopwords')\n",
    "    return True"
   ]
  },
  {
   "cell_type": "code",
   "execution_count": 110,
   "metadata": {
    "collapsed": true
   },
   "outputs": [],
   "source": [
    "def dictionaryToFile(mydict, filename, header=None):\n",
    "    sorted_mydict = sorted(mydict.items(), key=operator.itemgetter(1),reverse=True)\n",
    "    with open(filename, 'a') as open_file:\n",
    "        if header:\n",
    "            open_file.write('{0}\\n'.format(header))\n",
    "        else:\n",
    "            pass\n",
    "        [open_file.write('{0}\\t{1}\\n'.format(key, value)) for key, value in sorted_mydict]\n",
    "    return True"
   ]
  },
  {
   "cell_type": "code",
   "execution_count": 111,
   "metadata": {
    "collapsed": true
   },
   "outputs": [],
   "source": [
    "def main():\n",
    "#     filenames = ['4908480387']\n",
    "    for filename in filenames:\n",
    "        global current_user\n",
    "        current_user = filename\n",
    "#         print('Processing {0}...'.format(current_user))\n",
    "        in_range_df = setUpUserData(current_user)\n",
    "        calculateWords(in_range_df)"
   ]
  },
  {
   "cell_type": "code",
   "execution_count": 113,
   "metadata": {
    "collapsed": true,
    "scrolled": false
   },
   "outputs": [],
   "source": [
    "if __name__ == '__main__':\n",
    "    main()"
   ]
  },
  {
   "cell_type": "code",
   "execution_count": 81,
   "metadata": {
    "collapsed": true
   },
   "outputs": [],
   "source": [
    "from IPython.display import HTML\n",
    "pd.options.display.max_colwidth = 150"
   ]
  },
  {
   "cell_type": "code",
   "execution_count": 74,
   "metadata": {
    "collapsed": true
   },
   "outputs": [],
   "source": [
    "filename = '2395156458'\n",
    "df1 = pd.read_csv('Data/Dict/'+filename+'_words',sep='\\t',header=None,names=['Words','Num'],quoting=3,error_bad_lines=False,encoding='utf-8')\n",
    "df2 = pd.read_csv('Data/Dict/'+filename+'_stopwords',sep='\\t',header=None,names=['Words','Num'],quoting=3,error_bad_lines=False,encoding='utf-8')"
   ]
  },
  {
   "cell_type": "code",
   "execution_count": 82,
   "metadata": {
    "scrolled": true
   },
   "outputs": [
    {
     "data": {
      "text/html": [
       "<div>\n",
       "<style>\n",
       "    .dataframe thead tr:only-child th {\n",
       "        text-align: right;\n",
       "    }\n",
       "\n",
       "    .dataframe thead th {\n",
       "        text-align: left;\n",
       "    }\n",
       "\n",
       "    .dataframe tbody tr th {\n",
       "        vertical-align: top;\n",
       "    }\n",
       "</style>\n",
       "<table border=\"1\" class=\"dataframe\">\n",
       "  <thead>\n",
       "    <tr style=\"text-align: right;\">\n",
       "      <th></th>\n",
       "      <th>Date</th>\n",
       "      <th>Text</th>\n",
       "    </tr>\n",
       "  </thead>\n",
       "  <tbody>\n",
       "    <tr>\n",
       "      <th>656</th>\n",
       "      <td>2017-06-27 10:15:50</td>\n",
       "      <td>i was diagnosed with depression &amp; was put on medication for it, some people say they have depression but don't really know what it is lol</td>\n",
       "    </tr>\n",
       "    <tr>\n",
       "      <th>657</th>\n",
       "      <td>2017-06-27 10:13:45</td>\n",
       "      <td>COCKADOOODLEDOOOOO</td>\n",
       "    </tr>\n",
       "    <tr>\n",
       "      <th>658</th>\n",
       "      <td>2017-06-27 10:13:29</td>\n",
       "      <td>yes</td>\n",
       "    </tr>\n",
       "    <tr>\n",
       "      <th>659</th>\n",
       "      <td>2017-06-27 10:11:01</td>\n",
       "      <td>is that a turkey</td>\n",
       "    </tr>\n",
       "    <tr>\n",
       "      <th>660</th>\n",
       "      <td>2017-06-27 10:10:16</td>\n",
       "      <td>Me af LMFAO</td>\n",
       "    </tr>\n",
       "    <tr>\n",
       "      <th>661</th>\n",
       "      <td>2017-06-27 10:01:17</td>\n",
       "      <td>twitter is brutal lmfao.</td>\n",
       "    </tr>\n",
       "    <tr>\n",
       "      <th>662</th>\n",
       "      <td>2017-06-27 09:57:30</td>\n",
       "      <td>keep grinding you'll get back up there.</td>\n",
       "    </tr>\n",
       "    <tr>\n",
       "      <th>...</th>\n",
       "      <td>...</td>\n",
       "      <td>...</td>\n",
       "    </tr>\n",
       "    <tr>\n",
       "      <th>3415</th>\n",
       "      <td>2017-03-30 01:45:09</td>\n",
       "      <td>if you don't like it you have 24 hours to return it on steam :^)</td>\n",
       "    </tr>\n",
       "    <tr>\n",
       "      <th>3416</th>\n",
       "      <td>2017-03-30 01:43:51</td>\n",
       "      <td>less glitches^ devs are more dedicated. i just didn't like it bc it's slow. but it's good playing w others.</td>\n",
       "    </tr>\n",
       "    <tr>\n",
       "      <th>3417</th>\n",
       "      <td>2017-03-30 01:41:50</td>\n",
       "      <td>it's really slow pace compared to h1. a lot of campers. i didn't like it.</td>\n",
       "    </tr>\n",
       "    <tr>\n",
       "      <th>3418</th>\n",
       "      <td>2017-03-29 18:52:01</td>\n",
       "      <td>thanks fella</td>\n",
       "    </tr>\n",
       "    <tr>\n",
       "      <th>3419</th>\n",
       "      <td>2017-03-29 16:41:30</td>\n",
       "      <td>NaN</td>\n",
       "    </tr>\n",
       "    <tr>\n",
       "      <th>3420</th>\n",
       "      <td>2017-03-29 14:58:30</td>\n",
       "      <td>when u want cookies so you go into your kitchen but accidentally hit a pan &amp; it hits the floor &amp; wakes up your dad. all i wanted was cookies</td>\n",
       "    </tr>\n",
       "    <tr>\n",
       "      <th>3421</th>\n",
       "      <td>2017-03-29 14:05:55</td>\n",
       "      <td>hanging out with my mom tomorrow. my mom and i have a special day during the week we hangout, which is Wednesday. i'm excited</td>\n",
       "    </tr>\n",
       "  </tbody>\n",
       "</table>\n",
       "<p>2766 rows × 2 columns</p>\n",
       "</div>"
      ],
      "text/plain": [
       "                     Date  \\\n",
       "656   2017-06-27 10:15:50   \n",
       "657   2017-06-27 10:13:45   \n",
       "658   2017-06-27 10:13:29   \n",
       "659   2017-06-27 10:11:01   \n",
       "660   2017-06-27 10:10:16   \n",
       "661   2017-06-27 10:01:17   \n",
       "662   2017-06-27 09:57:30   \n",
       "...                   ...   \n",
       "3415  2017-03-30 01:45:09   \n",
       "3416  2017-03-30 01:43:51   \n",
       "3417  2017-03-30 01:41:50   \n",
       "3418  2017-03-29 18:52:01   \n",
       "3419  2017-03-29 16:41:30   \n",
       "3420  2017-03-29 14:58:30   \n",
       "3421  2017-03-29 14:05:55   \n",
       "\n",
       "                                                                                                                                              Text  \n",
       "656      i was diagnosed with depression & was put on medication for it, some people say they have depression but don't really know what it is lol  \n",
       "657                                                                                                                             COCKADOOODLEDOOOOO  \n",
       "658                                                                                                                                            yes  \n",
       "659                                                                                                                               is that a turkey  \n",
       "660                                                                                                                                    Me af LMFAO  \n",
       "661                                                                                                                       twitter is brutal lmfao.  \n",
       "662                                                                                                        keep grinding you'll get back up there.  \n",
       "...                                                                                                                                            ...  \n",
       "3415                                                                              if you don't like it you have 24 hours to return it on steam :^)  \n",
       "3416                                   less glitches^ devs are more dedicated. i just didn't like it bc it's slow. but it's good playing w others.  \n",
       "3417                                                                     it's really slow pace compared to h1. a lot of campers. i didn't like it.  \n",
       "3418                                                                                                                                  thanks fella  \n",
       "3419                                                                                                                                           NaN  \n",
       "3420  when u want cookies so you go into your kitchen but accidentally hit a pan & it hits the floor & wakes up your dad. all i wanted was cookies  \n",
       "3421                 hanging out with my mom tomorrow. my mom and i have a special day during the week we hangout, which is Wednesday. i'm excited  \n",
       "\n",
       "[2766 rows x 2 columns]"
      ]
     },
     "execution_count": 82,
     "metadata": {},
     "output_type": "execute_result"
    }
   ],
   "source": [
    "setUpUserData('2395156458')"
   ]
  },
  {
   "cell_type": "code",
   "execution_count": null,
   "metadata": {
    "collapsed": true
   },
   "outputs": [],
   "source": []
  }
 ],
 "metadata": {
  "kernelspec": {
   "display_name": "Python 3",
   "language": "python",
   "name": "python3"
  },
  "language_info": {
   "codemirror_mode": {
    "name": "ipython",
    "version": 3
   },
   "file_extension": ".py",
   "mimetype": "text/x-python",
   "name": "python",
   "nbconvert_exporter": "python",
   "pygments_lexer": "ipython3",
   "version": "3.5.2"
  }
 },
 "nbformat": 4,
 "nbformat_minor": 2
}
