{
 "cells": [
  {
   "cell_type": "code",
   "execution_count": 1,
   "metadata": {},
   "outputs": [
    {
     "name": "stderr",
     "output_type": "stream",
     "text": [
      "/usr/local/lib/python3.5/dist-packages/sklearn/cross_validation.py:41: DeprecationWarning: This module was deprecated in version 0.18 in favor of the model_selection module into which all the refactored classes and functions are moved. Also note that the interface of the new CV iterators are different from that of this module. This module will be removed in 0.20.\n",
      "  \"This module will be removed in 0.20.\", DeprecationWarning)\n"
     ]
    }
   ],
   "source": [
    "import re, math\n",
    "import operator\n",
    "import numpy as np\n",
    "import pandas as pd\n",
    "from sklearn.ensemble import RandomForestClassifier\n",
    "from sklearn.feature_extraction.text import TfidfVectorizer\n",
    "from sklearn.cross_validation import StratifiedShuffleSplit\n",
    "from random import randint\n",
    "# import ipynb.fs.defs.PeopleInfo as peopleInfo\n",
    "from nltk.corpus import stopwords\n",
    "from nltk import TweetTokenizer\n",
    "from nltk import PorterStemmer\n",
    "import ipynb.fs.defs.FilterMethods as filterMethods\n",
    "import sys, os\n",
    "sys.path.append('../2_feature')\n",
    "import ipynb.fs.defs.GetFeatures as getFeatures\n",
    "global stop_words\n",
    "stop_words = stopwords.words('english')\n",
    "import plotly\n",
    "import plotly.plotly as py\n",
    "import plotly.graph_objs as go\n",
    "from IPython.display import display, Image\n",
    "plotly.tools.set_credentials_file(username='Adeline', api_key='Z5eltNtBQXqvI05ZFQtz')\n",
    "from ipywidgets import IntProgress\n",
    "from IPython.display import display\n",
    "import datetime\n",
    "from matplotlib import dates\n",
    "import matplotlib.pyplot as plt\n",
    "plt.style.use('seaborn')\n",
    "import matplotlib.dates as mdates"
   ]
  },
  {
   "cell_type": "code",
   "execution_count": 3,
   "metadata": {},
   "outputs": [],
   "source": [
    "class Patient(object):\n",
    "    totalCount = 0\n",
    "    diagnosedTimeDict = dict()\n",
    "    idToNameDict = dict()\n",
    "    with open('../0_dataset/diagnosedTweetsPatch2') as open_file:\n",
    "        for line in open_file.readlines():\n",
    "            line = line.strip().split('\\t')\n",
    "            diagnosedTimeDict[line[0]] = datetime.datetime.strptime(line[3], \"%Y-%m-%d %H:%M:%S\")\n",
    "            idToNameDict[line[0]] = line[1]\n",
    "       \n",
    "    def __init__(self, userId):\n",
    "        self.userId = userId\n",
    "        self.name = Patient.idToNameDict[userId]\n",
    "        self.df0 = pd.read_csv('../0_dataset/DepressionUsersTweets/Patch2_data/'+userId,sep='\\t',header=None,usecols=[2,3],names=['Date','Text'],quoting=3,error_bad_lines=False,encoding='utf-8').dropna(axis=0, how='any')\n",
    "        self.df0['Date'] = pd.to_datetime(self.df0['Date'], errors='coerce')\n",
    "        self.diagnosedTime = Patient.diagnosedTimeDict[userId]\n",
    "        \n",
    "        timeDuration1 = str(self.diagnosedTime - datetime.timedelta(days=90))\n",
    "        self.df1 = self.df0[self.df0['Date'].between(timeDuration1, str(self.diagnosedTime))]\n",
    "        timeDuration2 = str(datetime.datetime.strptime(timeDuration1, \"%Y-%m-%d %H:%M:%S\") - datetime.timedelta(days=90))\n",
    "        self.df2 = self.df0[self.df0['Date'].between(timeDuration2, timeDuration1)]\n",
    "        Patient.totalCount += 1 \n",
    "        \n",
    "    def displayCount(self):\n",
    "        print(\"Total Patients {0}\".format(Patient.totalCount))\n",
    "    \n",
    "    def displayTweetsCount(self, category=1):\n",
    "        if category == 0:\n",
    "            return len(self.df0)\n",
    "        elif category == 1:\n",
    "            return len(self.df1)\n",
    "        elif category == 2:\n",
    "            return len(self.df2)\n",
    "        else:\n",
    "            print('Please indicate category (inRange or all)')\n",
    "            return False\n",
    "        \n",
    "    def getText(self, category=1):\n",
    "        if category == 0:\n",
    "            return self.df0['Text'].values\n",
    "        if category == 1:\n",
    "            return self.df1['Text'].values\n",
    "        elif category == 2:\n",
    "            return self.df2['Text'].values\n",
    "        else:\n",
    "            print('Please indicate category (inRange or all)')\n",
    "            return False"
   ]
  },
  {
   "cell_type": "code",
   "execution_count": 16,
   "metadata": {},
   "outputs": [],
   "source": [
    "patients = dict()\n",
    "with open('../0_dataset/patch2PatientIDs') as openFile:\n",
    "    for patient in openFile.readlines():\n",
    "        patient = patient.strip()\n",
    "        patients[patient] = Patient(patient)"
   ]
  },
  {
   "cell_type": "code",
   "execution_count": 82,
   "metadata": {
    "scrolled": true
   },
   "outputs": [],
   "source": [
    "def calculateEverydayCount(userId, duration=1):\n",
    "    diagnosedTime = Patient.diagnosedTimeDict[userId]\n",
    "    if duration == 0:\n",
    "        df = patients[userId].df0\n",
    "        _max = diagnosedTime\n",
    "        _min = datetime.datetime.strptime(str(diagnosedTime - datetime.timedelta(days=180))[0:10], \"%Y-%m-%d\")\n",
    "    elif duration == 1:\n",
    "        df = patients[userId].df1\n",
    "        _max = diagnosedTime\n",
    "        _min = datetime.datetime.strptime(str(diagnosedTime - datetime.timedelta(days=90))[0:10], \"%Y-%m-%d\")\n",
    "    elif duration == 2:\n",
    "        df = patients[userId].df2\n",
    "        _max = datetime.datetime.strptime(str(diagnosedTime - datetime.timedelta(days=91))[0:10], \"%Y-%m-%d\")\n",
    "        _min = datetime.datetime.strptime(str(diagnosedTime - datetime.timedelta(days=180))[0:10], \"%Y-%m-%d\")\n",
    "    else:\n",
    "        return False\n",
    "    \n",
    "    count = df.groupby(df['Date'].dt.date).count()\n",
    "    diagnosedTime = Patient.diagnosedTimeDict[userId]\n",
    "#     print('diagnosedTime:{0}',diagnosedTime)\n",
    "#     timeDuration1 = datetime.datetime.strptime(str(diagnosedTime - datetime.timedelta(days=90))[0:10], \"%Y-%m-%d\")\n",
    "    timeDuration2 = datetime.datetime.strptime(str(diagnosedTime - datetime.timedelta(days=180))[0:10], \"%Y-%m-%d\")\n",
    "    # 補齊遺露的日期\n",
    "#     _max = count.index.max()\n",
    "#     _min = count.index.min()\n",
    "    _max = diagnosedTime\n",
    "    _min = timeDuration2\n",
    "#     try:    # 處理沒有該段時間內沒有資料的情況 (_min, _max == nan)\n",
    "    idx = pd.date_range(_min, _max)\n",
    "#     print('idx:{0}', idx)\n",
    "    count.index = pd.DatetimeIndex(count.index)\n",
    "    count = count.reindex(idx, fill_value=0)\n",
    "    return count\n",
    "    \n",
    "#     except:\n",
    "#         return False\n",
    "\n",
    "def plotUserGraph(userId):\n",
    "    countEarly = calculateEverydayCount(userId, 2)  # 診斷前三～六個月\n",
    "    countLate = calculateEverydayCount(userId, 1)   # 診斷前三個月\n",
    "    print(countEarly)\n",
    "    print(countLate)\n",
    "#     sumLate = countLate['Text'].sum()[0]\n",
    "#     sumEarly = countEarly['Text'].sum()[0]\n",
    "    \n",
    "#     try:\n",
    "    meanEarly = round(countEarly.mean()[0],1)\n",
    "    stdEarly = round(countEarly.std()[0],1)\n",
    "#     except AttributeError:\n",
    "#         meanEarly = 'NaN' \n",
    "#         stdEarly = 'NaN'\n",
    "    \n",
    "#     try:\n",
    "    meanLate = round(countLate.mean()[0],1)\n",
    "    stdLate = round(countLate.std()[0],1)\n",
    "#     except AttibuteError:\n",
    "#         meanLate = 'NaN'\n",
    "#         stdLate = 'NaN'\n",
    "        \n",
    "    # 準備資料\n",
    "#     if not countEarly and not countLate:\n",
    "#         x = countEarly.index.append(countLate.index)\n",
    "#         y = countEarly['Date'].append(countLate['Date'])\n",
    "#     elif not countEarly and countLate:\n",
    "#         x = countLate.index\n",
    "#         y = countEarly['Date'].append(countLate['Date'])\n",
    "    x = countEarly.index.append(countLate.index)\n",
    "    y = countEarly['Date'].append(countLate['Date'])\n",
    "    plt.rcParams[\"figure.figsize\"] = [20,5]\n",
    "    plt.rc('xtick.major', size=8, pad=7)\n",
    "    plt.rc('ytick.major', size=8, pad=7)\n",
    "\n",
    "    fig, ax = plt.subplots()\n",
    "    barlist = ax.bar(x, y, align='center', alpha=1.0)\n",
    "    for i in range(len(countEarly)):\n",
    "        barlist[i].set_color('c')\n",
    "\n",
    "    ax.set_title('{0:20}Mean:{1}/{2}    Std:{3}/{4}'.format(patients[userId].name, meanEarly, meanLate, stdEarly, stdLate), fontsize='30')\n",
    "\n",
    "          \n",
    "\n",
    "    myFmt = mdates.DateFormatter('%m%d')\n",
    "    ax.xaxis.set_major_formatter(myFmt)\n",
    "    ax.set_xlim(x.min(),x.max())\n",
    "    ax.tick_params(axis='x', which='major', labelsize='15')\n",
    "    ax.tick_params(axis='y', which='major', labelsize='20')\n",
    "    plt.xticks(x[::4], rotation='vertical')\n",
    "\n",
    "\n",
    "    plt.show()\n",
    "    plt.clf()\n",
    "    plt.close()"
   ]
  },
  {
   "cell_type": "code",
   "execution_count": 83,
   "metadata": {
    "scrolled": false
   },
   "outputs": [
    {
     "name": "stdout",
     "output_type": "stream",
     "text": [
      "            Date  Text\n",
      "2016-12-04     0     0\n",
      "2016-12-05    48    48\n",
      "2016-12-06    26    26\n",
      "2016-12-07     4     4\n",
      "2016-12-08     7     7\n",
      "2016-12-09    39    39\n",
      "2016-12-10    19    19\n",
      "2016-12-11     8     8\n",
      "2016-12-12     2     2\n",
      "2016-12-13     5     5\n",
      "2016-12-14    11    11\n",
      "2016-12-15    11    11\n",
      "2016-12-16     5     5\n",
      "2016-12-17     3     3\n",
      "2016-12-18    90    90\n",
      "2016-12-19    38    38\n",
      "2016-12-20    18    18\n",
      "2016-12-21     9     9\n",
      "2016-12-22     5     5\n",
      "2016-12-23    29    29\n",
      "2016-12-24     9     9\n",
      "2016-12-25     9     9\n",
      "2016-12-26     2     2\n",
      "2016-12-27     7     7\n",
      "2016-12-28    52    52\n",
      "2016-12-29    35    35\n",
      "2016-12-30    88    88\n",
      "2016-12-31    53    53\n",
      "2017-01-01    32    32\n",
      "2017-01-02    12    12\n",
      "...          ...   ...\n",
      "2017-05-04     0     0\n",
      "2017-05-05     0     0\n",
      "2017-05-06     0     0\n",
      "2017-05-07     0     0\n",
      "2017-05-08     0     0\n",
      "2017-05-09     0     0\n",
      "2017-05-10     0     0\n",
      "2017-05-11     0     0\n",
      "2017-05-12     0     0\n",
      "2017-05-13     0     0\n",
      "2017-05-14     0     0\n",
      "2017-05-15     0     0\n",
      "2017-05-16     0     0\n",
      "2017-05-17     0     0\n",
      "2017-05-18     0     0\n",
      "2017-05-19     0     0\n",
      "2017-05-20     0     0\n",
      "2017-05-21     0     0\n",
      "2017-05-22     0     0\n",
      "2017-05-23     0     0\n",
      "2017-05-24     0     0\n",
      "2017-05-25     0     0\n",
      "2017-05-26     0     0\n",
      "2017-05-27     0     0\n",
      "2017-05-28     0     0\n",
      "2017-05-29     0     0\n",
      "2017-05-30     0     0\n",
      "2017-05-31     0     0\n",
      "2017-06-01     0     0\n",
      "2017-06-02     0     0\n",
      "\n",
      "[181 rows x 2 columns]\n",
      "            Date  Text\n",
      "2016-12-04     0     0\n",
      "2016-12-05     0     0\n",
      "2016-12-06     0     0\n",
      "2016-12-07     0     0\n",
      "2016-12-08     0     0\n",
      "2016-12-09     0     0\n",
      "2016-12-10     0     0\n",
      "2016-12-11     0     0\n",
      "2016-12-12     0     0\n",
      "2016-12-13     0     0\n",
      "2016-12-14     0     0\n",
      "2016-12-15     0     0\n",
      "2016-12-16     0     0\n",
      "2016-12-17     0     0\n",
      "2016-12-18     0     0\n",
      "2016-12-19     0     0\n",
      "2016-12-20     0     0\n",
      "2016-12-21     0     0\n",
      "2016-12-22     0     0\n",
      "2016-12-23     0     0\n",
      "2016-12-24     0     0\n",
      "2016-12-25     0     0\n",
      "2016-12-26     0     0\n",
      "2016-12-27     0     0\n",
      "2016-12-28     0     0\n",
      "2016-12-29     0     0\n",
      "2016-12-30     0     0\n",
      "2016-12-31     0     0\n",
      "2017-01-01     0     0\n",
      "2017-01-02     0     0\n",
      "...          ...   ...\n",
      "2017-05-04    18    18\n",
      "2017-05-05    40    40\n",
      "2017-05-06    42    42\n",
      "2017-05-07    20    20\n",
      "2017-05-08    12    12\n",
      "2017-05-09    48    48\n",
      "2017-05-10    51    51\n",
      "2017-05-11    40    40\n",
      "2017-05-12   105   105\n",
      "2017-05-13    70    70\n",
      "2017-05-14    25    25\n",
      "2017-05-15    81    81\n",
      "2017-05-16    70    70\n",
      "2017-05-17   128   128\n",
      "2017-05-18   153   153\n",
      "2017-05-19   124   124\n",
      "2017-05-20    58    58\n",
      "2017-05-21    70    70\n",
      "2017-05-22    51    51\n",
      "2017-05-23    21    21\n",
      "2017-05-24    23    23\n",
      "2017-05-25     2     2\n",
      "2017-05-26     9     9\n",
      "2017-05-27    11    11\n",
      "2017-05-28    27    27\n",
      "2017-05-29    22    22\n",
      "2017-05-30    97    97\n",
      "2017-05-31    70    70\n",
      "2017-06-01    13    13\n",
      "2017-06-02    24    24\n",
      "\n",
      "[181 rows x 2 columns]\n"
     ]
    },
    {
     "data": {
      "image/png": "[encoded data removed]",
      "text/plain": [
       "<matplotlib.figure.Figure at 0x7f0fcfcfe668>"
      ]
     },
     "metadata": {},
     "output_type": "display_data"
    }
   ],
   "source": [
    "for patient in patients:\n",
    "#     try:\n",
    "#         plotUserGraph(patient)\n",
    "#     except ValueError:\n",
    "#         print(patient)\n",
    "    plotUserGraph(patient)\n",
    "    break"
   ]
  },
  {
   "cell_type": "code",
   "execution_count": 27,
   "metadata": {
    "scrolled": true
   },
   "outputs": [],
   "source": [
    "a = calculateEverydayCount(patients['570561813'].df1)"
   ]
  },
  {
   "cell_type": "code",
   "execution_count": 23,
   "metadata": {},
   "outputs": [
    {
     "data": {
      "text/html": [
       "<div>\n",
       "<style>\n",
       "    .dataframe thead tr:only-child th {\n",
       "        text-align: right;\n",
       "    }\n",
       "\n",
       "    .dataframe thead th {\n",
       "        text-align: left;\n",
       "    }\n",
       "\n",
       "    .dataframe tbody tr th {\n",
       "        vertical-align: top;\n",
       "    }\n",
       "</style>\n",
       "<table border=\"1\" class=\"dataframe\">\n",
       "  <thead>\n",
       "    <tr style=\"text-align: right;\">\n",
       "      <th></th>\n",
       "      <th>Date</th>\n",
       "      <th>Text</th>\n",
       "    </tr>\n",
       "  </thead>\n",
       "  <tbody>\n",
       "  </tbody>\n",
       "</table>\n",
       "</div>"
      ],
      "text/plain": [
       "Empty DataFrame\n",
       "Columns: [Date, Text]\n",
       "Index: []"
      ]
     },
     "execution_count": 23,
     "metadata": {},
     "output_type": "execute_result"
    }
   ],
   "source": [
    "patients['570561813'].df2"
   ]
  },
  {
   "cell_type": "code",
   "execution_count": 42,
   "metadata": {},
   "outputs": [
    {
     "data": {
      "text/plain": [
       "10"
      ]
     },
     "execution_count": 42,
     "metadata": {},
     "output_type": "execute_result"
    }
   ],
   "source": [
    "a['Text'][0]"
   ]
  },
  {
   "cell_type": "code",
   "execution_count": 59,
   "metadata": {
    "collapsed": true
   },
   "outputs": [],
   "source": [
    "a = []"
   ]
  },
  {
   "cell_type": "code",
   "execution_count": 60,
   "metadata": {
    "collapsed": true
   },
   "outputs": [],
   "source": [
    "a.append(None)"
   ]
  },
  {
   "cell_type": "code",
   "execution_count": 61,
   "metadata": {},
   "outputs": [
    {
     "data": {
      "text/plain": [
       "[None]"
      ]
     },
     "execution_count": 61,
     "metadata": {},
     "output_type": "execute_result"
    }
   ],
   "source": [
    "a"
   ]
  },
  {
   "cell_type": "code",
   "execution_count": 62,
   "metadata": {
    "collapsed": true
   },
   "outputs": [],
   "source": [
    "a = [1,2,3]"
   ]
  },
  {
   "cell_type": "code",
   "execution_count": 66,
   "metadata": {},
   "outputs": [],
   "source": [
    "a.append('')"
   ]
  },
  {
   "cell_type": "code",
   "execution_count": 67,
   "metadata": {},
   "outputs": [
    {
     "data": {
      "text/plain": [
       "[1, 2, 3, None, '']"
      ]
     },
     "execution_count": 67,
     "metadata": {},
     "output_type": "execute_result"
    }
   ],
   "source": [
    "a"
   ]
  },
  {
   "cell_type": "code",
   "execution_count": null,
   "metadata": {
    "collapsed": true
   },
   "outputs": [],
   "source": []
  }
 ],
 "metadata": {
  "kernelspec": {
   "display_name": "Python 3",
   "language": "python",
   "name": "python3"
  },
  "language_info": {
   "codemirror_mode": {
    "name": "ipython",
    "version": 3
   },
   "file_extension": ".py",
   "mimetype": "text/x-python",
   "name": "python",
   "nbconvert_exporter": "python",
   "pygments_lexer": "ipython3",
   "version": "3.5.2"
  }
 },
 "nbformat": 4,
 "nbformat_minor": 2
}
