{
 "cells": [
  {
   "cell_type": "code",
   "execution_count": 1,
   "metadata": {},
   "outputs": [
    {
     "name": "stderr",
     "output_type": "stream",
     "text": [
      "/usr/local/lib/python3.5/dist-packages/sklearn/cross_validation.py:41: DeprecationWarning: This module was deprecated in version 0.18 in favor of the model_selection module into which all the refactored classes and functions are moved. Also note that the interface of the new CV iterators are different from that of this module. This module will be removed in 0.20.\n",
      "  \"This module will be removed in 0.20.\", DeprecationWarning)\n"
     ]
    }
   ],
   "source": [
    "import re, math\n",
    "import operator\n",
    "import numpy as np\n",
    "import pandas as pd\n",
    "from sklearn.ensemble import RandomForestClassifier\n",
    "from sklearn.feature_extraction.text import TfidfVectorizer\n",
    "from sklearn.cross_validation import StratifiedShuffleSplit\n",
    "from random import randint\n",
    "# import ipynb.fs.defs.PeopleInfo as peopleInfo\n",
    "from nltk.corpus import stopwords\n",
    "from nltk import TweetTokenizer\n",
    "from nltk import PorterStemmer\n",
    "import ipynb.fs.defs.FilterMethods as filterMethods\n",
    "import sys, os\n",
    "sys.path.append('../2_feature')\n",
    "import ipynb.fs.defs.GetFeatures as getFeatures\n",
    "global stop_words\n",
    "stop_words = stopwords.words('english')\n",
    "import plotly\n",
    "import plotly.plotly as py\n",
    "import plotly.graph_objs as go\n",
    "from IPython.display import display, Image\n",
    "plotly.tools.set_credentials_file(username='Adeline', api_key='Z5eltNtBQXqvI05ZFQtz')\n",
    "from ipywidgets import IntProgress\n",
    "from IPython.display import display\n",
    "import datetime\n",
    "from matplotlib import dates\n",
    "import matplotlib.pyplot as plt\n",
    "plt.style.use('seaborn')\n",
    "import matplotlib.dates as mdates\n",
    "from ipywidgets import IntProgress\n",
    "from IPython.display import display"
   ]
  },
  {
   "cell_type": "code",
   "execution_count": 2,
   "metadata": {},
   "outputs": [],
   "source": [
    "class Patient(object):\n",
    "    totalCount = 0\n",
    "    diagnosedTimeDict = dict()\n",
    "    idToNameDict = dict()\n",
    "    with open('../0_dataset/diagnosedTweetsPatch2') as open_file:\n",
    "        for line in open_file.readlines():\n",
    "            line = line.strip().split('\\t')\n",
    "            diagnosedTimeDict[line[0]] = datetime.datetime.strptime(line[3], \"%Y-%m-%d %H:%M:%S\")\n",
    "            idToNameDict[line[0]] = line[1]\n",
    "       \n",
    "    def __init__(self, userId):\n",
    "        self.userId = userId\n",
    "        self.name = Patient.idToNameDict[userId]\n",
    "        self.df0 = pd.read_csv('../0_dataset/DepressionUsersTweets/Patch2_data/'+userId,sep='\\t',header=None,usecols=[2,3],names=['Date','Text'],quoting=3,error_bad_lines=False,encoding='utf-8').dropna(axis=0, how='any')\n",
    "        self.df0 = self.df0.drop_duplicates(subset='Date', keep='first')\n",
    "        self.df0 = self.df0.set_index('Date')\n",
    "        self.df0.index = pd.to_datetime(self.df0.index)\n",
    "\n",
    "        self.diagnosedTime = Patient.diagnosedTimeDict[userId]\n",
    "        timeDuration1 = self.diagnosedTime - datetime.timedelta(days=90)\n",
    "        timeDuration2 = self.diagnosedTime - datetime.timedelta(days=180)\n",
    "        self.df1 = self.df0.loc[str(self.diagnosedTime):str(timeDuration1)]\n",
    "        self.df2 = self.df0.loc[str(timeDuration1):str(timeDuration2)]\n",
    "        Patient.totalCount += 1 \n",
    "        \n",
    "    def displayCount(self):\n",
    "        print(\"Total Patients {0}\".format(Patient.totalCount))\n",
    "    \n",
    "    def displayTweetsCount(self, category=1):\n",
    "        if category == 0:\n",
    "            return len(self.df0)\n",
    "        elif category == 1:\n",
    "            return len(self.df1)\n",
    "        elif category == 2:\n",
    "            return len(self.df2)\n",
    "        else:\n",
    "            print('Please indicate category (inRange or all)')\n",
    "            return False\n",
    "        \n",
    "    def getText(self, category=1):\n",
    "        if category == 0:\n",
    "            return self.df0['Text'].values\n",
    "        if category == 1:\n",
    "            return self.df1['Text'].values\n",
    "        elif category == 2:\n",
    "            return self.df2['Text'].values\n",
    "        else:\n",
    "            print('Please indicate category (inRange or all)')\n",
    "            return False"
   ]
  },
  {
   "cell_type": "code",
   "execution_count": 3,
   "metadata": {
    "collapsed": true
   },
   "outputs": [],
   "source": [
    "class Ordinary(object):\n",
    "    totalCount = 0\n",
    "    idToNameDict = dict()\n",
    "    with open('../0_dataset/sampleOrdinaryIDtoName') as open_file:\n",
    "        for line in open_file.readlines():\n",
    "            line = line.strip().split('\\t')\n",
    "            idToNameDict[line[0]] = line[1]\n",
    "       \n",
    "    def __init__(self, userId):\n",
    "        self.userId = userId\n",
    "        self.df0 = pd.read_csv('../0_dataset/OrdinaryUsersTweets/'+userId,sep='\\t',header=None,usecols=[2,3],names=['Date','Text'],quoting=3,error_bad_lines=False,encoding='utf-8').dropna(axis=0, how='any')\n",
    "        self.df0 = self.df0.drop_duplicates(subset='Date', keep='first')\n",
    "        self.df0 = self.df0.set_index('Date')\n",
    "        self.df0.index = pd.to_datetime(self.df0.index)\n",
    "        self.df0 = self.df0.sort_index(ascending=False)\n",
    "        \n",
    "        self.newestTime = self.df0.index[0]\n",
    "        self.name = Ordinary.idToNameDict[userId]\n",
    "        timeDuration1 = self.newestTime - datetime.timedelta(days=90)\n",
    "        timeDuration2 = self.newestTime - datetime.timedelta(days=180)\n",
    "        \n",
    "        self.df1 = self.df0.loc[str(self.newestTime):str(timeDuration1)]\n",
    "        # Weird bug...\n",
    "        if self.df1.empty:\n",
    "            self.df1 = self.df0.loc[str(timeDuration1):str(self.newestTime)]\n",
    "        # Weird bug...\n",
    "        self.df2 = self.df0.loc[str(timeDuration1):str(timeDuration2)]\n",
    "        if self.df2.empty:\n",
    "            self.df2 = self.df0.loc[str(timeDuration2):str(timeDuration1)]\n",
    "        Patient.totalCount += 1 \n",
    "        \n",
    "    def displayCount(self):\n",
    "        print(\"Total Patients {0}\".format(Patient.totalCount))\n",
    "    \n",
    "    def displayTweetsCount(self, category=1):\n",
    "        if category == 0:\n",
    "            return len(self.df0)\n",
    "        elif category == 1:\n",
    "            return len(self.df1)\n",
    "        elif category == 2:\n",
    "            return len(self.df2)\n",
    "        else:\n",
    "            print('Please indicate category (inRange or all)')\n",
    "            return False\n",
    "        \n",
    "    def getText(self, category=1):\n",
    "        if category == 0:\n",
    "            return self.df0['Text'].values\n",
    "        if category == 1:\n",
    "            return self.df1['Text'].values\n",
    "        elif category == 2:\n",
    "            return self.df2['Text'].values\n",
    "        else:\n",
    "            print('Please indicate category (inRange or all)')\n",
    "            return False"
   ]
  },
  {
   "cell_type": "code",
   "execution_count": 4,
   "metadata": {
    "collapsed": true
   },
   "outputs": [],
   "source": [
    "def replace_by_symbols(txt):\n",
    "    txt = re.sub(r\"https\\S+\", '', txt)\n",
    "    txt = re.sub(r\"http\\S+\", '', txt)\n",
    "    txt = re.sub(r\"pic.twitter.com\\S+\", '', txt)\n",
    "    txt = re.sub(r\"twitter.com/\\S+\", '', txt)\n",
    "    txt = re.sub(r\"\\S+/\\S+\", '', txt)\n",
    "    txt = re.sub(r\"@\\S+\", '', txt)\n",
    "    txt = re.sub(r\"#\\S+\", '', txt)\n",
    "    txt = re.sub(r\"idk\", 'i do not know', txt)   # idk: i don't know\n",
    "    txt = re.sub(r\"tbh\", 'to be honest', txt)   # tbh: to be honest\n",
    "    txt = re.sub(r\"tho\", 'though', txt)   # tho\n",
    "    txt = re.sub(r\"i\\'m\", 'i am', txt)\n",
    "    txt = re.sub(r\"you\\'re\", 'you are', txt)\n",
    "    txt = re.sub(r\"he\\'s\", 'he is', txt)\n",
    "    txt = re.sub(r\"she\\'s\", 'she is', txt)\n",
    "    txt = re.sub(r\"it\\'s\", 'it is', txt)\n",
    "    txt = re.sub(r\"we\\'re\", 'we are', txt)\n",
    "    txt = re.sub(r\"they\\'re\", 'they are', txt)\n",
    "    txt = re.sub(r\"isn\\'t\", 'is not', txt)\n",
    "    txt = re.sub(r\"don\\'t\", 'do not', txt)\n",
    "    txt = re.sub(r\"doesn\\'t\", 'does not', txt)\n",
    "    txt = re.sub(r\"didn\\'t\", 'did not', txt)\n",
    "    txt = re.sub(r\"wasn\\'t\", 'was not', txt)\n",
    "    txt = re.sub(r\"weren\\'t\", 'were not', txt)\n",
    "    txt = re.sub(r\"haven\\'t\", 'have not', txt)\n",
    "    txt = re.sub(r\"can\\'t\", 'can not', txt)\n",
    "    txt = re.sub(r\"couldn\\'t\", 'could not', txt)\n",
    "    txt = re.sub(r\"wouldn\\'t\", 'would not', txt)\n",
    "    txt = re.sub(r\"shouldn\\'t\", 'should not', txt)\n",
    "    txt = re.sub(r\"&amp\", '', txt)\n",
    "    return txt"
   ]
  },
  {
   "cell_type": "code",
   "execution_count": 5,
   "metadata": {
    "collapsed": true
   },
   "outputs": [],
   "source": [
    "def initializeProgressBar(_max, initDescription='(Init)'):\n",
    "    progress = IntProgress()\n",
    "    progress.max = _max\n",
    "    progress.description = initDescription\n",
    "    display(progress)\n",
    "    return progress"
   ]
  },
  {
   "cell_type": "code",
   "execution_count": 6,
   "metadata": {
    "scrolled": true
   },
   "outputs": [
    {
     "name": "stdout",
     "output_type": "stream",
     "text": [
      "Total patient: 137\n",
      "CPU times: user 1.64 s, sys: 80 ms, total: 1.72 s\n",
      "Wall time: 1.73 s\n"
     ]
    }
   ],
   "source": [
    "%%time\n",
    "patients = dict()\n",
    "with open('../0_dataset/patch2PatientIDs') as openFile:\n",
    "    for patient in openFile.readlines():\n",
    "        patient = patient.strip()\n",
    "        patients[patient] = Patient(patient)\n",
    "        # break\n",
    "print('Total patient: {0}'.format(len(patients)))"
   ]
  },
  {
   "cell_type": "code",
   "execution_count": 7,
   "metadata": {},
   "outputs": [
    {
     "name": "stdout",
     "output_type": "stream",
     "text": [
      "Total ordinary: 150\n",
      "CPU times: user 1.27 s, sys: 36 ms, total: 1.3 s\n",
      "Wall time: 1.32 s\n"
     ]
    }
   ],
   "source": [
    "%%time\n",
    "ordinarys = dict()\n",
    "with open('../0_dataset/sampleOrdinaryIDs') as openFile:\n",
    "    for ordinary in openFile.readlines():\n",
    "        ordinary = ordinary.strip()\n",
    "        ordinarys[ordinary] = Ordinary(ordinary)\n",
    "print('Total ordinary: {0}'.format(len(ordinarys)))"
   ]
  },
  {
   "cell_type": "code",
   "execution_count": 8,
   "metadata": {
    "collapsed": true
   },
   "outputs": [],
   "source": [
    "groupTexts = []\n",
    "baseTexts = []\n",
    "\n",
    "for key in patients.keys():\n",
    "    groupTexts.append(replace_by_symbols('\\n'.join(patients[key].getText())))\n",
    "\n",
    "for key in ordinarys.keys():\n",
    "    baseTexts.append(replace_by_symbols('\\n'.join(ordinarys[key].getText())))\n",
    "\n",
    "# corpus = base_texts + group_texts"
   ]
  },
  {
   "cell_type": "code",
   "execution_count": 153,
   "metadata": {
    "collapsed": true
   },
   "outputs": [],
   "source": [
    "def createVectorizer(ngrams):\n",
    "    vectorizer = TfidfVectorizer(stop_words=\"english\", token_pattern='(?u)\\\\b[a-zA-Z]\\\\w{2,}\\\\b', ngram_range = (ngrams,ngrams), min_df=1)\n",
    "    return vectorizer\n",
    "\n",
    "def getTFIDFScores(vectorizer, tfidfResult):\n",
    "    # http://stackoverflow.com/questions/16078015/\n",
    "    scores = zip(vectorizer.get_feature_names(),\n",
    "                 np.asarray(tfidfResult.sum(axis=0)).ravel())\n",
    "    sorted_scores = sorted(scores, key=lambda x: x[1], reverse=True)\n",
    "#     idfs = zip(vectorizer.get_feature_names(), vectorizer.idf_)\n",
    "#     sorted_idfs = sorted(idfs, key=lambda x: x[1], reverse=True)\n",
    "    \n",
    "    words = []\n",
    "    scores = []\n",
    "#     idfs = []\n",
    "    for item in sorted_scores:\n",
    "        words.append(item[0])\n",
    "        scores.append(item[1])\n",
    "        \n",
    "#     for item in sorted_idfs:\n",
    "#         idfs.append(item[1])\n",
    "        \n",
    "    return words, scores\n",
    "\n",
    "def showTFIDFResult(texts, top=50, ngrams=1):\n",
    "    vectorizer = createVectorizer(ngrams)\n",
    "    tfidfResult = vectorizer.fit_transform(texts)\n",
    "    words, scores, idfs = getTFIDFScores(vectorizer, tfidfResult)\n",
    "    for i in range(50):\n",
    "        print(words[i],scores[i])\n",
    "    return (words, scores), (words, idfs)"
   ]
  },
  {
   "cell_type": "markdown",
   "metadata": {},
   "source": [
    "# Case 1: Without Filtering"
   ]
  },
  {
   "cell_type": "code",
   "execution_count": 10,
   "metadata": {
    "scrolled": true
   },
   "outputs": [
    {
     "name": "stdout",
     "output_type": "stream",
     "text": [
      "just 14.9922925695\n",
      "like 14.2186021267\n",
      "love 11.2246149052\n",
      "know 7.82981092551\n",
      "good 6.55024209926\n",
      "want 6.5006245372\n",
      "people 6.16942597916\n",
      "really 5.89481801847\n",
      "shit 5.82028700686\n",
      "fuck 5.66121942597\n",
      "today 5.53596012249\n",
      "time 5.53544830923\n",
      "got 5.44267336216\n",
      "day 5.33567621026\n",
      "did 5.22603430068\n",
      "going 4.92213599179\n",
      "think 4.88580269033\n",
      "fucking 4.76046141048\n",
      "need 4.67508757844\n",
      "new 4.49956551713\n",
      "gonna 4.46101194092\n",
      "feel 4.30237368038\n",
      "life 4.18769057261\n",
      "happy 4.14265577234\n",
      "lol 4.04367496954\n",
      "make 3.79405986435\n",
      "video 3.52591141444\n",
      "does 3.39931633133\n",
      "wanna 3.36635678398\n",
      "follow 3.36189955042\n",
      "hate 3.30919406193\n",
      "right 3.28783021772\n",
      "lmao 3.21442560892\n",
      "god 3.18132608089\n",
      "thank 3.17986286152\n",
      "man 3.022183743\n",
      "better 2.95694195064\n",
      "best 2.92231285289\n",
      "look 2.84516012488\n",
      "thing 2.84164113423\n",
      "omg 2.82033671863\n",
      "yes 2.78770466504\n",
      "friends 2.78307546566\n",
      "bad 2.77257726838\n",
      "okay 2.74596447847\n",
      "work 2.73877421589\n",
      "hope 2.66269555214\n",
      "ass 2.64989417887\n",
      "say 2.64689068579\n",
      "actually 2.64035760125\n"
     ]
    }
   ],
   "source": [
    "tfidfResult = showTFIDFResult(groupTexts)"
   ]
  },
  {
   "cell_type": "markdown",
   "metadata": {},
   "source": [
    "# Case 2: Filter Out Users"
   ]
  },
  {
   "cell_type": "code",
   "execution_count": 11,
   "metadata": {},
   "outputs": [],
   "source": [
    "# patch2FilterOutCase1 = []\n",
    "# with open('patch2FilterOutCase1') as open_file:\n",
    "#     for line in open_file.readlines():\n",
    "#         line = line.strip()\n",
    "#         patch2FilterOutCase1.append(line)\n",
    "#         try:\n",
    "#             del patients[line]\n",
    "#         except KeyError:\n",
    "#             continue"
   ]
  },
  {
   "cell_type": "code",
   "execution_count": 12,
   "metadata": {
    "collapsed": true
   },
   "outputs": [],
   "source": [
    "# group_texts = []\n",
    "\n",
    "# for key in patients.keys():\n",
    "#     group_texts.append(replace_by_symbols('\\n'.join(patients[key].getText(1))))"
   ]
  },
  {
   "cell_type": "markdown",
   "metadata": {},
   "source": [
    "# Case 3: 5 Tweets Per Day "
   ]
  },
  {
   "cell_type": "code",
   "execution_count": 13,
   "metadata": {
    "collapsed": true
   },
   "outputs": [],
   "source": [
    "def randomSelectRows(group, userId, duration=1, rowsPerDay=5):\n",
    "    \n",
    "    indices = []\n",
    "    values = []\n",
    "    df = pd.DataFrame()\n",
    "    gp = pd.DataFrame()\n",
    "    if group == 'Patient':\n",
    "        df = patients[userId].df1\n",
    "        if patients[userId].displayTweetsCount(1) <= 450:\n",
    "            indices.extend(df.index)\n",
    "        else:\n",
    "            gp = df.index.groupby(df.index.day)\n",
    "\n",
    "    elif group == 'Ordinary':\n",
    "        df = ordinarys[userId].df1\n",
    "        if ordinarys[userId].displayTweetsCount(1) <= 450:\n",
    "            indices.extend(df.index)\n",
    "        else:\n",
    "            gp = df.index.groupby(df.index.day)\n",
    "    else:\n",
    "        return False\n",
    "        \n",
    "    for key in gp.keys():\n",
    "        try:\n",
    "            rowIndex = np.random.choice(gp[key], rowsPerDay, replalce=False)\n",
    "        except:\n",
    "            rowIndex = np.random.choice(gp[key], rowsPerDay)\n",
    "        \n",
    "        indices.extend(pd.to_datetime(rowIndex))\n",
    "        indices = list(set(indices))\n",
    "        i = len(indices)\n",
    "        while i < 450:\n",
    "            tmpIndices = pd.to_datetime(np.random.choice(df.index, 1))\n",
    "#             print('{0}\\t{1}'.format(i, tmpIndices))\n",
    "            if tmpIndices in indices:\n",
    "#                 print('{0} is already in indcies'.format(tmpIndices))\n",
    "                continue\n",
    "            else:\n",
    "                indices.extend(tmpIndices)\n",
    "                i += 1\n",
    "#     print(indices)\n",
    "    for index in indices:\n",
    "        if type(df.loc[index]['Text']) != str:\n",
    "            print(index, df.loc[index]['Text'])\n",
    "        values.append(df.loc[index]['Text'])\n",
    "        \n",
    "    return values"
   ]
  },
  {
   "cell_type": "code",
   "execution_count": 14,
   "metadata": {
    "scrolled": true
   },
   "outputs": [
    {
     "data": {
      "application/vnd.jupyter.widget-view+json": {
       "model_id": "0750d8de8ff3458580d5ae6a869004f8"
      }
     },
     "metadata": {},
     "output_type": "display_data"
    },
    {
     "name": "stdout",
     "output_type": "stream",
     "text": [
      "CPU times: user 12min 46s, sys: 152 ms, total: 12min 46s\n",
      "Wall time: 12min 46s\n"
     ]
    }
   ],
   "source": [
    "%%time\n",
    "# 每人每天5篇，總共450篇（不滿就全取）\n",
    "groupTextsCase3 = []\n",
    "progress = initializeProgressBar(len(patients))\n",
    "\n",
    "for i, patient in enumerate(patients):\n",
    "    progress.value += 1\n",
    "    progress.description = 'Task {0}/{1}: {2}'.format(str(i+1), len(patients), patient)\n",
    "    values = randomSelectRows('Patient', patient, 5)\n",
    "    text = replace_by_symbols('\\n'.join(values))\n",
    "    groupTextsCase3.append(text)\n",
    "#     break"
   ]
  },
  {
   "cell_type": "code",
   "execution_count": 15,
   "metadata": {
    "scrolled": true
   },
   "outputs": [
    {
     "name": "stdout",
     "output_type": "stream",
     "text": [
      "just 13.6672055667\n",
      "like 13.1175470136\n",
      "love 10.3026474499\n",
      "know 7.08753862031\n",
      "want 6.01773750305\n",
      "good 6.01404693788\n",
      "people 5.7206344243\n",
      "fuck 5.510670879\n",
      "shit 5.36364089979\n",
      "really 5.34761038584\n",
      "today 5.17082437008\n",
      "day 5.04234879655\n",
      "time 5.00065757656\n",
      "got 4.93433428452\n",
      "did 4.83542346704\n",
      "fucking 4.57767223299\n",
      "going 4.43194672619\n",
      "think 4.40871672068\n",
      "need 4.22128641197\n",
      "gonna 4.18680826864\n",
      "new 4.0753937272\n",
      "feel 3.93544779265\n",
      "life 3.80358592214\n",
      "happy 3.7554170749\n",
      "lol 3.72902500389\n",
      "follow 3.40271822917\n",
      "make 3.37110408222\n",
      "video 3.34685819056\n",
      "wanna 3.1785655305\n",
      "thank 3.12949242288\n",
      "does 3.10401784084\n",
      "right 3.06305866352\n",
      "hate 3.05398028604\n",
      "lmao 3.04279537491\n",
      "god 2.91617246743\n",
      "man 2.82418323601\n",
      "better 2.79735181133\n",
      "okay 2.77944491444\n",
      "best 2.71625239384\n",
      "thing 2.65845329576\n",
      "omg 2.62966168296\n",
      "friends 2.57138688258\n",
      "actually 2.56370563908\n",
      "bad 2.56167613775\n",
      "ass 2.54769726659\n",
      "yes 2.54677255187\n",
      "work 2.54135012076\n",
      "hope 2.53006057975\n",
      "look 2.44910431031\n",
      "literally 2.43985495655\n"
     ]
    }
   ],
   "source": [
    "groupTfidfResultCase3 = showTFIDFResult(groupTextsCase3)"
   ]
  },
  {
   "cell_type": "code",
   "execution_count": 18,
   "metadata": {},
   "outputs": [
    {
     "data": {
      "application/vnd.jupyter.widget-view+json": {
       "model_id": "d36af981f5ad406b8e0dfd47bc712154"
      }
     },
     "metadata": {},
     "output_type": "display_data"
    },
    {
     "name": "stdout",
     "output_type": "stream",
     "text": [
      "CPU times: user 3min 26s, sys: 48 ms, total: 3min 26s\n",
      "Wall time: 3min 26s\n"
     ]
    }
   ],
   "source": [
    "%%time\n",
    "# 每人每天5篇，總共450篇（不滿就全取）\n",
    "baseTextsCase3 = []\n",
    "progress = initializeProgressBar(len(ordinarys))\n",
    "\n",
    "for i, ordinary in enumerate(ordinarys):\n",
    "    progress.value += 1\n",
    "    progress.description = 'Task {0}/{1}: {2}'.format(str(i+1), len(ordinarys), ordinary)\n",
    "    values = randomSelectRows('Ordinary', ordinary, 5)\n",
    "    text = replace_by_symbols('\\n'.join(values))\n",
    "    baseTextsCase3.append(text)\n",
    "#     break"
   ]
  },
  {
   "cell_type": "code",
   "execution_count": 19,
   "metadata": {
    "scrolled": true
   },
   "outputs": [
    {
     "name": "stdout",
     "output_type": "stream",
     "text": [
      "just 8.4874247074\n",
      "like 6.11435034616\n",
      "love 5.84129639829\n",
      "day 5.23656513243\n",
      "good 4.80233061536\n",
      "people 4.7663644782\n",
      "today 4.57776542991\n",
      "lol 4.47954533406\n",
      "know 4.33528777394\n",
      "time 4.2546690876\n",
      "thanks 4.11262349182\n",
      "need 3.88195568745\n",
      "got 3.68681418935\n",
      "follow 3.64064557792\n",
      "thank 3.5572916392\n",
      "great 3.50922561293\n",
      "new 3.45410542652\n",
      "going 3.42283473152\n",
      "really 3.38579380921\n",
      "want 3.36850882431\n",
      "life 3.14770087034\n",
      "did 3.14726934443\n",
      "right 3.1020041747\n",
      "happy 3.08105152729\n",
      "shit 2.96359004862\n",
      "make 2.95661038744\n",
      "think 2.89055692704\n",
      "days 2.85979365403\n",
      "best 2.68190400664\n",
      "work 2.67692470363\n",
      "come 2.56788530366\n",
      "night 2.46062455611\n",
      "let 2.42942597649\n",
      "tonight 2.37035358592\n",
      "morning 2.32593403909\n",
      "feel 2.3153355982\n",
      "little 2.25534918353\n",
      "week 2.23423677404\n",
      "way 2.22710949548\n",
      "say 2.22360352791\n",
      "does 2.20549011208\n",
      "look 2.1990494579\n",
      "girl 2.18750971357\n",
      "game 2.17645354651\n",
      "bitch 2.13248255493\n",
      "wait 2.11437872891\n",
      "video 2.10462790917\n",
      "man 2.07915118142\n",
      "home 2.07608751499\n",
      "hate 2.06577785232\n"
     ]
    }
   ],
   "source": [
    "baseTfidfResultCase3 = showTFIDFResult(baseTextsCase3)"
   ]
  },
  {
   "cell_type": "code",
   "execution_count": 140,
   "metadata": {},
   "outputs": [],
   "source": [
    "def getTwoGroupsCorrespondScore(topPerGroup=50):\n",
    "\n",
    "    topNWords = groupTfidfResultCase3[0][:topPerGroup]\n",
    "    for word in baseTfidfResultCase3[0][:topPerGroup]:\n",
    "        if word not in topNWords:\n",
    "            topNWords.append(word)\n",
    "\n",
    "    topNGroupScores = []\n",
    "    topNBaseScores = []\n",
    "    for word in top100Words:\n",
    "        topNGroupScores.append(groupTfidfResultCase3[1][groupTfidfResultCase3[0].index(word)])\n",
    "        topNBaseScores.append(baseTfidfResultCase3[1][baseTfidfResultCase3[0].index(word)])\n",
    "        \n",
    "    return topNWords, topNGroupScores, topNBaseScores\n",
    "\n",
    "\n",
    "def plotTwoGroupsTfidfType1(topPerGroup=50):\n",
    "    topNWords, topNGroupScores, topNBaseScores = getTwoGroupsCorrespondScore(topPerGroup)\n",
    "    groupX = topNGroupScores[::-1]\n",
    "    baseX = topNBaseScores[::-1]\n",
    "    y = np.arange(len(topNWords))\n",
    "    yTickLabels = topNWords[::-1]\n",
    "    plt.rcParams[\"figure.figsize\"] = [10,15]\n",
    "    plt.rcParams[\"ytick.labelsize\"] = 16\n",
    "    fig, axes = plt.subplots(ncols=2, sharey=True)\n",
    "    axes[0].barh(y, groupX, align='center', color='blue', zorder=10)\n",
    "    axes[0].set(title='Patients')\n",
    "    axes[1].barh(y, baseX, align='center', color='gray', zorder=10)\n",
    "    axes[1].set(title='Ordinary')\n",
    "    axes[1].set_xlim(0, 14)\n",
    "    axes[1].invert_xaxis()\n",
    "    axes[0].set(yticks=y, yticklabels=yTickLabels)\n",
    "\n",
    "\n",
    "    axes[0].yaxis.tick_right()\n",
    "    axes[1].yaxis.tick_left()\n",
    "\n",
    "    for ax in axes.flat:\n",
    "        ax.margins(0.03)\n",
    "        ax.grid(True)\n",
    "\n",
    "    fig.tight_layout()\n",
    "    fig.subplots_adjust(wspace=0.23)\n",
    "    plt.show()\n",
    "    plt.close(fig)\n",
    "    \n",
    "    \n",
    "def plotTwoGroupsTfidfType2(topPerGroup=50):\n",
    "    plt.rcParams[\"figure.figsize\"] = [60,10]\n",
    "\n",
    "    topNWords, topNGroupScores, topNBaseScores = getTwoGroupsCorrespondScore()\n",
    "    ind = np.arange(len(topNWords))  # the x locations for the groups\n",
    "    width = 0.3                      # the width of the bars\n",
    "\n",
    "    fig, ax = plt.subplots()\n",
    "    rects1 = ax.bar(ind, topNGroupScores, width, color='r')\n",
    "\n",
    "    rects2 = ax.bar(ind + width, topNBaseScores, width, color='y')\n",
    "\n",
    "    ax.set_xticks(ind + width / 2)\n",
    "\n",
    "    ax.set_xticklabels(topNWords)\n",
    "    ax.tick_params(axis='x', which='major', labelsize='20')\n",
    "    ax.tick_params(axis='y', which='major', labelsize='20')\n",
    "    ax.set_xlim(-0.3, 67)\n",
    "    ax.legend((rects1[0], rects2[0]), ('Patient', 'Ordinary'))\n",
    "\n",
    "    plt.xticks(rotation='vertical')\n",
    "\n",
    "    # def autolabel(rects):\n",
    "    #     \"\"\"\n",
    "    #     Attach a text label above each bar displaying its height\n",
    "    #     \"\"\"\n",
    "    #     for rect in rects:\n",
    "    #         height = rect.get_height()\n",
    "    #         ax.text(rect.get_x() + rect.get_width()/2., 1.05*height,\n",
    "    #                 '%d' % int(height),\n",
    "    #                 ha='center', va='bottom')\n",
    "    # autolabel(rects1)\n",
    "    # autolabel(rects2)\n",
    "\n",
    "    plt.show()\n",
    "    plt.close(fig)\n",
    "    \n",
    "    \n",
    "def plotTwoGroupsTfidfType3(topPerGroup=50):\n",
    "    topNWords, topNGroupScores, topNBaseScores = getTwoGroupsCorrespondScore(topPerGroup)\n",
    "\n",
    "    plt.rcParams[\"figure.figsize\"] = [10, 40]\n",
    "    fig, ax = plt.subplots()\n",
    "\n",
    "    ind = np.arange(len(topNWords))\n",
    "    width = 0.4\n",
    "    ax.barh(ind, topNGroupScores[::-1], width, color='blue', label='Patient')\n",
    "    ax.barh(ind + width, topNBaseScores[::-1], width, color='gray', label='Ordinary')\n",
    "\n",
    "    ax.set(yticks=ind + width, yticklabels=topNWords[::-1])\n",
    "    ax.tick_params(axis='x', which='major', labelsize='20')\n",
    "    ax.tick_params(axis='y', which='major', labelsize='20')\n",
    "    ax.legend()\n",
    "\n",
    "    plt.show()\n",
    "    plt.close(fig)"
   ]
  },
  {
   "cell_type": "code",
   "execution_count": 93,
   "metadata": {
    "scrolled": false
   },
   "outputs": [
    {
     "data": {
      "image/png": "[encoded data removed]",
      "text/plain": [
       "<matplotlib.figure.Figure at 0x7fd0e119bb38>"
      ]
     },
     "metadata": {},
     "output_type": "display_data"
    }
   ],
   "source": [
    "plotTwoGroupsTfidfType1()"
   ]
  },
  {
   "cell_type": "code",
   "execution_count": null,
   "metadata": {
    "collapsed": true
   },
   "outputs": [],
   "source": []
  }
 ],
 "metadata": {
  "kernelspec": {
   "display_name": "Python 3",
   "language": "python",
   "name": "python3"
  },
  "language_info": {
   "codemirror_mode": {
    "name": "ipython",
    "version": 3
   },
   "file_extension": ".py",
   "mimetype": "text/x-python",
   "name": "python",
   "nbconvert_exporter": "python",
   "pygments_lexer": "ipython3",
   "version": "3.5.2"
  }
 },
 "nbformat": 4,
 "nbformat_minor": 2
}
