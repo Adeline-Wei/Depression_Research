{
 "cells": [
  {
   "cell_type": "code",
   "execution_count": 1,
   "metadata": {
    "collapsed": true
   },
   "outputs": [],
   "source": [
    "import re"
   ]
  },
  {
   "cell_type": "code",
   "execution_count": 2,
   "metadata": {
    "collapsed": true
   },
   "outputs": [],
   "source": [
    "def filter_user_by_tweet_number(mydict):\n",
    "    ''' 過濾使用者中推文數量低於門檻值的人 '''\n",
    "    total_list = list(mydict.keys())\n",
    "    remove_list = []\n",
    "    for key in total_list:\n",
    "        if len(mydict[key].inRangeDf) == 0:\n",
    "            del mydict[key]\n",
    "            remove_list.append(key)\n",
    "            total_list.remove(key)\n",
    "        else:\n",
    "            pass\n",
    "    print('Remove users:{0}'.format(remove_list))\n",
    "    return mydict"
   ]
  },
  {
   "cell_type": "code",
   "execution_count": 5,
   "metadata": {},
   "outputs": [],
   "source": [
    "def filter_tweet_by_re(txt, how='empty'):\n",
    "    ''' 過濾推文中的網址、被提及的人名 '''\n",
    "\n",
    "    if how == 'empty':\n",
    "        replace_link = ''\n",
    "        replace_mention = ''\n",
    "    elif how == 'symbol':\n",
    "        replace_link == 'LINK' \n",
    "        replace_mention = 'MENTION'\n",
    "    else:\n",
    "        print('Error HOW')\n",
    "        pass\n",
    "    try:\n",
    "        # url\n",
    "        txt = re.sub(r\"http\\S+\", replace_link, txt)\n",
    "        txt = re.sub(r\"https\\S+\", replace_link, txt)\n",
    "        txt = re.sub(r\"twitter.com/\\S+\", replace_link, txt)\n",
    "        txt = re.sub(r\"pic.twitter.com\\S+\", replace_link, txt)\n",
    "        txt = re.sub(r\"\\S+/\\S+\", replace_link, txt)\n",
    "        #txt = re.sub(r\"\\S+\\/status\\S+\", txt)\n",
    "        # mention\n",
    "        txt = re.sub(r\"@\\S+\", replace_mention, txt)\n",
    "    except TypeError as e:\n",
    "        print(e)\n",
    "    \n",
    "    return txt"
   ]
  },
  {
   "cell_type": "code",
   "execution_count": null,
   "metadata": {
    "collapsed": true
   },
   "outputs": [],
   "source": []
  }
 ],
 "metadata": {
  "kernelspec": {
   "display_name": "Python 3",
   "language": "python",
   "name": "python3"
  },
  "language_info": {
   "codemirror_mode": {
    "name": "ipython",
    "version": 3
   },
   "file_extension": ".py",
   "mimetype": "text/x-python",
   "name": "python",
   "nbconvert_exporter": "python",
   "pygments_lexer": "ipython3",
   "version": "3.5.2"
  }
 },
 "nbformat": 4,
 "nbformat_minor": 2
}
