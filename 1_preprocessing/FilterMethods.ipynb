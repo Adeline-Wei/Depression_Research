{
 "cells": [
  {
   "cell_type": "code",
   "execution_count": 8,
   "metadata": {
    "collapsed": true
   },
   "outputs": [],
   "source": [
    "def by_tweets_number(mydict):\n",
    "    ''' Remove the key of user from the dictionary if his/her tweets number is zero. '''\n",
    "    total_list = list(mydict.keys())\n",
    "    remove_list = []\n",
    "    for key in total_list:\n",
    "        if len(mydict[key].inRangeDf) == 0:\n",
    "            del mydict[key]\n",
    "            remove_list.append(key)\n",
    "            total_list.remove(key)\n",
    "        else:\n",
    "            pass\n",
    "    print('Remove users:{0}'.format(remove_list))\n",
    "    return mydict"
   ]
  },
  {
   "cell_type": "code",
   "execution_count": null,
   "metadata": {
    "collapsed": true
   },
   "outputs": [],
   "source": []
  }
 ],
 "metadata": {
  "kernelspec": {
   "display_name": "Python 3",
   "language": "python",
   "name": "python3"
  },
  "language_info": {
   "codemirror_mode": {
    "name": "ipython",
    "version": 3
   },
   "file_extension": ".py",
   "mimetype": "text/x-python",
   "name": "python",
   "nbconvert_exporter": "python",
   "pygments_lexer": "ipython3",
   "version": "3.5.2"
  }
 },
 "nbformat": 4,
 "nbformat_minor": 2
}
