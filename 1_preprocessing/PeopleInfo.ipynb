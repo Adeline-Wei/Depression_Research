{
 "cells": [
  {
   "cell_type": "code",
   "execution_count": 13,
   "metadata": {
    "collapsed": true
   },
   "outputs": [],
   "source": [
    "import pandas as pd\n",
    "import datetime"
   ]
  },
  {
   "cell_type": "code",
   "execution_count": 14,
   "metadata": {
    "collapsed": true
   },
   "outputs": [],
   "source": [
    "class Patient(object):\n",
    "    totalCount = 0\n",
    "    diagnosedTimeAndText = dict()\n",
    "    with open('../0_dataset/diagnosed_tweets.csv') as open_file:\n",
    "        for line in open_file.readlines():\n",
    "            line = line.strip().split('\\t')\n",
    "            diagnosedTimeAndText[line[1]] = (line[0], line[2])\n",
    "       \n",
    "    def __init__(self, name):\n",
    "        self.name = name\n",
    "        self.df = pd.read_csv('../0_dataset/DepressionUsersTweets/'+name,sep='\\t',header=None,usecols=[2,3],names=['Date','Text'],quoting=3,error_bad_lines=False,encoding='utf-8').dropna(axis=0, how='any')\n",
    "        self.diagnosedTime = datetime.datetime.strptime(Patient.diagnosedTimeAndText[name][1], \"%Y-%m-%d %H:%M:%S\")\n",
    "        self.diagnosedTweet = Patient.diagnosedTimeAndText[name][0]\n",
    "        \n",
    "        beforeDiagosedTime = str(self.diagnosedTime - datetime.timedelta(days=90))\n",
    "        self.inRangeDf = self.df[self.df['Date'].between(beforeDiagosedTime, str(self.diagnosedTime))]\n",
    "        \n",
    "        Patient.totalCount += 1 \n",
    "        \n",
    "    def displayCount(self):\n",
    "        print(\"Total Patients {0}\".format(Patient.totalCount))\n",
    "    \n",
    "    def displayTweetsCount(self, category='inRange'):\n",
    "        if category == 'inRange':\n",
    "            return len(self.inRangeDf)\n",
    "        elif category == 'all':\n",
    "            return len(self.df)\n",
    "        else:\n",
    "            print('Please indicate category (inRange or all)')\n",
    "            return False\n",
    "        \n",
    "    def getText(self, category='inRange'):\n",
    "        if category == 'inRange':\n",
    "            return self.inRangeDf['Text'].values\n",
    "        elif category == 'all':\n",
    "            return self.df['Text'].values\n",
    "        else:\n",
    "            print('Please indicate category (inRange or all)')\n",
    "            return False"
   ]
  },
  {
   "cell_type": "code",
   "execution_count": 15,
   "metadata": {
    "collapsed": true
   },
   "outputs": [],
   "source": [
    "class Ordinary(object):\n",
    "    totalCount = 0\n",
    "\n",
    "    def __init__(self, name):\n",
    "        self.name = name\n",
    "        self.df = pd.read_csv('../0_dataset/ordinaryUsersTweets/'+name,sep='\\t',header=None,usecols=[2,3],names=['Date','Text'],quoting=3,error_bad_lines=False,encoding='utf-8').dropna(axis=0, how='any')\n",
    "        # The method to get the latest tweet is wrong\n",
    "        try:\n",
    "            self.latestTweetTime = datetime.datetime.strptime(str(self.df.iloc[-1]['Date']), \"%Y-%m-%d %H:%M:%S\")\n",
    "        except:\n",
    "            print('Error LatestTweetTime:{0}'.format(name))\n",
    "            raise Exception()\n",
    "        \n",
    "        self.latestTweetText = self.df.iloc[-1]['Text']\n",
    "        beforeLatestTweetTime = str(self.latestTweetTime - datetime.timedelta(days=90))\n",
    "        self.inRangeDf = self.df[self.df['Date'].between(beforeLatestTweetTime, str(self.latestTweetTime))]\n",
    "        \n",
    "        Ordinary.totalCount += 1 \n",
    "        \n",
    "    def displayCount(self):\n",
    "        print(\"Total Ordinarys {0}\".format(Ordinary.totalCount))\n",
    "    \n",
    "    def displayTweetsCount(self, category='inRange'):\n",
    "        if category == 'inRange':\n",
    "            return len(self.inRangeDf)\n",
    "        elif category == 'all':\n",
    "            return len(self.df)\n",
    "        else:\n",
    "            print('Please indicate category (inRange or all)')\n",
    "            return False\n",
    "        \n",
    "    def getText(self, category='inRange'):\n",
    "        if category == 'inRange':\n",
    "            return self.inRangeDf['Text'].values\n",
    "        elif category == 'all':\n",
    "            return self.df['Text'].values\n",
    "        else:\n",
    "            print('Please indicate category (inRange or all)')\n",
    "            return False"
   ]
  },
  {
   "cell_type": "code",
   "execution_count": null,
   "metadata": {
    "collapsed": true
   },
   "outputs": [],
   "source": []
  }
 ],
 "metadata": {
  "kernelspec": {
   "display_name": "Python 3",
   "language": "python",
   "name": "python3"
  },
  "language_info": {
   "codemirror_mode": {
    "name": "ipython",
    "version": 3
   },
   "file_extension": ".py",
   "mimetype": "text/x-python",
   "name": "python",
   "nbconvert_exporter": "python",
   "pygments_lexer": "ipython3",
   "version": "3.5.2"
  }
 },
 "nbformat": 4,
 "nbformat_minor": 2
}
