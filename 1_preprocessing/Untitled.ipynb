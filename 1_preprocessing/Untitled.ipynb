{
 "cells": [
  {
   "cell_type": "code",
   "execution_count": 2,
   "metadata": {
    "collapsed": true
   },
   "outputs": [],
   "source": [
    "import string\n",
    "import re\n",
    "import ipynb.fs.defs.PeopleInfo as peopleInfo\n",
    "from nltk.corpus import stopwords\n",
    "from nltk import TweetTokenizer"
   ]
  },
  {
   "cell_type": "code",
   "execution_count": 4,
   "metadata": {
    "collapsed": true
   },
   "outputs": [],
   "source": [
    "def replace_by_tag(txt):\n",
    "    txt = re.sub(r\"http\\S+\", '<URL>', txt)\n",
    "    txt = re.sub(r\"https\\S+\", '<URL>', txt)\n",
    "    txt = re.sub(r\"twitter.com/\\S+\", '<URL>', txt)\n",
    "    txt = re.sub(r\"pic.twitter.com\\S+\", '<URL>', txt)\n",
    "    txt = re.sub(r\"\\S+/\\S+\", '<URL>', txt)\n",
    "    txt = re.sub(r\"@\\S+\", '<USERMENTION>', txt)\n",
    "    txt = re.sub(r\"#\\S+\", '<HASHTAG>', txt)\n",
    "    return txt"
   ]
  },
  {
   "cell_type": "code",
   "execution_count": 6,
   "metadata": {
    "collapsed": true
   },
   "outputs": [],
   "source": [
    "patients = dict()\n",
    "ordinarys = dict()\n",
    "with open('../0_dataset/patient_ids') as r:\n",
    "    for patient in r.readlines()[:100]:\n",
    "        patient = patient.strip()\n",
    "        patients[patient] = peopleInfo.Patient(patient)\n",
    "with open('../0_dataset/ordinary_ids') as r:\n",
    "    for ordinary in r.readlines()[:100]:\n",
    "        ordinary = ordinary.strip()\n",
    "        ordinarys[ordinary] = peopleInfo.Ordinary(ordinary)"
   ]
  },
  {
   "cell_type": "code",
   "execution_count": 7,
   "metadata": {},
   "outputs": [],
   "source": [
    "group_texts = []\n",
    "base_texts = []\n",
    "\n",
    "for key in patients.keys():\n",
    "    group_texts.append(replace_by_tag('\\n'.join(patients[key].getText())))\n",
    "\n",
    "for key in ordinarys.keys():\n",
    "    base_texts.append(replace_by_tag('\\n'.join(ordinarys[key].getText())))"
   ]
  },
  {
   "cell_type": "code",
   "execution_count": 11,
   "metadata": {},
   "outputs": [
    {
     "name": "stdout",
     "output_type": "stream",
     "text": [
      "I am someone who has been diagnosed with Clinical depression and Anxiety and I think <USERMENTION> 's <USERMENTION> has honestly helped me cope.\n",
      "He didn't kill himself the way she did, he didn't say anything about the <URL> He lefts things behind. So please stop blaming the show\n",
      "The article says alleged because he left behind things for people. If I killed myself now I'd leave notes for ppl, not because of the show.\n",
      "I do not speak for everyone, I understand that. But I whole heartedly believe what they did have helped some people.\n",
      "I understand what ppl are saying, but as someone with clinical depression and tried suicide I honestly felt like this show helped me. <URL> <URL> 72867103921012737 …\n",
      "Yess! Next time you're in Cincinnati or around Cinci come to my apartment\n",
      "I miss you so much, we must hangout soon.\n",
      "<USERMENTION> <USERMENTION> <USERMENTION> <USERMENTION> <USERMENTION> <USERMENTION> <USERMENTION> make this happen pleaseeeeeeeeeeeee <URL> <URL> <URL> …\n",
      "I would sell my soul to have a <URL> piece from <USERMENTION> . I devoted my teen years to that show.\n",
      "Scrolling through Facebook and I randomly stop and see <USERMENTION> 's political posts. I may not agree at all but I love your passion for it\n",
      "AH now the options are endless\n",
      "I'm filming my first YouTube video tomorrow but I have no clue which story to tell. Most are illegal or would get <USERMENTION> in trouble..\n",
      "I love you\n",
      "Made me cry <URL> <URL> <URL> …\n",
      "<USERMENTION> has ice cream Slushies?!\n",
      "I feel like people are just sleepin on <USERMENTION> like wow pic.<URL>\n",
      "Lit pic.<URL>\n",
      "\"What do you want?\" pic.<URL>\n",
      "This employee at Walmart wanna get an attitude with me because I told him what his manager said\n",
      "I never knew I needed Shooketh by <USERMENTION> and <USERMENTION> until I heard it\n",
      "Cotton Candy Blizzards are back and so is my love for <USERMENTION>\n",
      "ME SO HARD <URL> <URL> <URL> …\n",
      "\"Where are your eyebrows at?\" My roommate to <USERMENTION>\n",
      "Love and miss you\n",
      "I still know your birthday and your mother's favorite song.\n",
      "<USERMENTION> HAPPY BIRTHDAY\n",
      "\"You're booty is so weird, when I grab it I feel like I'm grabbing a taco.\" - <USERMENTION> to me\n",
      "<USERMENTION> got me listening to <USERMENTION> like he a new thing I ain't ever heard before. Forgot how good he was\n",
      "Should I do a story time for my first video?? I have so many crazy ones that I've been to nervous to put on twitter or anywhere else\n",
      "Should I start a YouTube channel?\n",
      "If I keep my eyes closed, he looks just like you.\n",
      "Anytime doll\n",
      "<USERMENTION> 's avi\n",
      "Omg I gotta meet you finally\n",
      "Thank you!\n",
      "Love and miss you\n",
      "I got a call today for an exciting opportunity, I hope it works out.\n",
      "Relatable <URL> <URL> <URL> …\n",
      "I watched porn with <USERMENTION> once & the guy died that was in it & she texted me a year later to let me know he died & that's friendship.\n",
      "Jesus was a carpenter <USERMENTION> <USERMENTION>\n",
      "\"I only do xanax when I'm upset.\" - <USERMENTION> \"So everyday?\" - me <HASHTAG>\n",
      "I miss you so hard\n",
      "<USERMENTION> <URL> <URL> <URL> …\n",
      "If anyone is curious on how downhill my life is,I'm locked outside of my apartment sitting on the ground drinking a bud light lime-a-rita.\n",
      "The cutest boy I've ever seen just walked by me in ikea and I honestly think he was my soulmate.\n",
      "I'm sunburnt, tired, and poor.\n",
      "You're something else\n",
      "<USERMENTION> new song is and he's and I wish he could've preformed this live last year cause it's a bop.\n",
      "I'm Daulton a woman got confused & kept calling me Dakota then that lead to me being called Daquan. And I'm just really confused with life.\n",
      "This is true\n",
      "And if this isn't me I don't know what is. <URL> <URL> <URL> …\n",
      "In the McDonald's drive through, the woman working handed me my drink and said \"I forgot what this is but I promise it's what you ordered.\"\n",
      "Totally bad grammar but I was so shook\n",
      "Face timing <USERMENTION> just makes me miss her even more\n",
      "I know I'm so upset\n",
      "<USERMENTION> got thrown up on by the most worst person at LCHS and it went in her mouth! I'm dying like she just now told me\n",
      "His heart was stone, but his hands roam.\n",
      "Planned parenthood's wifi password is \"SafeSex!\" I love it\n",
      "Court in the morning and planned parenthood before noon. The life of a college kid.\n",
      "And <USERMENTION> is going to be no longer feel safe doing something that she loves.\n",
      "I feel so bad for the people at <HASHTAG> these acts of violence are not needed. People lost their life.\n",
      "Hmmmmmm\n",
      "Isn't Taylor swift in that?\n",
      "It's May...but same <URL> <URL> <URL> …\n",
      "ITS SO GOOD\n",
      "I'm two episodes behind on <USERMENTION> and I can't find them online\n",
      "<USERMENTION> is the girl who called her cheating boyfriend out at prom and lowkey she is my new hero.\n",
      "<USERMENTION> has a new song out and it's amazing and I'm dying and I love her and wow\n",
      "Some people came to my apartment to fix my bathtub it took 4 hours and they lowkey cleaned my bathroom and like straightened up my sink area\n",
      "Lowkey wanna start a YouTube channel but my life is so boring and have no clue what I'd do\n",
      "I feel like <USERMENTION> is one of those drag queens that slay as a guy or a girl\n",
      "More people would notice than you think\n",
      "I just realized how much it sucks to do you makeup and think it's done then realized way after you forgot a step.\n",
      "<USERMENTION> new song is honestly so beautiful\n",
      "Why would Paige turn down a trip to Vegas with Rainer on <USERMENTION> ?! Like that's stupid?\n",
      "<USERMENTION> makes my life a little less tragic\n",
      "<USERMENTION> tonight\n",
      "Catching up on <USERMENTION> and I think I'm in love with <USERMENTION>\n",
      "Change is good\n",
      "Passed college math twice? <USERMENTION>\n",
      "FACTS\n",
      "Take some medicine - me I ain't no bitch Daulton - <USERMENTION>\n",
      "YAY\n",
      "<USERMENTION> are in Cincinnati and I don't have tickets, I've never been more disappointed in myself.\n",
      "No pic with <USERMENTION> but it was amazing\n",
      "<USERMENTION> kicking a baby into the ocean\n",
      "<USERMENTION> <HASHTAG>\n",
      "SO CLOSE!! Come on <USERMENTION>\n",
      "Can we get a picture tonight?! Is that like an opportunity?? <USERMENTION>\n",
      "Goal: Get another picture with <USERMENTION> tonight!\n",
      "<USERMENTION> is there an opportunity to take a picture with you tonight??\n",
      "Also I don't even go to <USERMENTION> but their employees at the SCFA have changed my life! Shout out to UK!\n",
      "Update I haven't even seen him yet and I've already cried! <USERMENTION>\n",
      "<USERMENTION> gonna keep liking my tweets and we gonna have an issue, cause I'm starting to feel important. Haha\n",
      "Gonna see <USERMENTION> today and I think I might cry like last time\n",
      "Good ole <USERMENTION> pic.<URL>\n",
      "Low key just thinking about making a <USERMENTION> fan account cause that's the majority of my tweets anyways\n",
      "Amazes me that people watch YouTube and don't know who <USERMENTION> is!\n",
      "Binging <USERMENTION> at 5 in the morning has been a constant in my life lately.\n",
      "<HASHTAG>\n",
      "FACTS <URL> <URL> <URL> …\n",
      "Waiting for that response??\n",
      "How many retweets I gotta get for you to let me be in a video?? <USERMENTION>\n",
      "<USERMENTION> we met, I cried, we like each other's tweets, we both hate trump, why aren't you following me yet?? Gotta let me know\n",
      "Boyyyy quit playin and follow me already. <USERMENTION> pic.<URL>\n",
      "So I've met Tyler Oakley, he dm'd me last week, and this just happened...like boo you putting out all the signs and I'm ready pic.<URL>\n",
      "<USERMENTION> is gonna be in Kentucky next week and I can't even be happy about it right now because my life is slowly falling apart\n",
      "This just made my shitty day a little better\n",
      "Do tell what happened\n",
      "Sophomores in 13 reasons why vs me as a sophomore pic.<URL>\n",
      "It's on!!!!\n",
      "8mins <USERMENTION>\n",
      "Gonna cry for then next ten weeks in anticipation of a part of my life ending. <USERMENTION>\n",
      "This is gonna sound dumb but I honestly think <USERMENTION> helped form me into the person I am today.\n",
      "Never been more excited and sad for a PLL premier. Been here through it all! But I know <USERMENTION> killed it!\n",
      "\"I just blew my nose, I'm ready to blow other things. \"\n",
      "Nooooooooooo\n",
      "Maddy sat here on her phone and missed the WHOLE green light. We've sat through two red lights and a green light because of her!\n",
      "We wouldn't have gotten that many nuggets though\n",
      "Bought a fur vest today and I was surprised to realize it had pockets and this must be what girls feel like with dress pockets.\n",
      "I think, I died. This just happened! I met him and now he dm'd me! <USERMENTION> pic.<URL>\n",
      "Thanks <USERMENTION> for ruining me <URL> <URL> <URL> …\n",
      "Time is money, don't fuck with mine.\n",
      "I miss Mykaela so much\n",
      "I wanna stay in bed but I have work\n",
      "Bryce on <USERMENTION> should be the one who died. Not Hannah\n",
      "Episode 9 of 13 reasons why has me cryin\n",
      "Hannah deserved so much better and I know it's only a show but omg she deserved the world and everyone she cared about destroyed her\n",
      "<USERMENTION> first album just dropped and I'm living! I've been waiting my whole life for this!\n",
      "\"I got two dollars, a bottle of wine, and a dick sucking mouth.\" -M\n",
      "Please omg I would actually die of happiness this would be the best thing to ever happen to me <URL> <URL> <URL> …\n",
      "I haven't even started yet but I'm already so excited to be working in my favorite place\n",
      "I deserve more than 3am texts, I deserve more than \"Sorry I'm lonely.\" I deserve \"I miss you\", and long phone calls.\n",
      "I think you can either be friends with someone or be in love with them, you can never be both.\n",
      "Guess who just got hired at their favorite store EVER!\n",
      "Pulls out a tub of sugar. \"That looks like sand.\" - Me \"That looks like coke.\" - My manager.\n",
      "I have a job interview at my store next week and I'm so nervous.\n",
      "Just cause you put syrup on it doesn't make it pancakes.\n",
      "my friend works there, she loves it!\n",
      "where was the job?\n",
      "Please everyone listen to 3 a.m. by <USERMENTION> if you've ever been the booty call your gonna relate so hard\n",
      "Do you ever think about telling your parents something than remembering you don't have any? <URL> <URL> <URL> …\n",
      "<USERMENTION> song TG4M better be her next hit! It's so good and just screams Top40 radio.\n",
      "Everybody makes mistakes, don't let me be yours.\n",
      "you're my perfect girl\n",
      "I'd take two bullets just to see you\n",
      "of course\n",
      "awesome! But you'll look good in anything\n",
      "since we're best friends my vote should count for more than one and I like 2\n",
      "Sends <USERMENTION> an old picture of me and all she says is \"So when did it get better??\"\n",
      "I applied to work at <USERMENTION> and if I get the job their it'll be the happiest day of my life\n",
      "I'd leave you for the person you used to be.\n",
      "<USERMENTION> <USERMENTION> <URL> <URL> <URL> …\n",
      "This made me happy <URL> <URL> <URL> …\n",
      "<USERMENTION>\n",
      "<USERMENTION> got caught speeding by an airplane and I'm genuinely so confused on modern technology and the police.\n",
      "<USERMENTION> <URL> <URL> <URL> …\n"
     ]
    }
   ],
   "source": [
    "for text in group_texts[1].split('\\n'):\n",
    "    print(text)"
   ]
  },
  {
   "cell_type": "code",
   "execution_count": 12,
   "metadata": {},
   "outputs": [
    {
     "data": {
      "text/plain": [
       "'!\"#$%&\\'()*+,-./:;<=>?@[\\\\]^_`{|}~'"
      ]
     },
     "execution_count": 12,
     "metadata": {},
     "output_type": "execute_result"
    }
   ],
   "source": [
    "string.punctuation"
   ]
  },
  {
   "cell_type": "code",
   "execution_count": 15,
   "metadata": {},
   "outputs": [
    {
     "data": {
      "text/plain": [
       "'# # #'"
      ]
     },
     "execution_count": 15,
     "metadata": {},
     "output_type": "execute_result"
    }
   ],
   "source": [
    "re.sub(r\"[\\'!\\\"#$%&\\'()*+,-./:;<=>?@[\\\\]^_`{|}~\\']+\", '<PUNT>', '# # #')"
   ]
  },
  {
   "cell_type": "code",
   "execution_count": null,
   "metadata": {
    "collapsed": true
   },
   "outputs": [],
   "source": []
  }
 ],
 "metadata": {
  "kernelspec": {
   "display_name": "Python 3",
   "language": "python",
   "name": "python3"
  },
  "language_info": {
   "codemirror_mode": {
    "name": "ipython",
    "version": 3
   },
   "file_extension": ".py",
   "mimetype": "text/x-python",
   "name": "python",
   "nbconvert_exporter": "python",
   "pygments_lexer": "ipython3",
   "version": "3.5.2"
  }
 },
 "nbformat": 4,
 "nbformat_minor": 2
}
