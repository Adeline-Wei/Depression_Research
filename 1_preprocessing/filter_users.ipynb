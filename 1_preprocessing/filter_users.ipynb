{
 "cells": [
  {
   "cell_type": "code",
   "execution_count": 1,
   "metadata": {
    "collapsed": true
   },
   "outputs": [],
   "source": [
    "import ipynb.fs.defs.PeopleInfo as peopleInfo"
   ]
  },
  {
   "cell_type": "code",
   "execution_count": 2,
   "metadata": {
    "collapsed": true
   },
   "outputs": [],
   "source": [
    "patients = dict()\n",
    "ordinarys = dict()"
   ]
  },
  {
   "cell_type": "code",
   "execution_count": 16,
   "metadata": {
    "collapsed": true
   },
   "outputs": [],
   "source": [
    "with open('../0_dataset/patient_ids') as r:\n",
    "    for patient in r.readlines():\n",
    "        patient = patient.strip()\n",
    "        patients[patient] = peopleInfo.Patient(patient)"
   ]
  },
  {
   "cell_type": "code",
   "execution_count": 18,
   "metadata": {
    "scrolled": true
   },
   "outputs": [
    {
     "name": "stdout",
     "output_type": "stream",
     "text": [
      "1606696878\n",
      "165807638\n",
      "18348376\n",
      "2189018300\n",
      "226849732\n",
      "2273345432\n",
      "2283497768\n",
      "2327913294\n",
      "2387966226\n",
      "2431539826\n",
      "2563116830\n",
      "2646897072\n",
      "2682764185\n",
      "2803030670\n",
      "2832498761\n",
      "2932144968\n",
      "2965697195\n",
      "2986425821\n",
      "3035771806\n",
      "3106231538\n",
      "3240426893\n",
      "38464282\n",
      "42910151\n",
      "46838244\n",
      "47215498\n",
      "545730054\n",
      "614672119\n",
      "707588191\n",
      "711193136\n",
      "75161586\n",
      "763732375\n",
      "96768120\n"
     ]
    }
   ],
   "source": [
    "with open('../0_dataset/ordinary_ids') as r:\n",
    "    for ordinary in r.readlines():\n",
    "        ordinary = ordinary.strip()\n",
    "        try:\n",
    "            ordinarys[ordinary] = peopleInfo.Ordinary(ordinary)\n",
    "        except:\n",
    "            pass"
   ]
  },
  {
   "cell_type": "code",
   "execution_count": 48,
   "metadata": {
    "collapsed": true
   },
   "outputs": [],
   "source": [
    "patients_bar_dict = dict()\n",
    "ordinarys_bar_dict = dict()\n",
    "for i in range(20):\n",
    "    patients_bar_dict[i] = 0\n",
    "    ordinarys_bar_dict[i] = 0"
   ]
  },
  {
   "cell_type": "code",
   "execution_count": 54,
   "metadata": {
    "scrolled": false
   },
   "outputs": [],
   "source": [
    "for key in patients:\n",
    "    try:\n",
    "        num = int(len(patients[key].inRangeDf)/100)-1\n",
    "        patients_bar_dict[num] += 1\n",
    "    except KeyError:\n",
    "        patients_bar_dict[0] += 1"
   ]
  },
  {
   "cell_type": "code",
   "execution_count": 55,
   "metadata": {
    "collapsed": true
   },
   "outputs": [],
   "source": [
    "for key in ordinarys:\n",
    "    try:\n",
    "        num = int(len(ordinarys[key].inRangeDf)/100)-1\n",
    "        ordinarys_bar_dict[num] += 1\n",
    "    except KeyError:\n",
    "        ordinarys_bar_dict[0] += 1"
   ]
  },
  {
   "cell_type": "code",
   "execution_count": 60,
   "metadata": {
    "collapsed": true
   },
   "outputs": [],
   "source": [
    "trace_patients = go.Bar(x=list(patients_bar_dict.keys()),\n",
    "                  y=list(patients_bar_dict.values()),\n",
    "                  name='Patients',\n",
    "                  marker=dict(color='#ffcdd2'))\n",
    "\n",
    "data = [trace_patients]\n",
    "\n",
    "layout = go.Layout(title='比較',\n",
    "                xaxis=dict(title='發文數量'),\n",
    "                yaxis=dict(title='使用者數量'))\n",
    "\n",
    "fig = go.Figure(data=data, layout=layout)"
   ]
  },
  {
   "cell_type": "code",
   "execution_count": 61,
   "metadata": {},
   "outputs": [
    {
     "data": {
      "text/html": [
       "<iframe id=\"igraph\" scrolling=\"no\" style=\"border:none;\" seamless=\"seamless\" src=\"https://plot.ly/~Adeline/176.embed\" height=\"525px\" width=\"100%\"></iframe>"
      ],
      "text/plain": [
       "<plotly.tools.PlotlyDisplay object>"
      ]
     },
     "execution_count": 61,
     "metadata": {},
     "output_type": "execute_result"
    }
   ],
   "source": [
    "py.iplot(fig)"
   ]
  },
  {
   "cell_type": "code",
   "execution_count": 62,
   "metadata": {
    "scrolled": true
   },
   "outputs": [],
   "source": [
    "trace_ordinarys = go.Bar(x=list(ordinarys_bar_dict.keys()),\n",
    "                  y=list(ordinarys_bar_dict.values()),\n",
    "                  name='Ordinarys',\n",
    "                  marker=dict(color='#ffcdd2'))\n",
    "\n",
    "data = [trace_ordinarys]\n",
    "\n",
    "layout = go.Layout(title='比較',\n",
    "                xaxis=dict(title='發文數量'),\n",
    "                yaxis=dict(title='使用者數量'))\n",
    "\n",
    "fig = go.Figure(data=data, layout=layout)"
   ]
  },
  {
   "cell_type": "code",
   "execution_count": 63,
   "metadata": {},
   "outputs": [
    {
     "data": {
      "text/html": [
       "<iframe id=\"igraph\" scrolling=\"no\" style=\"border:none;\" seamless=\"seamless\" src=\"https://plot.ly/~Adeline/178.embed\" height=\"525px\" width=\"100%\"></iframe>"
      ],
      "text/plain": [
       "<plotly.tools.PlotlyDisplay object>"
      ]
     },
     "execution_count": 63,
     "metadata": {},
     "output_type": "execute_result"
    }
   ],
   "source": [
    "py.iplot(fig)"
   ]
  },
  {
   "cell_type": "code",
   "execution_count": null,
   "metadata": {
    "collapsed": true
   },
   "outputs": [],
   "source": []
  }
 ],
 "metadata": {
  "kernelspec": {
   "display_name": "Python 3",
   "language": "python",
   "name": "python3"
  },
  "language_info": {
   "codemirror_mode": {
    "name": "ipython",
    "version": 3
   },
   "file_extension": ".py",
   "mimetype": "text/x-python",
   "name": "python",
   "nbconvert_exporter": "python",
   "pygments_lexer": "ipython3",
   "version": "3.6.2"
  }
 },
 "nbformat": 4,
 "nbformat_minor": 2
}
