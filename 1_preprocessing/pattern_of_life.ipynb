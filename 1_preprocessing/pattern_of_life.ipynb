{
 "cells": [
  {
   "cell_type": "code",
   "execution_count": 379,
   "metadata": {},
   "outputs": [],
   "source": [
    "import re, math\n",
    "import operator\n",
    "import numpy as np\n",
    "import pandas as pd\n",
    "from sklearn.ensemble import RandomForestClassifier\n",
    "from sklearn.cross_validation import StratifiedShuffleSplit\n",
    "from random import randint\n",
    "from nltk.corpus import stopwords\n",
    "from nltk import TweetTokenizer\n",
    "import sys, os\n",
    "global stop_words\n",
    "stop_words = stopwords.words('english')\n",
    "import datetime\n",
    "from matplotlib import dates\n",
    "import matplotlib.pyplot as plt\n",
    "plt.style.use('seaborn')\n",
    "import matplotlib.dates as mdates\n",
    "from ipywidgets import IntProgress\n",
    "from IPython.display import display\n",
    "import string\n",
    "sys.path.append('../English_to_IPA/src/')\n",
    "import conversion as cv\n",
    "sys.path.append('../age_gender_predictor/')\n",
    "import predictor\n",
    "import copy"
   ]
  },
  {
   "cell_type": "code",
   "execution_count": 35,
   "metadata": {
    "collapsed": true
   },
   "outputs": [],
   "source": [
    "class Patient(object):\n",
    "    totalCount = 0\n",
    "    \n",
    "    def __init__(self, userId):\n",
    "        self.userId = userId\n",
    "        self.df = pd.read_csv('../0_dataset/DepressionUsersTweets/Patch0_data_PoL/'+userId,sep='\\t',header=None,usecols=[0,1,2,3,4,5,6,7],names=['Date','Id','Name','Text','Senti','Emo1','Emo2','Ambiguos'],quoting=3,error_bad_lines=False,encoding='utf-8').dropna(axis=0, how='any')\n",
    "        self.df = self.df.drop_duplicates(subset='Date', keep='first')\n",
    "        self.df = self.df.set_index('Date')\n",
    "        self.df.index = pd.to_datetime(self.df.index)\n",
    "        \n",
    "        Patient.totalCount += 1 \n",
    "        \n",
    "    def displayCount(self):\n",
    "        print(\"Total Patients {0}\".format(Patient.totalCount))\n",
    "    \n",
    "    def displayTweetsCount(self):\n",
    "        return len(self.df)\n",
    "        \n",
    "    def getText(self):\n",
    "        return self.df['Text'].values"
   ]
  },
  {
   "cell_type": "code",
   "execution_count": 71,
   "metadata": {
    "collapsed": true
   },
   "outputs": [],
   "source": [
    "class Ordinary(object):\n",
    "    totalCount = 0\n",
    "    \n",
    "       \n",
    "    def __init__(self, userId):\n",
    "        self.userId = userId\n",
    "        self.df = pd.read_csv('../0_dataset/OrdinaryUsersTweets_PoL/'+userId,sep='\\t',header=None,usecols=[0,1,2,3,4,5,6,7],names=['Date','Id','Name','Text','Senti','Emo1','Emo2','Ambiguos'],quoting=3,error_bad_lines=False,encoding='utf-8').dropna(axis=0, how='any')\n",
    "        self.df = self.df.drop_duplicates(subset='Date', keep='first')\n",
    "        self.df = self.df.set_index('Date')\n",
    "        self.df.index = pd.to_datetime(self.df.index)\n",
    "        self.df = self.df.sort_index(ascending=False)\n",
    "        \n",
    "        Patient.totalCount += 1 \n",
    "        \n",
    "    def displayCount(self):\n",
    "        print(\"Total Patients {0}\".format(Patient.totalCount))\n",
    "    \n",
    "    def displayTweetsCount(self):\n",
    "        return len(self.df)\n",
    "       \n",
    "        \n",
    "    def getText(self):\n",
    "        return self.df['Text'].values"
   ]
  },
  {
   "cell_type": "code",
   "execution_count": 17,
   "metadata": {
    "collapsed": true
   },
   "outputs": [],
   "source": [
    "def findUserIdFromDataset(group, num):\n",
    "    userIds = []\n",
    "    print(group+str(num))\n",
    "    with open('../0_dataset/' + group + 'Dataset' + str(num)) as open_file:\n",
    "        for line in open_file.readlines():\n",
    "            userIds.append(line.strip().split('\\t')[0])\n",
    "            \n",
    "    return userIds"
   ]
  },
  {
   "cell_type": "code",
   "execution_count": 22,
   "metadata": {},
   "outputs": [],
   "source": [
    "def readID(filename):\n",
    "    ids = []\n",
    "    with open(filename) as openFile:\n",
    "        for line in openFile.readlines():\n",
    "            ids.append(line.strip())\n",
    "            \n",
    "    return ids"
   ]
  },
  {
   "cell_type": "code",
   "execution_count": 238,
   "metadata": {
    "collapsed": true
   },
   "outputs": [],
   "source": [
    "def tokenize(text):\n",
    "    textList = re.findall('(?u)\\\\b[a-zA-Z]\\\\w{0,}\\\\b', text)\n",
    "    return textList\n",
    "\n",
    "def replace_by_symbols(txt):\n",
    "    txt = re.sub(r\"https\\S+\", '', txt)\n",
    "    txt = re.sub(r\"http\\S+\", '', txt)\n",
    "    txt = re.sub(r\"pic.twitter.com\\S+\", '', txt)\n",
    "    txt = re.sub(r\"twitter.com/\\S+\", '', txt)\n",
    "    txt = re.sub(r\"\\S+/\\S+\", '', txt)\n",
    "    txt = re.sub(r\"@\\S+\", '', txt)\n",
    "    txt = re.sub(r\"#\\S+\", '', txt)\n",
    "    txt = re.sub(r\"idk\", 'i do not know', txt)   # idk: i don't know\n",
    "    txt = re.sub(r\"tbh\", 'to be honest', txt)   # tbh: to be honest\n",
    "    txt = re.sub(r\"tho\", 'though', txt)   # tho\n",
    "    txt = re.sub(r\"i\\'m\", 'i am', txt)\n",
    "    txt = re.sub(r\"you\\'re\", 'you are', txt)\n",
    "    txt = re.sub(r\"he\\'s\", 'he is', txt)\n",
    "    txt = re.sub(r\"she\\'s\", 'she is', txt)\n",
    "    txt = re.sub(r\"it\\'s\", 'it is', txt)\n",
    "    txt = re.sub(r\"we\\'re\", 'we are', txt)\n",
    "    txt = re.sub(r\"they\\'re\", 'they are', txt)\n",
    "    txt = re.sub(r\"isn\\'t\", 'is not', txt)\n",
    "    txt = re.sub(r\"don\\'t\", 'do not', txt)\n",
    "    txt = re.sub(r\"doesn\\'t\", 'does not', txt)\n",
    "    txt = re.sub(r\"didn\\'t\", 'did not', txt)\n",
    "    txt = re.sub(r\"wasn\\'t\", 'was not', txt)\n",
    "    txt = re.sub(r\"weren\\'t\", 'were not', txt)\n",
    "    txt = re.sub(r\"haven\\'t\", 'have not', txt)\n",
    "    txt = re.sub(r\"can\\'t\", 'can not', txt)\n",
    "    txt = re.sub(r\"couldn\\'t\", 'could not', txt)\n",
    "    txt = re.sub(r\"wouldn\\'t\", 'would not', txt)\n",
    "    txt = re.sub(r\"shouldn\\'t\", 'should not', txt)\n",
    "    txt = re.sub(r\"&amp\", '', txt)\n",
    "    return txt"
   ]
  },
  {
   "cell_type": "markdown",
   "metadata": {},
   "source": [
    "# Read UserID"
   ]
  },
  {
   "cell_type": "code",
   "execution_count": 19,
   "metadata": {},
   "outputs": [],
   "source": [
    "GD1, GD2, GD3 = ([] for i in range(3))\n",
    "BD1, BD2, BD3 = ([] for i in range(3))"
   ]
  },
  {
   "cell_type": "code",
   "execution_count": 63,
   "metadata": {
    "collapsed": true
   },
   "outputs": [],
   "source": [
    "GD1 = readID('../0_dataset/patientDataset1ID')\n",
    "GD2 = readID('../0_dataset/patientDataset2ID')\n",
    "GD3 = readID('../0_dataset/patientDataset3ID')\n",
    "BD1 = readID('../0_dataset/ordinaryDataset1ID')\n",
    "BD2 = readID('../0_dataset/ordinaryDataset2ID')\n",
    "BD3 = readID('../0_dataset/ordinaryDataset3ID')"
   ]
  },
  {
   "cell_type": "code",
   "execution_count": 64,
   "metadata": {},
   "outputs": [
    {
     "name": "stdout",
     "output_type": "stream",
     "text": [
      "CPU times: user 2.92 s, sys: 28 ms, total: 2.95 s\n",
      "Wall time: 3.3 s\n"
     ]
    }
   ],
   "source": [
    "%%time\n",
    "patientsD1 = dict()\n",
    "patientsD2 = dict()\n",
    "patientsD3 = dict()\n",
    "\n",
    "for ele in GD1:\n",
    "    patientsD1[ele] = Patient(ele)\n",
    "for ele in GD2:\n",
    "    patientsD2[ele] = Patient(ele)\n",
    "for ele in GD3:\n",
    "    patientsD3[ele] = Patient(ele)"
   ]
  },
  {
   "cell_type": "code",
   "execution_count": 72,
   "metadata": {},
   "outputs": [
    {
     "name": "stdout",
     "output_type": "stream",
     "text": [
      "CPU times: user 1.93 s, sys: 16 ms, total: 1.94 s\n",
      "Wall time: 2.81 s\n"
     ]
    }
   ],
   "source": [
    "%%time\n",
    "ordinarysD1 = dict()\n",
    "ordinarysD2 = dict()\n",
    "ordinarysD3 = dict()\n",
    "\n",
    "for ele in BD1:\n",
    "    ordinarysD1[ele] = Ordinary(ele)\n",
    "for ele in BD2:\n",
    "    ordinarysD2[ele] = Ordinary(ele)\n",
    "for ele in BD3:\n",
    "    ordinarysD3[ele] = Ordinary(ele)"
   ]
  },
  {
   "cell_type": "markdown",
   "metadata": {},
   "source": [
    "# *** eSPE V2 ***"
   ]
  },
  {
   "cell_type": "code",
   "execution_count": 247,
   "metadata": {
    "collapsed": true
   },
   "outputs": [],
   "source": [
    "eSPEDictV2 = dict()\n",
    "with open('eSPEPhonologicalTableV2') as openFile:\n",
    "    for line in openFile.readlines():\n",
    "        line = line.strip().split('\\t')\n",
    "        eSPEDictV2[line[0]] = np.array([eval(x) for x in line[1:]])\n",
    "        \n",
    "def getTweetScoreV2(tweet):\n",
    "    wordCount = 0\n",
    "    words = tokenize(tweet)\n",
    "    score = np.zeros((8,), dtype=np.int)\n",
    "    for word in words:\n",
    "        # 字典裡找不到這個字\n",
    "        cmu, ipa = cv.convert(word)\n",
    "        ipa = re.sub('[ˌˈ ]' ,'' ,ipa)\n",
    "        if '*' in ipa:\n",
    "            continue\n",
    "        wordCount += 1\n",
    "        i = 0\n",
    "        while i < len(ipa):\n",
    "            # 最後一個音標\n",
    "            if i == len(ipa)-1:\n",
    "                sym = ipa[i]\n",
    "                score += eSPEDictV2[sym]\n",
    "                i += 1\n",
    "            # 非最後一個音標\n",
    "            else:\n",
    "                try:\n",
    "                    sym = ipa[i] + ipa[i+1]\n",
    "                    score += eSPEDictV2[sym]\n",
    "                    i += 2\n",
    "                except KeyError:\n",
    "                    sym = ipa[i]\n",
    "                    score += eSPEDictV2[sym]\n",
    "                    i += 1\n",
    "\n",
    "    score = np.append(score, wordCount)\n",
    "    return score\n",
    "\n",
    "# Input:  該群人的文字\n",
    "# Return: 該群人的聲音分數\n",
    "def getPhonologicalScores(groupText):\n",
    "    groupScoresV2 = []\n",
    "    for i, person in enumerate(groupText):\n",
    "        tweets = person.split('\\n')\n",
    "        score = np.zeros((9,), dtype=np.int)\n",
    "        for tweet in tweets:\n",
    "            score += getTweetScoreV2(tweet)\n",
    "        groupScoresV2.append(list(score))\n",
    "    \n",
    "    return groupScoresV2"
   ]
  },
  {
   "cell_type": "code",
   "execution_count": 402,
   "metadata": {
    "collapsed": true
   },
   "outputs": [],
   "source": [
    "def standardizeFeatures(featuresList):\n",
    "    ''' 調整原始特徵數（以probability取代quntity）\n",
    "        Parameter (textList): 該群使用者的特徵 List\n",
    "        Return: 調整過後的 List\n",
    "    '''\n",
    "    \n",
    "    total = []\n",
    "    \n",
    "    for features in featuresList:\n",
    "        standardizedFeatures = []\n",
    "        length = len(features)\n",
    "        for i, ele in enumerate(features):\n",
    "            if i != (length-1):\n",
    "                if features[-1] == 0:\n",
    "                    standardizedFeatures.append(0)\n",
    "                else:\n",
    "                    standardizedFeatures.append(round(ele/features[-1],2))\n",
    "            else:\n",
    "                if features[-1] == 0:\n",
    "                    standardizedFeatures.append(0)\n",
    "                else:\n",
    "                    standardizedFeatures.append(features[-1])\n",
    "        total.append(standardizedFeatures[0:-1])\n",
    "    return total"
   ]
  },
  {
   "cell_type": "markdown",
   "metadata": {},
   "source": [
    "# *** Pattern of Life ***"
   ]
  },
  {
   "cell_type": "code",
   "execution_count": 109,
   "metadata": {
    "collapsed": true
   },
   "outputs": [],
   "source": [
    "tweetTknzr = TweetTokenizer()"
   ]
  },
  {
   "cell_type": "markdown",
   "metadata": {},
   "source": [
    "# Daily Tweet Frequency"
   ]
  },
  {
   "cell_type": "code",
   "execution_count": 299,
   "metadata": {
    "collapsed": true
   },
   "outputs": [],
   "source": [
    "def getTweetRate(df):\n",
    "    totalTweets = len(df)\n",
    "    delta_time = np.max(df.index.values) - np.min(df.index.values)\n",
    "    totla_duration = (delta_time).astype('timedelta64[h]') / np.timedelta64(24, 'h')\n",
    "    try:\n",
    "        return totalTweets / float(totla_duration)\n",
    "    except ZeroDivisionError:\n",
    "        return 0"
   ]
  },
  {
   "cell_type": "markdown",
   "metadata": {},
   "source": [
    "# Mention Ratio"
   ]
  },
  {
   "cell_type": "code",
   "execution_count": 121,
   "metadata": {
    "collapsed": true
   },
   "outputs": [],
   "source": [
    "def thirdPronuonDetect(words, matcher=re.compile(\"@[a-z]+\")):\n",
    "    for word in words:\n",
    "        if word == \"@\":\n",
    "            continue\n",
    "        elif matcher.search(word):\n",
    "            return True\n",
    "    return False"
   ]
  },
  {
   "cell_type": "code",
   "execution_count": 266,
   "metadata": {
    "collapsed": true
   },
   "outputs": [],
   "source": [
    "def getMentionRate(df):\n",
    "    ''' 發文提到別人的比例 '''\n",
    "    \n",
    "    totalTweets = len(df)\n",
    "    total_mentions = 0\n",
    "    for item in df.iterrows():\n",
    "        if thirdPronuonDetect(tweetTknzr.tokenize(item[1]['Text'])):\n",
    "            total_mentions += 1\n",
    "\n",
    "    return total_mentions/float(totalTweets)"
   ]
  },
  {
   "cell_type": "markdown",
   "metadata": {},
   "source": [
    "# Frequent Mentions"
   ]
  },
  {
   "cell_type": "code",
   "execution_count": 123,
   "metadata": {
    "collapsed": true
   },
   "outputs": [],
   "source": [
    "def getFrequentMetions(df, lowerbound=3):\n",
    "    friends_mentions = {}\n",
    "    for item in df.iterrows():\n",
    "        for word in tweetTknzr.tokenize(item[1]['Text']):\n",
    "            if word[0] == '@' and len(word) > 1:\n",
    "                friends_mentions[word] = friends_mentions.get(word, 0) +1\n",
    "    frequent_frients = [screen_name for screen_name, mentions in friends_mentions.items() if mentions >= lowerbound]\n",
    "\n",
    "    return len(frequent_frients)"
   ]
  },
  {
   "cell_type": "markdown",
   "metadata": {},
   "source": [
    "# Unique Mentions"
   ]
  },
  {
   "cell_type": "code",
   "execution_count": 127,
   "metadata": {
    "collapsed": true
   },
   "outputs": [],
   "source": [
    "def getUniqueMentions(df):\n",
    "    totalTweets = len(df)\n",
    "    friends_set = set()\n",
    "    for item in df.iterrows():\n",
    "        for word in tweetTknzr.tokenize(item[1]['Text']):\n",
    "            if word[0] == '@' and len(word) > 1:\n",
    "                friends_set.add(word)\n",
    "                \n",
    "    return len(friends_set)"
   ]
  },
  {
   "cell_type": "markdown",
   "metadata": {},
   "source": [
    "# Gender / Age Query Function"
   ]
  },
  {
   "cell_type": "code",
   "execution_count": 267,
   "metadata": {
    "collapsed": true
   },
   "outputs": [],
   "source": [
    "def getAge(df):\n",
    "    # This function returns a float, representing the age. \n",
    "    texts = \"\"\n",
    "    for item in df.iterrows():\n",
    "        texts += item[1]['Text'] + \"\\n\"\n",
    "    return predictor.get_age(texts)\n",
    "\n",
    "def getGender(df):\n",
    "    # This function returns a float. Positive valuse represents female and vice versa.\n",
    "    texts = \"\"\n",
    "    for text in df.iterrows():\n",
    "        texts += item[1]['Text'] + \"\\n\"\n",
    "    return predictor.get_gender(texts)"
   ]
  },
  {
   "cell_type": "markdown",
   "metadata": {},
   "source": [
    "# Emotion Scores"
   ]
  },
  {
   "cell_type": "code",
   "execution_count": 268,
   "metadata": {
    "collapsed": true
   },
   "outputs": [],
   "source": [
    "def getEmotionsDict(df):\n",
    "    user = df['Id'][0]\n",
    "    tweetsCount = 0\n",
    "    emotionDict = {\"joy\":0,\"sadness\": 0,\"fear\":0,\"anticipation\": 0,\"anger\":0,\"trust\": 0,\"disgust\": 0,\"surprise\" : 0}\n",
    "    for item in df.iterrows():\n",
    "        if item[1]['Ambiguos'] != 'yes':\n",
    "            tweetsCount += 1\n",
    "            emotion = item[1]['Emo1']\n",
    "            emotionDict[emotion] += 1\n",
    "    \n",
    "    for emotion in emotionDict:\n",
    "            if tweetsCount == 0:\n",
    "                emotionDict[emotion] = 0\n",
    "            else:\n",
    "                emotionDict[emotion] = float(emotionDict[emotion]) / tweetsCount\n",
    "    \n",
    "    return emotionDict"
   ]
  },
  {
   "cell_type": "markdown",
   "metadata": {},
   "source": [
    "# Positive / Negative Ratio"
   ]
  },
  {
   "cell_type": "code",
   "execution_count": 269,
   "metadata": {
    "collapsed": true
   },
   "outputs": [],
   "source": [
    "def getNegativeRatio(df):\n",
    "    totalTweets = len(df)\n",
    "    return sum(df.Senti == -1) / float(totalTweets)"
   ]
  },
  {
   "cell_type": "code",
   "execution_count": 270,
   "metadata": {
    "collapsed": true
   },
   "outputs": [],
   "source": [
    "def getPositiveRatio(df):\n",
    "    totalTweets = len(df)\n",
    "    return sum(df.Senti == 1) / float(totalTweets)"
   ]
  },
  {
   "cell_type": "markdown",
   "metadata": {},
   "source": [
    "# Get Pattern of Life"
   ]
  },
  {
   "cell_type": "code",
   "execution_count": 272,
   "metadata": {},
   "outputs": [],
   "source": [
    "def getPatternOfLifeFeatures(df):\n",
    "    score = np.zeros((17,), dtype=np.float)\n",
    "    score[0] = round(getTweetRate(df), 2)\n",
    "    score[1] = round(getMentionRate(df), 2)\n",
    "    score[2] = getFrequentMetions(df)\n",
    "    score[3] = getUniqueMentions(df)\n",
    "    score[4] = round(getAge(df), 1)\n",
    "    if getGender(df) >= 0:\n",
    "        score[5] = 1\n",
    "    else:\n",
    "        score[6] = 0\n",
    "    \n",
    "    emotionsDict = getEmotionsDict(df)\n",
    "    score[7] = round(emotionsDict[\"joy\"], 2)\n",
    "    score[8] = round(emotionsDict[\"sadness\"], 2)\n",
    "    score[9] = round(emotionsDict[\"fear\"], 2)\n",
    "    score[10] = round(emotionsDict[\"anticipation\"], 2)\n",
    "    score[11] = round(emotionsDict[\"anger\"], 2)\n",
    "    score[12] = round(emotionsDict[\"trust\"], 2)\n",
    "    score[13] = round(emotionsDict[\"disgust\"], 2)\n",
    "    score[14] = round(emotionsDict[\"surprise\"], 2)\n",
    "    score[15] = round(getPositiveRatio(df), 2)\n",
    "    score[16] = round(getNegativeRatio(df), 2)\n",
    "    \n",
    "    return list(score)"
   ]
  },
  {
   "cell_type": "markdown",
   "metadata": {},
   "source": [
    "# Playgound Here"
   ]
  },
  {
   "cell_type": "code",
   "execution_count": 107,
   "metadata": {},
   "outputs": [],
   "source": [
    "test = ordinarysD1['1007626946'].df"
   ]
  },
  {
   "cell_type": "code",
   "execution_count": 337,
   "metadata": {},
   "outputs": [
    {
     "ename": "ValueError",
     "evalue": "operands could not be broadcast together with shapes (17,) (9,) ",
     "output_type": "error",
     "traceback": [
      "\u001b[0;31m---------------------------------------------------------------------------\u001b[0m",
      "\u001b[0;31mValueError\u001b[0m                                Traceback (most recent call last)",
      "\u001b[0;32m<ipython-input-337-6de4b843d430>\u001b[0m in \u001b[0;36m<module>\u001b[0;34m()\u001b[0m\n\u001b[0;32m----> 1\u001b[0;31m \u001b[0mnp\u001b[0m\u001b[0;34m.\u001b[0m\u001b[0marray\u001b[0m\u001b[0;34m(\u001b[0m\u001b[0;34m[\u001b[0m\u001b[0mi\u001b[0m\u001b[0;34m+\u001b[0m\u001b[0mj\u001b[0m \u001b[0;32mfor\u001b[0m \u001b[0mi\u001b[0m\u001b[0;34m,\u001b[0m \u001b[0mj\u001b[0m \u001b[0;32min\u001b[0m \u001b[0mzip\u001b[0m\u001b[0;34m(\u001b[0m\u001b[0mgroupD1PoL\u001b[0m\u001b[0;34m,\u001b[0m \u001b[0mgroupD1Sound\u001b[0m\u001b[0;34m)\u001b[0m\u001b[0;34m]\u001b[0m\u001b[0;34m)\u001b[0m\u001b[0;34m\u001b[0m\u001b[0m\n\u001b[0m",
      "\u001b[0;32m<ipython-input-337-6de4b843d430>\u001b[0m in \u001b[0;36m<listcomp>\u001b[0;34m(.0)\u001b[0m\n\u001b[0;32m----> 1\u001b[0;31m \u001b[0mnp\u001b[0m\u001b[0;34m.\u001b[0m\u001b[0marray\u001b[0m\u001b[0;34m(\u001b[0m\u001b[0;34m[\u001b[0m\u001b[0mi\u001b[0m\u001b[0;34m+\u001b[0m\u001b[0mj\u001b[0m \u001b[0;32mfor\u001b[0m \u001b[0mi\u001b[0m\u001b[0;34m,\u001b[0m \u001b[0mj\u001b[0m \u001b[0;32min\u001b[0m \u001b[0mzip\u001b[0m\u001b[0;34m(\u001b[0m\u001b[0mgroupD1PoL\u001b[0m\u001b[0;34m,\u001b[0m \u001b[0mgroupD1Sound\u001b[0m\u001b[0;34m)\u001b[0m\u001b[0;34m]\u001b[0m\u001b[0;34m)\u001b[0m\u001b[0;34m\u001b[0m\u001b[0m\n\u001b[0m",
      "\u001b[0;31mValueError\u001b[0m: operands could not be broadcast together with shapes (17,) (9,) "
     ]
    }
   ],
   "source": []
  },
  {
   "cell_type": "code",
   "execution_count": 387,
   "metadata": {},
   "outputs": [
    {
     "data": {
      "text/plain": [
       "[array([  1.21300000e+01,   1.00000000e-02,   0.00000000e+00,\n",
       "          5.00000000e+00,   2.12000000e+01,   1.00000000e+00,\n",
       "          0.00000000e+00,   7.00000000e-02,   5.40000000e-01,\n",
       "          8.00000000e-02,   5.00000000e-02,   1.30000000e-01,\n",
       "          2.00000000e-02,   9.00000000e-02,   3.00000000e-02,\n",
       "          4.00000000e-02,   4.00000000e-01]),\n",
       " array([  2.27000000e+00,   1.00000000e-02,   4.00000000e+00,\n",
       "          7.00000000e+00,   1.66000000e+01,   1.00000000e+00,\n",
       "          0.00000000e+00,   1.50000000e-01,   3.70000000e-01,\n",
       "          1.00000000e-02,   1.80000000e-01,   1.10000000e-01,\n",
       "          6.00000000e-02,   9.00000000e-02,   3.00000000e-02,\n",
       "          1.20000000e-01,   2.20000000e-01]),\n",
       " array([  0.42,   0.29,   1.  ,   8.  ,  13.5 ,   1.  ,   0.  ,   0.  ,\n",
       "          0.45,   0.  ,   0.18,   0.18,   0.09,   0.09,   0.  ,   0.12,\n",
       "          0.06]),\n",
       " array([  1.88000000e+00,   1.40000000e-01,   2.00000000e+00,\n",
       "          4.70000000e+01,   2.26000000e+01,   1.00000000e+00,\n",
       "          0.00000000e+00,   2.00000000e-01,   2.20000000e-01,\n",
       "          1.10000000e-01,   4.00000000e-02,   7.00000000e-02,\n",
       "          1.60000000e-01,   1.00000000e-01,   8.00000000e-02,\n",
       "          2.00000000e-01,   1.40000000e-01]),\n",
       " array([  6.95700000e+01,   1.70000000e-01,   3.70000000e+02,\n",
       "          9.24000000e+02,   1.87000000e+01,   1.00000000e+00,\n",
       "          0.00000000e+00,   1.10000000e-01,   3.50000000e-01,\n",
       "          4.00000000e-02,   1.20000000e-01,   9.00000000e-02,\n",
       "          7.00000000e-02,   1.80000000e-01,   5.00000000e-02,\n",
       "          4.00000000e-02,   1.20000000e-01]),\n",
       " array([  8.85000000e+00,   4.10000000e-01,   3.20000000e+01,\n",
       "          1.73000000e+02,   1.27000000e+01,   1.00000000e+00,\n",
       "          0.00000000e+00,   1.60000000e-01,   3.30000000e-01,\n",
       "          3.00000000e-02,   1.10000000e-01,   9.00000000e-02,\n",
       "          6.00000000e-02,   1.30000000e-01,   8.00000000e-02,\n",
       "          7.00000000e-02,   1.50000000e-01]),\n",
       " array([  7.22000000e+00,   2.00000000e-02,   0.00000000e+00,\n",
       "          2.90000000e+01,   2.08000000e+01,   1.00000000e+00,\n",
       "          0.00000000e+00,   1.30000000e-01,   2.50000000e-01,\n",
       "          6.00000000e-02,   1.30000000e-01,   1.00000000e-01,\n",
       "          6.00000000e-02,   1.20000000e-01,   1.60000000e-01,\n",
       "          9.00000000e-02,   1.40000000e-01]),\n",
       " array([  3.40000000e+00,   4.70000000e-01,   4.30000000e+01,\n",
       "          1.71000000e+02,   3.20000000e+01,   1.00000000e+00,\n",
       "          0.00000000e+00,   1.30000000e-01,   2.70000000e-01,\n",
       "          6.00000000e-02,   1.30000000e-01,   4.00000000e-02,\n",
       "          1.00000000e-01,   1.60000000e-01,   1.10000000e-01,\n",
       "          5.00000000e-02,   1.00000000e-01]),\n",
       " array([  4.87700000e+01,   4.70000000e-01,   1.80000000e+02,\n",
       "          3.25000000e+02,   2.26000000e+01,   1.00000000e+00,\n",
       "          0.00000000e+00,   2.10000000e-01,   2.60000000e-01,\n",
       "          5.00000000e-02,   8.00000000e-02,   5.00000000e-02,\n",
       "          1.10000000e-01,   1.20000000e-01,   1.30000000e-01,\n",
       "          1.40000000e-01,   1.70000000e-01]),\n",
       " array([  1.30000000e+00,   1.00000000e-02,   1.00000000e+00,\n",
       "          3.00000000e+00,   2.03000000e+01,   1.00000000e+00,\n",
       "          0.00000000e+00,   9.00000000e-02,   2.30000000e-01,\n",
       "          2.10000000e-01,   1.50000000e-01,   6.00000000e-02,\n",
       "          3.00000000e-02,   1.00000000e-01,   1.30000000e-01,\n",
       "          3.00000000e-02,   1.20000000e-01]),\n",
       " array([  8.37000000e+00,   8.00000000e-02,   2.30000000e+01,\n",
       "          9.60000000e+01,   2.21000000e+01,   1.00000000e+00,\n",
       "          0.00000000e+00,   1.30000000e-01,   2.70000000e-01,\n",
       "          8.00000000e-02,   1.50000000e-01,   9.00000000e-02,\n",
       "          3.00000000e-02,   1.70000000e-01,   8.00000000e-02,\n",
       "          5.00000000e-02,   1.60000000e-01]),\n",
       " array([  4.70000000e+00,   3.90000000e-01,   1.90000000e+01,\n",
       "          4.90000000e+01,   1.70000000e+01,   1.00000000e+00,\n",
       "          0.00000000e+00,   1.40000000e-01,   3.00000000e-01,\n",
       "          7.00000000e-02,   9.00000000e-02,   4.00000000e-02,\n",
       "          6.00000000e-02,   9.00000000e-02,   2.10000000e-01,\n",
       "          9.00000000e-02,   1.30000000e-01]),\n",
       " array([  3.80000000e-01,   2.70000000e-01,   2.00000000e+00,\n",
       "          1.50000000e+01,   3.06000000e+01,   1.00000000e+00,\n",
       "          0.00000000e+00,   5.00000000e-02,   3.20000000e-01,\n",
       "          5.00000000e-02,   1.10000000e-01,   5.00000000e-02,\n",
       "          0.00000000e+00,   2.60000000e-01,   1.60000000e-01,\n",
       "          3.00000000e-02,   3.00000000e-01]),\n",
       " array([  2.43,   0.15,   6.  ,  33.  ,  19.6 ,   1.  ,   0.  ,   0.24,\n",
       "          0.17,   0.04,   0.11,   0.09,   0.18,   0.11,   0.06,   0.18,\n",
       "          0.11]),\n",
       " array([  1.52,   0.04,   0.  ,   6.  ,  16.4 ,   1.  ,   0.  ,   0.13,\n",
       "          0.2 ,   0.09,   0.1 ,   0.13,   0.04,   0.08,   0.23,   0.04,\n",
       "          0.09]),\n",
       " array([  2.83000000e+00,   1.00000000e-02,   1.00000000e+00,\n",
       "          2.00000000e+00,   1.90000000e+01,   1.00000000e+00,\n",
       "          0.00000000e+00,   1.10000000e-01,   1.90000000e-01,\n",
       "          9.00000000e-02,   8.00000000e-02,   1.00000000e-01,\n",
       "          4.00000000e-02,   1.60000000e-01,   2.30000000e-01,\n",
       "          1.60000000e-01,   1.70000000e-01]),\n",
       " array([ 0.57,  0.06,  1.  ,  6.  ,  4.7 ,  1.  ,  0.  ,  0.35,  0.38,\n",
       "         0.  ,  0.09,  0.06,  0.06,  0.06,  0.  ,  0.02,  0.1 ]),\n",
       " array([  9.31500000e+01,   4.80000000e-01,   3.57000000e+02,\n",
       "          1.09300000e+03,   1.76000000e+01,   1.00000000e+00,\n",
       "          0.00000000e+00,   1.20000000e-01,   4.30000000e-01,\n",
       "          4.00000000e-02,   1.10000000e-01,   8.00000000e-02,\n",
       "          6.00000000e-02,   1.20000000e-01,   4.00000000e-02,\n",
       "          5.00000000e-02,   1.50000000e-01]),\n",
       " array([  0.82,   0.25,   2.  ,   8.  ,  15.1 ,   1.  ,   0.  ,   0.3 ,\n",
       "          0.28,   0.07,   0.05,   0.1 ,   0.07,   0.  ,   0.12,   0.08,\n",
       "          0.17]),\n",
       " array([  1.39,   0.05,   1.  ,   6.  ,  14.5 ,   1.  ,   0.  ,   0.12,\n",
       "          0.26,   0.07,   0.15,   0.18,   0.04,   0.15,   0.03,   0.11,\n",
       "          0.13]),\n",
       " array([  3.67900000e+01,   2.30000000e-01,   5.80000000e+01,\n",
       "          9.40000000e+01,   1.87000000e+01,   1.00000000e+00,\n",
       "          0.00000000e+00,   1.50000000e-01,   3.30000000e-01,\n",
       "          3.00000000e-02,   1.20000000e-01,   9.00000000e-02,\n",
       "          5.00000000e-02,   1.30000000e-01,   1.00000000e-01,\n",
       "          6.00000000e-02,   2.70000000e-01]),\n",
       " array([  1.15500000e+01,   6.10000000e-01,   3.30000000e+01,\n",
       "          6.90000000e+01,   1.90000000e+01,   1.00000000e+00,\n",
       "          0.00000000e+00,   1.70000000e-01,   3.10000000e-01,\n",
       "          2.00000000e-02,   1.50000000e-01,   1.00000000e-02,\n",
       "          1.20000000e-01,   5.00000000e-02,   1.60000000e-01,\n",
       "          7.00000000e-02,   1.50000000e-01]),\n",
       " array([  4.17000000e+00,   1.90000000e-01,   1.50000000e+01,\n",
       "          5.90000000e+01,   1.81000000e+01,   1.00000000e+00,\n",
       "          0.00000000e+00,   1.20000000e-01,   2.80000000e-01,\n",
       "          5.00000000e-02,   1.60000000e-01,   1.50000000e-01,\n",
       "          6.00000000e-02,   1.20000000e-01,   5.00000000e-02,\n",
       "          5.00000000e-02,   1.90000000e-01]),\n",
       " array([ 30.  ,   0.  ,   0.  ,   0.  ,  25.6 ,   1.  ,   0.  ,   0.  ,\n",
       "          0.33,   0.  ,   0.  ,   0.33,   0.33,   0.  ,   0.  ,   0.  ,\n",
       "          0.4 ]),\n",
       " array([  7.29000000e+00,   3.00000000e-01,   3.50000000e+01,\n",
       "          1.61000000e+02,   1.58000000e+01,   1.00000000e+00,\n",
       "          0.00000000e+00,   1.90000000e-01,   2.70000000e-01,\n",
       "          5.00000000e-02,   7.00000000e-02,   4.00000000e-02,\n",
       "          1.20000000e-01,   1.00000000e-01,   1.50000000e-01,\n",
       "          1.10000000e-01,   1.50000000e-01]),\n",
       " array([  1.70100000e+01,   3.20000000e-01,   3.60000000e+01,\n",
       "          9.60000000e+01,   1.95000000e+01,   1.00000000e+00,\n",
       "          0.00000000e+00,   2.00000000e-01,   2.20000000e-01,\n",
       "          2.10000000e-01,   5.00000000e-02,   3.00000000e-02,\n",
       "          6.00000000e-02,   4.00000000e-02,   1.80000000e-01,\n",
       "          1.10000000e-01,   1.00000000e-01]),\n",
       " array([  2.02000000e+00,   1.60000000e-01,   8.00000000e+00,\n",
       "          3.70000000e+01,   2.44000000e+01,   1.00000000e+00,\n",
       "          0.00000000e+00,   1.80000000e-01,   2.70000000e-01,\n",
       "          3.00000000e-02,   1.00000000e-01,   7.00000000e-02,\n",
       "          1.20000000e-01,   1.20000000e-01,   1.20000000e-01,\n",
       "          1.70000000e-01,   2.10000000e-01]),\n",
       " array([  1.41400000e+01,   3.40000000e-01,   4.30000000e+01,\n",
       "          1.55000000e+02,   1.35000000e+01,   1.00000000e+00,\n",
       "          0.00000000e+00,   1.30000000e-01,   3.30000000e-01,\n",
       "          2.00000000e-02,   1.00000000e-01,   1.20000000e-01,\n",
       "          8.00000000e-02,   1.10000000e-01,   1.00000000e-01,\n",
       "          6.00000000e-02,   1.70000000e-01]),\n",
       " array([  5.89600000e+01,   1.00000000e-02,   1.60000000e+01,\n",
       "          6.40000000e+01,   2.29000000e+01,   1.00000000e+00,\n",
       "          0.00000000e+00,   1.60000000e-01,   2.60000000e-01,\n",
       "          6.00000000e-02,   1.20000000e-01,   9.00000000e-02,\n",
       "          6.00000000e-02,   1.60000000e-01,   9.00000000e-02,\n",
       "          1.10000000e-01,   1.10000000e-01]),\n",
       " array([ 16.67,   0.1 ,  10.  ,  14.  ,  17.6 ,   1.  ,   0.  ,   0.1 ,\n",
       "          0.24,   0.06,   0.09,   0.14,   0.05,   0.15,   0.17,   0.04,\n",
       "          0.23]),\n",
       " array([  2.36200000e+01,   1.10000000e-01,   8.60000000e+01,\n",
       "          1.63000000e+02,   1.81000000e+01,   1.00000000e+00,\n",
       "          0.00000000e+00,   1.20000000e-01,   2.60000000e-01,\n",
       "          6.00000000e-02,   1.50000000e-01,   1.30000000e-01,\n",
       "          5.00000000e-02,   1.70000000e-01,   6.00000000e-02,\n",
       "          3.00000000e-02,   1.30000000e-01]),\n",
       " array([  6.62,   0.  ,   0.  ,   2.  ,  15.9 ,   1.  ,   0.  ,   0.13,\n",
       "          0.23,   0.1 ,   0.08,   0.06,   0.05,   0.13,   0.22,   0.08,\n",
       "          0.23]),\n",
       " array([  4.26000000e+00,   6.00000000e-02,   8.00000000e+00,\n",
       "          4.00000000e+01,   2.19000000e+01,   1.00000000e+00,\n",
       "          0.00000000e+00,   9.00000000e-02,   2.30000000e-01,\n",
       "          1.60000000e-01,   1.30000000e-01,   1.20000000e-01,\n",
       "          4.00000000e-02,   1.70000000e-01,   5.00000000e-02,\n",
       "          3.00000000e-02,   2.50000000e-01]),\n",
       " array([  8.37000000e+00,   3.00000000e-02,   0.00000000e+00,\n",
       "          8.00000000e+00,   2.73000000e+01,   1.00000000e+00,\n",
       "          0.00000000e+00,   1.00000000e-01,   1.90000000e-01,\n",
       "          2.10000000e-01,   6.00000000e-02,   1.40000000e-01,\n",
       "          6.00000000e-02,   1.40000000e-01,   1.10000000e-01,\n",
       "          1.00000000e-02,   1.10000000e-01]),\n",
       " array([ 6.  ,  0.12,  0.  ,  4.  ,  3.2 ,  1.  ,  0.  ,  0.71,  0.  ,\n",
       "         0.  ,  0.  ,  0.  ,  0.14,  0.  ,  0.14,  0.5 ,  0.  ]),\n",
       " array([  8.88000000e+00,   2.70000000e-01,   2.40000000e+01,\n",
       "          4.20000000e+01,   1.45000000e+01,   1.00000000e+00,\n",
       "          0.00000000e+00,   1.40000000e-01,   3.90000000e-01,\n",
       "          2.00000000e-02,   1.10000000e-01,   1.20000000e-01,\n",
       "          4.00000000e-02,   1.50000000e-01,   3.00000000e-02,\n",
       "          7.00000000e-02,   3.70000000e-01]),\n",
       " array([  8.58100000e+01,   5.00000000e-01,   4.90000000e+01,\n",
       "          1.45000000e+02,   1.98000000e+01,   1.00000000e+00,\n",
       "          0.00000000e+00,   1.40000000e-01,   4.70000000e-01,\n",
       "          3.00000000e-02,   1.30000000e-01,   2.00000000e-02,\n",
       "          1.30000000e-01,   2.00000000e-02,   6.00000000e-02,\n",
       "          1.00000000e-01,   3.00000000e-02]),\n",
       " array([  1.72600000e+01,   2.80000000e-01,   5.90000000e+01,\n",
       "          1.78000000e+02,   2.13000000e+01,   1.00000000e+00,\n",
       "          0.00000000e+00,   1.60000000e-01,   2.30000000e-01,\n",
       "          8.00000000e-02,   1.00000000e-01,   7.00000000e-02,\n",
       "          8.00000000e-02,   1.10000000e-01,   1.70000000e-01,\n",
       "          1.30000000e-01,   1.70000000e-01]),\n",
       " array([  1.59600000e+01,   2.50000000e-01,   1.70000000e+01,\n",
       "          5.50000000e+01,   1.54000000e+01,   1.00000000e+00,\n",
       "          0.00000000e+00,   1.20000000e-01,   3.40000000e-01,\n",
       "          4.00000000e-02,   8.00000000e-02,   1.70000000e-01,\n",
       "          2.00000000e-02,   1.60000000e-01,   7.00000000e-02,\n",
       "          6.00000000e-02,   2.80000000e-01]),\n",
       " array([  5.70000000e-01,   2.00000000e-02,   0.00000000e+00,\n",
       "          1.00000000e+00,   2.46000000e+01,   1.00000000e+00,\n",
       "          0.00000000e+00,   1.50000000e-01,   3.30000000e-01,\n",
       "          3.00000000e-02,   7.00000000e-02,   1.00000000e-01,\n",
       "          3.00000000e-02,   2.00000000e-01,   1.00000000e-01,\n",
       "          4.00000000e-02,   1.60000000e-01]),\n",
       " array([  9.70000000e-01,   4.60000000e-01,   7.00000000e+00,\n",
       "          1.40000000e+01,   2.92000000e+01,   1.00000000e+00,\n",
       "          0.00000000e+00,   3.80000000e-01,   2.60000000e-01,\n",
       "          2.00000000e-02,   1.00000000e-01,   7.00000000e-02,\n",
       "          7.00000000e-02,   3.00000000e-02,   8.00000000e-02,\n",
       "          6.00000000e-02,   2.30000000e-01]),\n",
       " array([  9.46000000e+00,   2.00000000e-02,   1.00000000e+00,\n",
       "          2.40000000e+01,   2.23000000e+01,   1.00000000e+00,\n",
       "          0.00000000e+00,   1.50000000e-01,   2.60000000e-01,\n",
       "          8.00000000e-02,   1.10000000e-01,   9.00000000e-02,\n",
       "          4.00000000e-02,   1.40000000e-01,   1.20000000e-01,\n",
       "          7.00000000e-02,   1.70000000e-01]),\n",
       " array([  0.13,   0.18,   0.  ,  11.  ,  26.9 ,   1.  ,   0.  ,   0.44,\n",
       "          0.22,   0.11,   0.11,   0.  ,   0.  ,   0.  ,   0.11,   0.27,\n",
       "          0.09]),\n",
       " array([  1.51,   0.1 ,   1.  ,   3.  ,  17.  ,   1.  ,   0.  ,   0.06,\n",
       "          0.33,   0.12,   0.  ,   0.24,   0.03,   0.09,   0.12,   0.02,\n",
       "          0.32]),\n",
       " array([  7.77000000e+00,   2.70000000e-01,   2.40000000e+01,\n",
       "          9.80000000e+01,   1.50000000e+01,   1.00000000e+00,\n",
       "          0.00000000e+00,   1.40000000e-01,   2.70000000e-01,\n",
       "          4.00000000e-02,   1.30000000e-01,   9.00000000e-02,\n",
       "          4.00000000e-02,   1.30000000e-01,   1.70000000e-01,\n",
       "          4.00000000e-02,   1.40000000e-01]),\n",
       " array([  1.78700000e+01,   2.40000000e-01,   5.80000000e+01,\n",
       "          1.67000000e+02,   1.71000000e+01,   1.00000000e+00,\n",
       "          0.00000000e+00,   1.40000000e-01,   2.40000000e-01,\n",
       "          1.30000000e-01,   6.00000000e-02,   8.00000000e-02,\n",
       "          6.00000000e-02,   1.30000000e-01,   1.60000000e-01,\n",
       "          8.00000000e-02,   1.40000000e-01]),\n",
       " array([  2.09100000e+02,   3.50000000e-01,   5.35000000e+02,\n",
       "          1.32200000e+03,   1.08000000e+01,   1.00000000e+00,\n",
       "          0.00000000e+00,   1.40000000e-01,   2.80000000e-01,\n",
       "          6.00000000e-02,   9.00000000e-02,   1.20000000e-01,\n",
       "          8.00000000e-02,   1.50000000e-01,   8.00000000e-02,\n",
       "          2.00000000e-02,   1.00000000e-01]),\n",
       " array([  1.02800000e+01,   2.30000000e-01,   2.90000000e+01,\n",
       "          1.39000000e+02,   1.60000000e+01,   1.00000000e+00,\n",
       "          0.00000000e+00,   1.80000000e-01,   4.40000000e-01,\n",
       "          4.00000000e-02,   1.00000000e-01,   5.00000000e-02,\n",
       "          6.00000000e-02,   6.00000000e-02,   7.00000000e-02,\n",
       "          1.50000000e-01,   1.80000000e-01]),\n",
       " array([  0.85,   0.17,   3.  ,  11.  ,  16.8 ,   1.  ,   0.  ,   0.11,\n",
       "          0.38,   0.05,   0.16,   0.11,   0.03,   0.08,   0.09,   0.04,\n",
       "          0.2 ]),\n",
       " array([ 34.3 ,   0.  ,   1.  ,  20.  ,  16.  ,   1.  ,   0.  ,   0.12,\n",
       "          0.21,   0.19,   0.06,   0.06,   0.05,   0.1 ,   0.22,   0.07,\n",
       "          0.16]),\n",
       " array([  0.87,   0.  ,   0.  ,   2.  ,  18.3 ,   1.  ,   0.  ,   0.17,\n",
       "          0.3 ,   0.03,   0.2 ,   0.13,   0.  ,   0.12,   0.05,   0.06,\n",
       "          0.38]),\n",
       " array([  9.76000000e+00,   1.00000000e-02,   0.00000000e+00,\n",
       "          2.00000000e+00,   1.53000000e+01,   1.00000000e+00,\n",
       "          0.00000000e+00,   4.00000000e-02,   3.00000000e-01,\n",
       "          1.00000000e-01,   1.00000000e-01,   2.50000000e-01,\n",
       "          1.00000000e-02,   1.30000000e-01,   6.00000000e-02,\n",
       "          3.00000000e-02,   1.90000000e-01]),\n",
       " array([  2.10200000e+01,   5.30000000e-01,   1.00000000e+02,\n",
       "          2.83000000e+02,   1.69000000e+01,   1.00000000e+00,\n",
       "          0.00000000e+00,   1.90000000e-01,   3.00000000e-01,\n",
       "          4.00000000e-02,   8.00000000e-02,   7.00000000e-02,\n",
       "          8.00000000e-02,   1.10000000e-01,   1.30000000e-01,\n",
       "          9.00000000e-02,   1.10000000e-01]),\n",
       " array([  4.2 ,   0.  ,   0.  ,   0.  ,  38.9 ,   1.  ,   0.  ,   0.  ,\n",
       "          0.5 ,   0.  ,   0.25,   0.  ,   0.  ,   0.  ,   0.25,   0.14,\n",
       "          0.14]),\n",
       " array([  1.54,   0.1 ,   2.  ,  30.  ,  23.4 ,   1.  ,   0.  ,   0.15,\n",
       "          0.21,   0.1 ,   0.06,   0.12,   0.07,   0.18,   0.11,   0.11,\n",
       "          0.18]),\n",
       " array([  6.17000000e+00,   1.00000000e-02,   0.00000000e+00,\n",
       "          3.00000000e+00,   2.29000000e+01,   1.00000000e+00,\n",
       "          0.00000000e+00,   1.50000000e-01,   3.40000000e-01,\n",
       "          3.00000000e-02,   1.30000000e-01,   1.10000000e-01,\n",
       "          3.00000000e-02,   1.50000000e-01,   6.00000000e-02,\n",
       "          6.00000000e-02,   3.90000000e-01]),\n",
       " array([ 20.74,   0.  ,   0.  ,   8.  ,  20.8 ,   1.  ,   0.  ,   0.26,\n",
       "          0.22,   0.07,   0.1 ,   0.09,   0.09,   0.1 ,   0.06,   0.13,\n",
       "          0.16]),\n",
       " array([  5.17200000e+01,   2.50000000e-01,   9.50000000e+01,\n",
       "          2.07000000e+02,   1.79000000e+01,   1.00000000e+00,\n",
       "          0.00000000e+00,   1.80000000e-01,   2.60000000e-01,\n",
       "          5.00000000e-02,   1.00000000e-01,   8.00000000e-02,\n",
       "          6.00000000e-02,   1.10000000e-01,   1.70000000e-01,\n",
       "          1.10000000e-01,   1.50000000e-01]),\n",
       " array([  1.82300000e+01,   4.60000000e-01,   6.70000000e+01,\n",
       "          1.79000000e+02,   1.95000000e+01,   1.00000000e+00,\n",
       "          0.00000000e+00,   1.40000000e-01,   3.10000000e-01,\n",
       "          5.00000000e-02,   1.00000000e-01,   9.00000000e-02,\n",
       "          6.00000000e-02,   1.60000000e-01,   9.00000000e-02,\n",
       "          8.00000000e-02,   2.70000000e-01]),\n",
       " array([  1.72000000e+00,   4.90000000e-01,   7.00000000e+00,\n",
       "          4.70000000e+01,   1.61000000e+01,   1.00000000e+00,\n",
       "          0.00000000e+00,   3.90000000e-01,   2.50000000e-01,\n",
       "          1.00000000e-02,   9.00000000e-02,   6.00000000e-02,\n",
       "          9.00000000e-02,   4.00000000e-02,   6.00000000e-02,\n",
       "          3.60000000e-01,   1.40000000e-01]),\n",
       " array([  6.24900000e+01,   1.00000000e-02,   7.00000000e+00,\n",
       "          2.30000000e+01,   1.84000000e+01,   1.00000000e+00,\n",
       "          0.00000000e+00,   9.00000000e-02,   3.40000000e-01,\n",
       "          1.30000000e-01,   9.00000000e-02,   7.00000000e-02,\n",
       "          4.00000000e-02,   1.20000000e-01,   1.20000000e-01,\n",
       "          8.00000000e-02,   1.60000000e-01]),\n",
       " array([  3.38000000e+00,   3.10000000e-01,   2.70000000e+01,\n",
       "          4.20000000e+01,   2.10000000e+01,   1.00000000e+00,\n",
       "          0.00000000e+00,   2.00000000e-01,   1.60000000e-01,\n",
       "          4.00000000e-02,   9.00000000e-02,   5.00000000e-02,\n",
       "          8.00000000e-02,   2.00000000e-02,   3.60000000e-01,\n",
       "          2.30000000e-01,   1.30000000e-01]),\n",
       " array([  1.15700000e+01,   8.00000000e-02,   2.80000000e+01,\n",
       "          1.62000000e+02,   2.19000000e+01,   1.00000000e+00,\n",
       "          0.00000000e+00,   2.00000000e-01,   2.60000000e-01,\n",
       "          7.00000000e-02,   1.00000000e-01,   5.00000000e-02,\n",
       "          9.00000000e-02,   1.10000000e-01,   1.10000000e-01,\n",
       "          1.70000000e-01,   1.20000000e-01]),\n",
       " array([  9.67000000e+00,   3.00000000e-02,   1.00000000e+00,\n",
       "          4.70000000e+01,   2.05000000e+01,   1.00000000e+00,\n",
       "          0.00000000e+00,   1.00000000e-01,   3.40000000e-01,\n",
       "          6.00000000e-02,   1.10000000e-01,   1.20000000e-01,\n",
       "          4.00000000e-02,   1.40000000e-01,   9.00000000e-02,\n",
       "          8.00000000e-02,   1.70000000e-01]),\n",
       " array([  8.21000000e+00,   2.20000000e-01,   3.70000000e+01,\n",
       "          1.28000000e+02,   2.33000000e+01,   1.00000000e+00,\n",
       "          0.00000000e+00,   1.90000000e-01,   2.30000000e-01,\n",
       "          4.00000000e-02,   1.30000000e-01,   7.00000000e-02,\n",
       "          1.20000000e-01,   1.10000000e-01,   9.00000000e-02,\n",
       "          2.20000000e-01,   1.70000000e-01]),\n",
       " array([  3.21,   0.09,   4.  ,  22.  ,  16.3 ,   1.  ,   0.  ,   0.1 ,\n",
       "          0.47,   0.03,   0.07,   0.12,   0.03,   0.11,   0.06,   0.06,\n",
       "          0.32]),\n",
       " array([  5.78000000e+00,   7.00000000e-02,   8.00000000e+00,\n",
       "          3.20000000e+01,   2.55000000e+01,   1.00000000e+00,\n",
       "          0.00000000e+00,   1.90000000e-01,   1.60000000e-01,\n",
       "          8.00000000e-02,   2.20000000e-01,   1.10000000e-01,\n",
       "          3.00000000e-02,   1.40000000e-01,   7.00000000e-02,\n",
       "          1.00000000e-01,   1.30000000e-01]),\n",
       " array([ 14.71,   0.09,  15.  ,  40.  ,  15.3 ,   1.  ,   0.  ,   0.07,\n",
       "          0.45,   0.04,   0.11,   0.11,   0.04,   0.13,   0.04,   0.05,\n",
       "          0.33]),\n",
       " array([  1.34000000e+00,   2.90000000e-01,   8.00000000e+00,\n",
       "          1.10000000e+01,   2.69000000e+01,   1.00000000e+00,\n",
       "          0.00000000e+00,   1.00000000e-01,   2.50000000e-01,\n",
       "          1.10000000e-01,   1.80000000e-01,   6.00000000e-02,\n",
       "          2.00000000e-02,   1.10000000e-01,   1.80000000e-01,\n",
       "          0.00000000e+00,   4.00000000e-02]),\n",
       " array([  8.49000000e+00,   1.00000000e-02,   2.00000000e+00,\n",
       "          1.60000000e+01,   2.02000000e+01,   1.00000000e+00,\n",
       "          0.00000000e+00,   2.50000000e-01,   2.40000000e-01,\n",
       "          6.00000000e-02,   1.20000000e-01,   1.00000000e-01,\n",
       "          4.00000000e-02,   1.40000000e-01,   5.00000000e-02,\n",
       "          6.00000000e-02,   2.10000000e-01]),\n",
       " array([  1.46000000e+00,   1.00000000e-02,   0.00000000e+00,\n",
       "          9.00000000e+00,   1.99000000e+01,   1.00000000e+00,\n",
       "          0.00000000e+00,   1.80000000e-01,   2.60000000e-01,\n",
       "          2.00000000e-02,   1.90000000e-01,   1.50000000e-01,\n",
       "          4.00000000e-02,   1.20000000e-01,   5.00000000e-02,\n",
       "          1.90000000e-01,   3.40000000e-01]),\n",
       " array([  2.28100000e+01,   0.00000000e+00,   0.00000000e+00,\n",
       "          0.00000000e+00,   2.15000000e+01,   1.00000000e+00,\n",
       "          0.00000000e+00,   4.00000000e-02,   7.40000000e-01,\n",
       "          6.00000000e-02,   2.00000000e-02,   1.00000000e-02,\n",
       "          0.00000000e+00,   1.00000000e-01,   2.00000000e-02,\n",
       "          4.00000000e-02,   1.40000000e-01]),\n",
       " array([  2.24,   0.04,   2.  ,   6.  ,  28.7 ,   1.  ,   0.  ,   0.1 ,\n",
       "          0.3 ,   0.12,   0.13,   0.11,   0.05,   0.15,   0.05,   0.09,\n",
       "          0.11]),\n",
       " array([  2.21,   0.03,   3.  ,  26.  ,  23.7 ,   1.  ,   0.  ,   0.18,\n",
       "          0.26,   0.06,   0.22,   0.05,   0.14,   0.04,   0.04,   0.23,\n",
       "          0.05]),\n",
       " array([  0.54,   0.26,   1.  ,   9.  ,  20.9 ,   1.  ,   0.  ,   0.28,\n",
       "          0.19,   0.03,   0.06,   0.03,   0.06,   0.28,   0.08,   0.3 ,\n",
       "          0.16]),\n",
       " array([  0.34,   0.04,   1.  ,   2.  ,  22.2 ,   1.  ,   0.  ,   0.15,\n",
       "          0.35,   0.2 ,   0.  ,   0.05,   0.05,   0.1 ,   0.1 ,   0.24,\n",
       "          0.28]),\n",
       " array([ 20.14,   0.  ,   0.  ,   0.  ,  23.9 ,   1.  ,   0.  ,   0.11,\n",
       "          0.23,   0.1 ,   0.11,   0.04,   0.13,   0.14,   0.16,   0.06,\n",
       "          0.14]),\n",
       " array([  7.48000000e+00,   4.00000000e-02,   8.00000000e+00,\n",
       "          4.80000000e+01,   1.79000000e+01,   1.00000000e+00,\n",
       "          0.00000000e+00,   1.20000000e-01,   2.10000000e-01,\n",
       "          6.00000000e-02,   1.00000000e-01,   1.30000000e-01,\n",
       "          1.00000000e-01,   1.20000000e-01,   1.50000000e-01,\n",
       "          7.00000000e-02,   1.60000000e-01]),\n",
       " array([  4.80000000e+00,   6.00000000e-02,   5.00000000e+00,\n",
       "          6.10000000e+01,   2.54000000e+01,   1.00000000e+00,\n",
       "          0.00000000e+00,   2.60000000e-01,   2.00000000e-01,\n",
       "          5.00000000e-02,   1.00000000e-01,   4.00000000e-02,\n",
       "          1.90000000e-01,   6.00000000e-02,   1.20000000e-01,\n",
       "          2.50000000e-01,   9.00000000e-02]),\n",
       " array([  1.01000000e+00,   1.00000000e-02,   0.00000000e+00,\n",
       "          2.00000000e+00,   1.75000000e+01,   1.00000000e+00,\n",
       "          0.00000000e+00,   1.30000000e-01,   2.40000000e-01,\n",
       "          1.20000000e-01,   1.10000000e-01,   7.00000000e-02,\n",
       "          5.00000000e-02,   1.10000000e-01,   1.80000000e-01,\n",
       "          8.00000000e-02,   1.20000000e-01]),\n",
       " array([  5.21900000e+01,   5.10000000e-01,   4.07000000e+02,\n",
       "          1.18200000e+03,   3.22000000e+01,   1.00000000e+00,\n",
       "          0.00000000e+00,   4.30000000e-01,   8.00000000e-02,\n",
       "          2.00000000e-02,   5.00000000e-02,   1.00000000e-02,\n",
       "          3.60000000e-01,   3.00000000e-02,   2.00000000e-02,\n",
       "          2.20000000e-01,   5.00000000e-02]),\n",
       " array([  6.45,   0.03,   2.  ,  23.  ,  24.8 ,   1.  ,   0.  ,   0.12,\n",
       "          0.31,   0.06,   0.12,   0.11,   0.04,   0.15,   0.09,   0.09,\n",
       "          0.19]),\n",
       " array([  4.17,   0.3 ,  15.  ,  51.  ,  19.  ,   1.  ,   0.  ,   0.15,\n",
       "          0.21,   0.09,   0.09,   0.07,   0.11,   0.08,   0.19,   0.1 ,\n",
       "          0.13]),\n",
       " array([  8.27000000e+00,   1.80000000e-01,   1.80000000e+01,\n",
       "          4.50000000e+01,   1.52000000e+01,   1.00000000e+00,\n",
       "          0.00000000e+00,   1.20000000e-01,   3.00000000e-01,\n",
       "          4.00000000e-02,   9.00000000e-02,   1.60000000e-01,\n",
       "          4.00000000e-02,   1.60000000e-01,   9.00000000e-02,\n",
       "          5.00000000e-02,   2.30000000e-01]),\n",
       " array([  1.04000000e+00,   0.00000000e+00,   0.00000000e+00,\n",
       "          0.00000000e+00,   2.30000000e+01,   1.00000000e+00,\n",
       "          0.00000000e+00,   1.10000000e-01,   4.30000000e-01,\n",
       "          5.00000000e-02,   9.00000000e-02,   1.50000000e-01,\n",
       "          1.00000000e-02,   1.20000000e-01,   4.00000000e-02,\n",
       "          4.00000000e-02,   3.10000000e-01]),\n",
       " array([  3.33000000e+00,   0.00000000e+00,   1.00000000e+00,\n",
       "          1.10000000e+01,   2.17000000e+01,   1.00000000e+00,\n",
       "          0.00000000e+00,   3.10000000e-01,   2.60000000e-01,\n",
       "          2.00000000e-02,   1.30000000e-01,   1.00000000e-01,\n",
       "          3.00000000e-02,   9.00000000e-02,   6.00000000e-02,\n",
       "          1.10000000e-01,   3.10000000e-01]),\n",
       " array([  7.42,   0.  ,   0.  ,   1.  ,  17.6 ,   1.  ,   0.  ,   0.1 ,\n",
       "          0.43,   0.07,   0.05,   0.1 ,   0.02,   0.05,   0.18,   0.04,\n",
       "          0.34]),\n",
       " array([  1.75100000e+01,   5.50000000e-01,   1.09000000e+02,\n",
       "          4.26000000e+02,   2.43000000e+01,   1.00000000e+00,\n",
       "          0.00000000e+00,   2.00000000e-01,   3.50000000e-01,\n",
       "          5.00000000e-02,   8.00000000e-02,   5.00000000e-02,\n",
       "          1.10000000e-01,   9.00000000e-02,   7.00000000e-02,\n",
       "          1.30000000e-01,   7.00000000e-02]),\n",
       " array([  0.25,   0.  ,   0.  ,   0.  ,  16.3 ,   1.  ,   0.  ,   0.13,\n",
       "          0.13,   0.  ,   0.47,   0.2 ,   0.  ,   0.07,   0.  ,   0.1 ,\n",
       "          0.43]),\n",
       " array([  5.10600000e+01,   1.00000000e-02,   0.00000000e+00,\n",
       "          3.00000000e+00,   1.64000000e+01,   1.00000000e+00,\n",
       "          0.00000000e+00,   1.60000000e-01,   2.50000000e-01,\n",
       "          8.00000000e-02,   4.00000000e-02,   1.30000000e-01,\n",
       "          1.00000000e-02,   8.00000000e-02,   2.50000000e-01,\n",
       "          1.30000000e-01,   2.10000000e-01]),\n",
       " array([  3.63900000e+01,   2.00000000e-01,   7.20000000e+01,\n",
       "          2.97000000e+02,   4.04000000e+01,   1.00000000e+00,\n",
       "          0.00000000e+00,   1.50000000e-01,   2.00000000e-01,\n",
       "          5.00000000e-02,   1.40000000e-01,   8.00000000e-02,\n",
       "          2.20000000e-01,   1.10000000e-01,   4.00000000e-02,\n",
       "          5.00000000e-02,   7.00000000e-02]),\n",
       " array([  2.09000000e+00,   4.00000000e-01,   2.20000000e+01,\n",
       "          9.00000000e+01,   2.48000000e+01,   1.00000000e+00,\n",
       "          0.00000000e+00,   3.40000000e-01,   1.10000000e-01,\n",
       "          5.00000000e-02,   1.20000000e-01,   5.00000000e-02,\n",
       "          2.20000000e-01,   2.00000000e-02,   9.00000000e-02,\n",
       "          3.80000000e-01,   5.00000000e-02]),\n",
       " array([  1.12,   0.  ,   0.  ,   0.  ,  18.4 ,   1.  ,   0.  ,   0.  ,\n",
       "          0.57,   0.14,   0.  ,   0.14,   0.  ,   0.  ,   0.14,   0.08,\n",
       "          0.31]),\n",
       " array([  1.15700000e+01,   1.00000000e-02,   0.00000000e+00,\n",
       "          8.00000000e+00,   1.94000000e+01,   1.00000000e+00,\n",
       "          0.00000000e+00,   1.90000000e-01,   3.10000000e-01,\n",
       "          6.00000000e-02,   1.10000000e-01,   8.00000000e-02,\n",
       "          4.00000000e-02,   1.20000000e-01,   1.00000000e-01,\n",
       "          1.50000000e-01,   2.40000000e-01]),\n",
       " array([  2.16000000e+00,   1.00000000e-02,   0.00000000e+00,\n",
       "          4.00000000e+00,   2.66000000e+01,   1.00000000e+00,\n",
       "          0.00000000e+00,   7.00000000e-02,   3.10000000e-01,\n",
       "          8.00000000e-02,   1.20000000e-01,   6.00000000e-02,\n",
       "          8.00000000e-02,   1.20000000e-01,   1.50000000e-01,\n",
       "          1.40000000e-01,   2.10000000e-01]),\n",
       " array([  6.60000000e-01,   3.00000000e-02,   0.00000000e+00,\n",
       "          8.00000000e+00,   4.17000000e+01,   1.00000000e+00,\n",
       "          0.00000000e+00,   1.20000000e-01,   1.20000000e-01,\n",
       "          5.00000000e-02,   2.60000000e-01,   7.00000000e-02,\n",
       "          2.00000000e-02,   2.60000000e-01,   1.00000000e-01,\n",
       "          1.70000000e-01,   1.00000000e-01]),\n",
       " array([  8.87000000e+00,   1.10000000e-01,   2.00000000e+01,\n",
       "          1.02000000e+02,   2.77000000e+01,   1.00000000e+00,\n",
       "          0.00000000e+00,   1.30000000e-01,   3.60000000e-01,\n",
       "          5.00000000e-02,   2.30000000e-01,   6.00000000e-02,\n",
       "          5.00000000e-02,   9.00000000e-02,   4.00000000e-02,\n",
       "          1.00000000e-01,   1.80000000e-01]),\n",
       " array([  7.45800000e+01,   2.50000000e-01,   5.10000000e+01,\n",
       "          1.33000000e+02,   2.05000000e+01,   1.00000000e+00,\n",
       "          0.00000000e+00,   3.30000000e-01,   2.20000000e-01,\n",
       "          4.00000000e-02,   7.00000000e-02,   6.00000000e-02,\n",
       "          1.00000000e-01,   6.00000000e-02,   1.20000000e-01,\n",
       "          2.40000000e-01,   1.50000000e-01]),\n",
       " array([  1.02700000e+01,   5.00000000e-02,   1.00000000e+01,\n",
       "          2.90000000e+01,   1.59000000e+01,   1.00000000e+00,\n",
       "          0.00000000e+00,   8.00000000e-02,   3.50000000e-01,\n",
       "          4.00000000e-02,   1.10000000e-01,   2.10000000e-01,\n",
       "          1.00000000e-02,   1.80000000e-01,   2.00000000e-02,\n",
       "          2.00000000e-02,   3.10000000e-01]),\n",
       " array([ 20.06,   0.86,  22.  ,  34.  ,  26.2 ,   1.  ,   0.  ,   0.05,\n",
       "          0.31,   0.12,   0.11,   0.08,   0.04,   0.17,   0.11,   0.16,\n",
       "          0.12]),\n",
       " array([  3.81600000e+01,   2.10000000e-01,   5.40000000e+01,\n",
       "          1.91000000e+02,   1.89000000e+01,   1.00000000e+00,\n",
       "          0.00000000e+00,   1.70000000e-01,   2.30000000e-01,\n",
       "          7.00000000e-02,   1.10000000e-01,   1.10000000e-01,\n",
       "          6.00000000e-02,   1.10000000e-01,   1.30000000e-01,\n",
       "          1.10000000e-01,   1.90000000e-01]),\n",
       " array([  2.13000000e+00,   2.00000000e-02,   0.00000000e+00,\n",
       "          5.00000000e+00,   3.53000000e+01,   1.00000000e+00,\n",
       "          0.00000000e+00,   2.40000000e-01,   1.40000000e-01,\n",
       "          9.00000000e-02,   1.30000000e-01,   6.00000000e-02,\n",
       "          1.20000000e-01,   1.10000000e-01,   1.10000000e-01,\n",
       "          1.10000000e-01,   1.00000000e-01]),\n",
       " array([  7.04000000e+00,   3.10000000e-01,   3.60000000e+01,\n",
       "          2.57000000e+02,   1.22000000e+01,   1.00000000e+00,\n",
       "          0.00000000e+00,   2.00000000e-01,   9.00000000e-02,\n",
       "          7.00000000e-02,   6.00000000e-02,   2.00000000e-02,\n",
       "          3.00000000e-01,   4.00000000e-02,   2.30000000e-01,\n",
       "          7.00000000e-02,   5.00000000e-02]),\n",
       " array([  6.74000000e+00,   2.10000000e-01,   1.70000000e+01,\n",
       "          7.30000000e+01,   2.86000000e+01,   1.00000000e+00,\n",
       "          0.00000000e+00,   2.30000000e-01,   2.60000000e-01,\n",
       "          2.00000000e-02,   1.30000000e-01,   1.20000000e-01,\n",
       "          3.00000000e-02,   1.40000000e-01,   8.00000000e-02,\n",
       "          1.00000000e-01,   1.90000000e-01]),\n",
       " array([  4.00000000e-01,   6.00000000e-02,   0.00000000e+00,\n",
       "          3.00000000e+00,   4.19000000e+01,   1.00000000e+00,\n",
       "          0.00000000e+00,   7.00000000e-02,   3.30000000e-01,\n",
       "          1.00000000e-01,   7.00000000e-02,   3.00000000e-02,\n",
       "          1.70000000e-01,   1.00000000e-01,   1.30000000e-01,\n",
       "          1.10000000e-01,   1.70000000e-01]),\n",
       " array([  9.88000000e+00,   3.00000000e-01,   3.00000000e+01,\n",
       "          6.10000000e+01,   2.54000000e+01,   1.00000000e+00,\n",
       "          0.00000000e+00,   1.10000000e-01,   2.40000000e-01,\n",
       "          5.00000000e-02,   1.20000000e-01,   1.10000000e-01,\n",
       "          6.00000000e-02,   1.50000000e-01,   1.50000000e-01,\n",
       "          9.00000000e-02,   2.00000000e-01]),\n",
       " array([  4.74,   0.29,  10.  ,  16.  ,  18.2 ,   1.  ,   0.  ,   0.13,\n",
       "          0.26,   0.08,   0.09,   0.13,   0.07,   0.1 ,   0.13,   0.08,\n",
       "          0.15]),\n",
       " array([  1.43900000e+01,   1.70000000e-01,   1.00000000e+01,\n",
       "          3.10000000e+01,   1.42000000e+01,   1.00000000e+00,\n",
       "          0.00000000e+00,   1.20000000e-01,   3.00000000e-01,\n",
       "          2.00000000e-02,   1.50000000e-01,   1.70000000e-01,\n",
       "          5.00000000e-02,   1.30000000e-01,   6.00000000e-02,\n",
       "          1.10000000e-01,   1.80000000e-01]),\n",
       " array([  4.69,   0.5 ,  14.  ,  28.  ,  14.5 ,   1.  ,   0.  ,   0.14,\n",
       "          0.33,   0.04,   0.1 ,   0.09,   0.07,   0.11,   0.13,   0.1 ,\n",
       "          0.19]),\n",
       " array([  5.16000000e+00,   1.60000000e-01,   4.20000000e+01,\n",
       "          1.23000000e+02,   1.85000000e+01,   1.00000000e+00,\n",
       "          0.00000000e+00,   1.50000000e-01,   3.50000000e-01,\n",
       "          4.00000000e-02,   1.30000000e-01,   8.00000000e-02,\n",
       "          7.00000000e-02,   1.50000000e-01,   3.00000000e-02,\n",
       "          1.00000000e-02,   6.00000000e-02]),\n",
       " array([  3.14,   0.33,  12.  ,  34.  ,  19.4 ,   1.  ,   0.  ,   0.17,\n",
       "          0.28,   0.04,   0.08,   0.11,   0.05,   0.15,   0.12,   0.1 ,\n",
       "          0.18]),\n",
       " array([  1.36,   0.  ,   0.  ,   0.  ,  18.9 ,   1.  ,   0.  ,   0.06,\n",
       "          0.65,   0.03,   0.09,   0.09,   0.  ,   0.06,   0.02,   0.03,\n",
       "          0.38]),\n",
       " array([  1.11600000e+01,   5.30000000e-01,   9.20000000e+01,\n",
       "          2.37000000e+02,   2.59000000e+01,   1.00000000e+00,\n",
       "          0.00000000e+00,   2.70000000e-01,   1.80000000e-01,\n",
       "          5.00000000e-02,   1.40000000e-01,   3.00000000e-02,\n",
       "          1.10000000e-01,   9.00000000e-02,   1.30000000e-01,\n",
       "          2.60000000e-01,   1.00000000e-01]),\n",
       " array([  3.35000000e+00,   8.00000000e-02,   2.00000000e+00,\n",
       "          3.30000000e+01,   2.23000000e+01,   1.00000000e+00,\n",
       "          0.00000000e+00,   9.00000000e-02,   2.50000000e-01,\n",
       "          1.60000000e-01,   1.60000000e-01,   8.00000000e-02,\n",
       "          4.00000000e-02,   1.30000000e-01,   9.00000000e-02,\n",
       "          2.00000000e-02,   1.30000000e-01]),\n",
       " array([  5.76000000e+00,   2.10000000e-01,   2.10000000e+01,\n",
       "          8.70000000e+01,   1.73000000e+01,   1.00000000e+00,\n",
       "          0.00000000e+00,   1.50000000e-01,   2.30000000e-01,\n",
       "          7.00000000e-02,   7.00000000e-02,   4.00000000e-02,\n",
       "          6.00000000e-02,   1.50000000e-01,   2.30000000e-01,\n",
       "          7.00000000e-02,   1.20000000e-01]),\n",
       " array([  4.22000000e+00,   4.00000000e-02,   9.00000000e+00,\n",
       "          3.70000000e+01,   2.05000000e+01,   1.00000000e+00,\n",
       "          0.00000000e+00,   9.00000000e-02,   3.20000000e-01,\n",
       "          2.00000000e-02,   1.10000000e-01,   2.00000000e-01,\n",
       "          4.00000000e-02,   1.40000000e-01,   8.00000000e-02,\n",
       "          3.00000000e-02,   3.10000000e-01]),\n",
       " array([  0. ,   0.5,   0. ,   1. ,  41.4,   1. ,   0. ,   0. ,   0. ,\n",
       "          0. ,   0.5,   0.5,   0. ,   0. ,   0. ,   0. ,   1. ]),\n",
       " array([  2.8 ,   0.43,  13.  ,  39.  ,  21.3 ,   1.  ,   0.  ,   0.12,\n",
       "          0.31,   0.06,   0.09,   0.08,   0.05,   0.14,   0.16,   0.1 ,\n",
       "          0.17]),\n",
       " array([  9.45000000e+00,   3.00000000e-02,   8.00000000e+00,\n",
       "          6.10000000e+01,   1.82000000e+01,   1.00000000e+00,\n",
       "          0.00000000e+00,   1.30000000e-01,   3.50000000e-01,\n",
       "          3.00000000e-02,   1.50000000e-01,   1.20000000e-01,\n",
       "          4.00000000e-02,   1.20000000e-01,   6.00000000e-02,\n",
       "          1.00000000e-01,   2.20000000e-01]),\n",
       " array([  4.46,   0.3 ,   5.  ,  12.  ,  22.  ,   1.  ,   0.  ,   0.32,\n",
       "          0.2 ,   0.03,   0.14,   0.05,   0.09,   0.09,   0.07,   0.05,\n",
       "          0.15]),\n",
       " array([  8.68000000e+00,   2.60000000e-01,   2.90000000e+01,\n",
       "          1.25000000e+02,   2.20000000e+01,   1.00000000e+00,\n",
       "          0.00000000e+00,   2.60000000e-01,   1.10000000e-01,\n",
       "          4.00000000e-02,   2.40000000e-01,   6.00000000e-02,\n",
       "          6.00000000e-02,   1.20000000e-01,   1.10000000e-01,\n",
       "          2.40000000e-01,   9.00000000e-02]),\n",
       " array([  1.20000000e+00,   1.00000000e-02,   0.00000000e+00,\n",
       "          2.00000000e+00,   1.93000000e+01,   1.00000000e+00,\n",
       "          0.00000000e+00,   6.00000000e-02,   3.60000000e-01,\n",
       "          6.00000000e-02,   5.00000000e-02,   1.60000000e-01,\n",
       "          1.00000000e-02,   2.10000000e-01,   7.00000000e-02,\n",
       "          1.00000000e-02,   4.40000000e-01]),\n",
       " array([  1.06400000e+01,   1.00000000e-02,   3.00000000e+00,\n",
       "          1.40000000e+01,   2.54000000e+01,   1.00000000e+00,\n",
       "          0.00000000e+00,   1.30000000e-01,   3.30000000e-01,\n",
       "          1.00000000e-01,   1.10000000e-01,   1.10000000e-01,\n",
       "          4.00000000e-02,   1.20000000e-01,   6.00000000e-02,\n",
       "          3.00000000e-02,   1.60000000e-01]),\n",
       " array([  1.90500000e+01,   9.00000000e-02,   4.90000000e+01,\n",
       "          1.04000000e+02,   1.79000000e+01,   1.00000000e+00,\n",
       "          0.00000000e+00,   7.00000000e-02,   3.50000000e-01,\n",
       "          1.00000000e-01,   1.00000000e-01,   1.40000000e-01,\n",
       "          5.00000000e-02,   1.40000000e-01,   7.00000000e-02,\n",
       "          3.00000000e-02,   1.70000000e-01]),\n",
       " array([  2.49900000e+01,   3.70000000e-01,   5.80000000e+01,\n",
       "          1.86000000e+02,   1.87000000e+01,   1.00000000e+00,\n",
       "          0.00000000e+00,   1.40000000e-01,   2.60000000e-01,\n",
       "          3.00000000e-02,   1.20000000e-01,   7.00000000e-02,\n",
       "          2.00000000e-01,   9.00000000e-02,   9.00000000e-02,\n",
       "          7.00000000e-02,   1.60000000e-01]),\n",
       " array([  1.20000000e+00,   2.00000000e-02,   0.00000000e+00,\n",
       "          9.00000000e+00,   2.39000000e+01,   1.00000000e+00,\n",
       "          0.00000000e+00,   1.20000000e-01,   1.70000000e-01,\n",
       "          1.70000000e-01,   7.00000000e-02,   3.00000000e-02,\n",
       "          8.00000000e-02,   1.70000000e-01,   1.90000000e-01,\n",
       "          7.00000000e-02,   1.10000000e-01]),\n",
       " array([  0.89,   0.  ,   1.  ,   7.  ,  12.4 ,   1.  ,   0.  ,   0.38,\n",
       "          0.22,   0.02,   0.03,   0.06,   0.14,   0.11,   0.05,   0.25,\n",
       "          0.03]),\n",
       " array([  9.06000000e+00,   2.90000000e-01,   1.60000000e+01,\n",
       "          1.34000000e+02,   8.76000000e+01,   1.00000000e+00,\n",
       "          0.00000000e+00,   7.00000000e-02,   4.00000000e-02,\n",
       "          8.00000000e-02,   2.80000000e-01,   1.00000000e-02,\n",
       "          4.60000000e-01,   2.00000000e-02,   3.00000000e-02,\n",
       "          2.80000000e-01,   4.00000000e-02]),\n",
       " array([  0.59,   0.  ,   0.  ,   0.  ,  34.9 ,   1.  ,   0.  ,   0.06,\n",
       "          0.22,   0.  ,   0.17,   0.22,   0.06,   0.17,   0.11,   0.05,\n",
       "          0.27]),\n",
       " array([  0.05,   0.  ,   0.  ,   1.  ,  10.2 ,   1.  ,   0.  ,   0.  ,\n",
       "          1.  ,   0.  ,   0.  ,   0.  ,   0.  ,   0.  ,   0.  ,   0.  ,   0.  ]),\n",
       " array([  1.50000000e+00,   1.00000000e-02,   0.00000000e+00,\n",
       "          7.00000000e+00,   2.46000000e+01,   1.00000000e+00,\n",
       "          0.00000000e+00,   1.30000000e-01,   3.20000000e-01,\n",
       "          6.00000000e-02,   8.00000000e-02,   1.30000000e-01,\n",
       "          4.00000000e-02,   1.80000000e-01,   5.00000000e-02,\n",
       "          2.00000000e-02,   2.90000000e-01]),\n",
       " array([  0.55,   0.08,   0.  ,   5.  ,  17.4 ,   1.  ,   0.  ,   0.05,\n",
       "          0.22,   0.08,   0.11,   0.08,   0.08,   0.14,   0.24,   0.02,\n",
       "          0.29]),\n",
       " array([  5.98,   0.03,   1.  ,  23.  ,  17.9 ,   1.  ,   0.  ,   0.21,\n",
       "          0.23,   0.09,   0.08,   0.08,   0.06,   0.08,   0.18,   0.11,\n",
       "          0.2 ]),\n",
       " array([  8.40000000e-01,   1.50000000e-01,   1.00000000e+00,\n",
       "          6.00000000e+00,   2.04000000e+01,   1.00000000e+00,\n",
       "          0.00000000e+00,   9.00000000e-02,   3.10000000e-01,\n",
       "          4.00000000e-02,   2.00000000e-02,   1.10000000e-01,\n",
       "          4.00000000e-02,   2.70000000e-01,   1.30000000e-01,\n",
       "          7.00000000e-02,   2.50000000e-01]),\n",
       " array([  7.08000000e+00,   2.00000000e-02,   2.00000000e+00,\n",
       "          1.20000000e+01,   2.06000000e+01,   1.00000000e+00,\n",
       "          0.00000000e+00,   1.10000000e-01,   3.10000000e-01,\n",
       "          4.00000000e-02,   7.00000000e-02,   1.10000000e-01,\n",
       "          4.00000000e-02,   1.90000000e-01,   1.30000000e-01,\n",
       "          8.00000000e-02,   2.80000000e-01]),\n",
       " array([  5.62,   0.  ,   0.  ,   0.  ,  18.8 ,   1.  ,   0.  ,   0.14,\n",
       "          0.57,   0.14,   0.  ,   0.  ,   0.  ,   0.14,   0.  ,   0.  ,\n",
       "          0.73]),\n",
       " array([  1.90000000e+00,   1.30000000e-01,   6.00000000e+00,\n",
       "          2.30000000e+01,   1.46000000e+01,   1.00000000e+00,\n",
       "          0.00000000e+00,   1.00000000e-01,   2.80000000e-01,\n",
       "          2.00000000e-02,   1.20000000e-01,   1.60000000e-01,\n",
       "          8.00000000e-02,   1.50000000e-01,   9.00000000e-02,\n",
       "          1.10000000e-01,   1.90000000e-01]),\n",
       " array([  5.35000000e+00,   2.80000000e-01,   3.20000000e+01,\n",
       "          8.70000000e+01,   3.62000000e+01,   1.00000000e+00,\n",
       "          0.00000000e+00,   1.50000000e-01,   2.30000000e-01,\n",
       "          9.00000000e-02,   8.00000000e-02,   5.00000000e-02,\n",
       "          1.00000000e-01,   2.10000000e-01,   1.00000000e-01,\n",
       "          1.40000000e-01,   2.60000000e-01]),\n",
       " array([  1.35900000e+01,   3.10000000e-01,   4.40000000e+01,\n",
       "          1.14000000e+02,   2.59000000e+01,   1.00000000e+00,\n",
       "          0.00000000e+00,   2.00000000e-01,   2.00000000e-01,\n",
       "          5.00000000e-02,   1.30000000e-01,   1.10000000e-01,\n",
       "          7.00000000e-02,   1.20000000e-01,   1.20000000e-01,\n",
       "          1.00000000e-01,   9.00000000e-02]),\n",
       " array([  2.75,   0.17,   8.  ,  16.  ,  18.7 ,   1.  ,   0.  ,   0.09,\n",
       "          0.3 ,   0.06,   0.08,   0.1 ,   0.04,   0.17,   0.17,   0.07,\n",
       "          0.22]),\n",
       " array([  2.20600000e+01,   9.00000000e-02,   1.50000000e+01,\n",
       "          2.30000000e+01,   2.05000000e+01,   1.00000000e+00,\n",
       "          0.00000000e+00,   1.30000000e-01,   3.80000000e-01,\n",
       "          4.00000000e-02,   1.20000000e-01,   1.40000000e-01,\n",
       "          3.00000000e-02,   1.40000000e-01,   2.00000000e-02,\n",
       "          7.00000000e-02,   2.30000000e-01]),\n",
       " array([  3.86000000e+01,   5.50000000e-01,   6.70000000e+01,\n",
       "          1.43000000e+02,   2.49000000e+01,   1.00000000e+00,\n",
       "          0.00000000e+00,   1.90000000e-01,   2.90000000e-01,\n",
       "          1.00000000e-02,   5.00000000e-02,   1.00000000e-02,\n",
       "          2.70000000e-01,   3.00000000e-02,   1.40000000e-01,\n",
       "          1.30000000e-01,   8.00000000e-02]),\n",
       " array([  3.08,   0.03,   2.  ,  17.  ,  23.6 ,   1.  ,   0.  ,   0.13,\n",
       "          0.23,   0.04,   0.16,   0.08,   0.07,   0.16,   0.12,   0.04,\n",
       "          0.13]),\n",
       " array([  8.00000000e-01,   4.70000000e-01,   5.00000000e+00,\n",
       "          2.40000000e+01,   2.54000000e+01,   1.00000000e+00,\n",
       "          0.00000000e+00,   2.50000000e-01,   2.50000000e-01,\n",
       "          2.00000000e-02,   1.50000000e-01,   4.00000000e-02,\n",
       "          6.00000000e-02,   8.00000000e-02,   1.50000000e-01,\n",
       "          1.80000000e-01,   1.40000000e-01]),\n",
       " array([  8.05000000e+01,   6.00000000e-02,   1.60000000e+01,\n",
       "          4.80000000e+01,   1.40000000e+01,   1.00000000e+00,\n",
       "          0.00000000e+00,   8.00000000e-02,   2.70000000e-01,\n",
       "          2.20000000e-01,   7.00000000e-02,   5.00000000e-02,\n",
       "          1.10000000e-01,   1.00000000e-01,   1.00000000e-01,\n",
       "          8.00000000e-02,   2.00000000e-01]),\n",
       " array([  1.13200000e+01,   5.00000000e-02,   1.10000000e+01,\n",
       "          5.30000000e+01,   1.56000000e+01,   1.00000000e+00,\n",
       "          0.00000000e+00,   1.10000000e-01,   4.00000000e-01,\n",
       "          3.00000000e-02,   8.00000000e-02,   1.30000000e-01,\n",
       "          4.00000000e-02,   1.10000000e-01,   1.00000000e-01,\n",
       "          7.00000000e-02,   3.00000000e-01]),\n",
       " array([  3.13500000e+01,   5.70000000e-01,   7.50000000e+01,\n",
       "          2.06000000e+02,   1.87000000e+01,   1.00000000e+00,\n",
       "          0.00000000e+00,   2.30000000e-01,   3.10000000e-01,\n",
       "          3.00000000e-02,   1.10000000e-01,   7.00000000e-02,\n",
       "          7.00000000e-02,   8.00000000e-02,   1.00000000e-01,\n",
       "          1.10000000e-01,   1.10000000e-01]),\n",
       " array([  4.87,   0.02,   2.  ,  13.  ,  15.8 ,   1.  ,   0.  ,   0.07,\n",
       "          0.27,   0.19,   0.06,   0.13,   0.03,   0.11,   0.14,   0.05,\n",
       "          0.19]),\n",
       " array([  1.69,   0.09,   4.  ,  19.  ,  32.1 ,   1.  ,   0.  ,   0.17,\n",
       "          0.22,   0.04,   0.09,   0.11,   0.21,   0.11,   0.04,   0.38,\n",
       "          0.16]),\n",
       " array([  3.65000000e+00,   2.00000000e-02,   2.00000000e+00,\n",
       "          1.10000000e+01,   1.09000000e+01,   1.00000000e+00,\n",
       "          0.00000000e+00,   5.00000000e-02,   4.90000000e-01,\n",
       "          8.00000000e-02,   2.00000000e-02,   1.50000000e-01,\n",
       "          4.00000000e-02,   1.20000000e-01,   6.00000000e-02,\n",
       "          1.00000000e-02,   3.50000000e-01])]"
      ]
     },
     "execution_count": 387,
     "metadata": {},
     "output_type": "execute_result"
    }
   ],
   "source": [
    "list(groupD1PoL)"
   ]
  },
  {
   "cell_type": "markdown",
   "metadata": {},
   "source": [
    "# *** Extracting Feature ***"
   ]
  },
  {
   "cell_type": "code",
   "execution_count": 388,
   "metadata": {},
   "outputs": [
    {
     "name": "stdout",
     "output_type": "stream",
     "text": [
      "CPU times: user 7min 57s, sys: 1.36 s, total: 7min 58s\n",
      "Wall time: 7min 54s\n"
     ]
    }
   ],
   "source": [
    "%%time\n",
    "groupD1Text, groupD1PoL, groupD1Sound, groupD1SoundStd = ([] for i in range(4))\n",
    "for patient in patientsD1:\n",
    "    groupD1Text.append(replace_by_symbols('\\n'.join(patientsD1[patient].getText())))\n",
    "    groupD1PoL.append(getPatternOfLifeFeatures(patientsD1[patient].df))\n",
    "groupD1Sound = getPhonologicalScores(groupD1Text)\n",
    "groupD1SoundStd = standardizeFeatures(groupD1Sound)\n",
    "\n",
    "    \n",
    "groupD2Text, groupD2PoL, groupD2Sound, groupD2SoundStd = ([] for i in range(4))\n",
    "for patient in patientsD2:\n",
    "    groupD2Text.append(replace_by_symbols('\\n'.join(patientsD2[patient].getText())))\n",
    "    groupD2PoL.append(getPatternOfLifeFeatures(patientsD2[patient].df))\n",
    "groupD2Sound = getPhonologicalScores(groupD2Text)\n",
    "groupD2SoundStd = standardizeFeatures(groupD2Sound)\n",
    "\n",
    "\n",
    "groupD3Text, groupD3PoL, groupD3Sound, groupD3SoundStd = ([] for i in range(4))\n",
    "for patient in patientsD3:\n",
    "    groupD3Text.append(replace_by_symbols('\\n'.join(patientsD3[patient].getText())))\n",
    "    groupD3PoL.append(getPatternOfLifeFeatures(patientsD3[patient].df))\n",
    "groupD3Sound = getPhonologicalScores(groupD3Text)\n",
    "groupD3SoundStd = standardizeFeatures(groupD3Sound)"
   ]
  },
  {
   "cell_type": "code",
   "execution_count": 389,
   "metadata": {
    "scrolled": true
   },
   "outputs": [
    {
     "name": "stdout",
     "output_type": "stream",
     "text": [
      "CPU times: user 1min 4s, sys: 216 ms, total: 1min 5s\n",
      "Wall time: 1min 4s\n"
     ]
    }
   ],
   "source": [
    "%%time\n",
    "baseD1Text, baseD1PoL, baseD1Sound, baseD1SoundStd = ([] for i in range(4))\n",
    "for ordinary in ordinarysD1:\n",
    "    baseD1Text.append(replace_by_symbols('\\n'.join(ordinarysD1[ordinary].getText())))\n",
    "    baseD1PoL.append(getPatternOfLifeFeatures(ordinarysD1[ordinary].df))\n",
    "baseD1Sound = getPhonologicalScores(baseD1Text)\n",
    "baseD1SoundStd = standardizeFeatures(baseD1Sound)   \n",
    "\n",
    "baseD2Text, baseD2PoL, baseD2Sound, baseD2SoundStd = ([] for i in range(4))\n",
    "for ordinary in ordinarysD2:\n",
    "    baseD2Text.append(replace_by_symbols('\\n'.join(ordinarysD2[ordinary].getText())))\n",
    "    baseD2PoL.append(getPatternOfLifeFeatures(ordinarysD2[ordinary].df))\n",
    "baseD2Sound = getPhonologicalScores(baseD2Text)\n",
    "baseD2SoundStd = standardizeFeatures(baseD2Sound)\n",
    "\n",
    "baseD3Text, baseD3PoL, baseD3Sound, baseD3SoundStd = ([] for i in range(4))\n",
    "for ordinary in ordinarysD3:\n",
    "    baseD3Text.append(replace_by_symbols('\\n'.join(ordinarysD3[ordinary].getText())))\n",
    "    baseD3PoL.append(getPatternOfLifeFeatures(ordinarysD3[ordinary].df))\n",
    "baseD3Sound = getPhonologicalScores(baseD3Text)\n",
    "baseD3SoundStd = standardizeFeatures(baseD3Sound)"
   ]
  },
  {
   "cell_type": "markdown",
   "metadata": {},
   "source": [
    "# Combine PoL and Sound"
   ]
  },
  {
   "cell_type": "code",
   "execution_count": 403,
   "metadata": {
    "collapsed": true
   },
   "outputs": [],
   "source": [
    "def combinePoLandSound(listPoL, listSound):\n",
    "    listPoLandSound = []\n",
    "    length = len(listPoL)\n",
    "    for i in range(length):\n",
    "        tmp = copy.deepcopy(list(listPoL[i]))\n",
    "        tmp.extend(listSound[i][0:-1])    # [0:-1]沒有考慮字數\n",
    "        listPoLandSound.append(tmp)\n",
    "    \n",
    "    return listPoLandSound"
   ]
  },
  {
   "cell_type": "code",
   "execution_count": 404,
   "metadata": {
    "collapsed": true
   },
   "outputs": [],
   "source": [
    "groupD1PoLAndSound, groupD2PoLAndSound, groupD3PoLAndSound = ([] for i in range(3))\n",
    "baseD1PoLAndSound, baseD2PoLAndSound, baseD3PoLAndSound = ([] for i in range(3))"
   ]
  },
  {
   "cell_type": "code",
   "execution_count": 405,
   "metadata": {},
   "outputs": [],
   "source": [
    "groupD1PoLAndSound = combinePoLandSound(groupD1PoL, groupD1SoundStd)\n",
    "groupD2PoLAndSound = combinePoLandSound(groupD2PoL, groupD2SoundStd)\n",
    "groupD3PoLAndSound = combinePoLandSound(groupD3PoL, groupD3SoundStd)\n",
    "baseD1PoLAndSound = combinePoLandSound(baseD1PoL, baseD1SoundStd)\n",
    "baseD2PoLAndSound = combinePoLandSound(baseD2PoL, baseD2SoundStd)\n",
    "baseD3PoLAndSound = combinePoLandSound(baseD3PoL, baseD3SoundStd)"
   ]
  },
  {
   "cell_type": "markdown",
   "metadata": {},
   "source": [
    "# Store Classifier Information"
   ]
  },
  {
   "cell_type": "code",
   "execution_count": 411,
   "metadata": {
    "collapsed": true
   },
   "outputs": [],
   "source": [
    "class ClassfierInfo(object):\n",
    "    \n",
    "    def __init__(self, name, cl, X, Y):\n",
    "        self.name = name\n",
    "        self.trainIndex = list()\n",
    "        self.testIndex = list()\n",
    "        self.precision = 0\n",
    "        self.X = X\n",
    "        self.Y = Y\n",
    "        self.classifier = cl\n",
    "#         self.prediction, self.bias, self.contributions = .predict(cl, X)"
   ]
  },
  {
   "cell_type": "markdown",
   "metadata": {},
   "source": [
    "# RandomForest Classifier"
   ]
  },
  {
   "cell_type": "code",
   "execution_count": 412,
   "metadata": {
    "collapsed": true
   },
   "outputs": [],
   "source": [
    "def getRandomForestPrecision(baseFeatures, groupFeatures, storageName, fold=10):\n",
    "    X = np.array(baseFeatures + groupFeatures)\n",
    "    Y = np.array([0] * len(baseFeatures) + [1]*len(groupFeatures), dtype=int)\n",
    "    sss = StratifiedShuffleSplit(Y, fold, random_state=randint(0,65536))\n",
    "    classifier  = RandomForestClassifier(n_jobs=-1, max_features=\"sqrt\", n_estimators=128)\n",
    "\n",
    "    classifierStorage = [None]*(sss.n_iter)\n",
    "    i = 0\n",
    "    for train_index, test_index in sss:\n",
    "\n",
    "        X_train, X_test = X[train_index], X[test_index]\n",
    "        Y_train, Y_test = Y[train_index], Y[test_index]\n",
    "        classifier = RandomForestClassifier(n_jobs=-1, max_features=\"sqrt\", n_estimators=128)\n",
    "        classifier.fit(X_train, Y_train)\n",
    "        precision = classifier.score(X_test, Y_test)\n",
    "\n",
    "        classifierStorage[i] = ClassfierInfo(storageName+\"-\"+str(i), classifier, X, Y)\n",
    "        classifierStorage[i].train_index = train_index\n",
    "        classifierStorage[i].test_index = test_index\n",
    "        classifierStorage[i].precision = precision\n",
    "        i += 1\n",
    "\n",
    "    avgPrecision = 0\n",
    "    print(\"Precision of {0}\".format(storageName))\n",
    "    print(\"-\"*30)\n",
    "    for i, cl in enumerate(classifierStorage):\n",
    "        print(\"{0}\\t{1}\".format(i, cl.precision))\n",
    "        avgPrecision += cl.precision\n",
    "    print(\"-\"*30)    \n",
    "    print(\"Avg. precision: {0}\".format(avgPrecision/fold))\n",
    "    \n",
    "    \n",
    "    return classifierStorage"
   ]
  },
  {
   "cell_type": "code",
   "execution_count": 413,
   "metadata": {},
   "outputs": [
    {
     "name": "stdout",
     "output_type": "stream",
     "text": [
      "Precision of D1\n",
      "------------------------------\n",
      "0\t1.0\n",
      "1\t0.9333333333333333\n",
      "2\t0.9666666666666667\n",
      "3\t0.9666666666666667\n",
      "4\t0.9666666666666667\n",
      "5\t1.0\n",
      "6\t1.0\n",
      "7\t1.0\n",
      "8\t1.0\n",
      "9\t1.0\n",
      "------------------------------\n",
      "Avg. precision: 0.9833333333333332\n"
     ]
    }
   ],
   "source": [
    "classfierD1 = getRandomForestPrecision(baseD1PoLAndSound, groupD1PoLAndSound, 'D1')"
   ]
  },
  {
   "cell_type": "code",
   "execution_count": 435,
   "metadata": {},
   "outputs": [
    {
     "data": {
      "text/plain": [
       "array([ 0.08774923,  0.00596148,  0.00602803,  0.0064884 ,  0.01729932,\n",
       "        0.        ,  0.        ,  0.0036945 ,  0.00559356,  0.01893263,\n",
       "        0.00921569,  0.01037329,  0.00446645,  0.00715401,  0.10923277,\n",
       "        0.23272461,  0.35836157,  0.01930981,  0.01123673,  0.01988788,\n",
       "        0.01901485,  0.0054097 ,  0.00835247,  0.0260299 ,  0.00748311])"
      ]
     },
     "execution_count": 435,
     "metadata": {},
     "output_type": "execute_result"
    }
   ],
   "source": [
    "classfierD1[0].classifier.feature_importances_"
   ]
  },
  {
   "cell_type": "code",
   "execution_count": 418,
   "metadata": {},
   "outputs": [
    {
     "name": "stdout",
     "output_type": "stream",
     "text": [
      "Precision of D1-PoL\n",
      "------------------------------\n",
      "0\t1.0\n",
      "1\t1.0\n",
      "2\t1.0\n",
      "3\t0.9666666666666667\n",
      "4\t0.9666666666666667\n",
      "5\t1.0\n",
      "6\t1.0\n",
      "7\t0.9666666666666667\n",
      "8\t0.9333333333333333\n",
      "9\t0.9666666666666667\n",
      "------------------------------\n",
      "Avg. precision: 0.9800000000000001\n"
     ]
    }
   ],
   "source": [
    "classfierD1PoL = getRandomForestPrecision(baseD1PoL, groupD1PoL, 'D1-PoL')"
   ]
  },
  {
   "cell_type": "code",
   "execution_count": 436,
   "metadata": {},
   "outputs": [
    {
     "data": {
      "text/plain": [
       "array([ 0.06888453,  0.00595246,  0.00937269,  0.01138908,  0.03581087,\n",
       "        0.        ,  0.        ,  0.00916809,  0.01834793,  0.01455097,\n",
       "        0.00836097,  0.01771271,  0.01157389,  0.01815934,  0.09358505,\n",
       "        0.24844239,  0.42868902])"
      ]
     },
     "execution_count": 436,
     "metadata": {},
     "output_type": "execute_result"
    }
   ],
   "source": [
    "classfierD1PoL[0].classifier.feature_importances_"
   ]
  },
  {
   "cell_type": "code",
   "execution_count": 416,
   "metadata": {},
   "outputs": [
    {
     "name": "stdout",
     "output_type": "stream",
     "text": [
      "Precision of D2\n",
      "------------------------------\n",
      "0\t1.0\n",
      "1\t0.9666666666666667\n",
      "2\t1.0\n",
      "3\t1.0\n",
      "4\t0.9666666666666667\n",
      "5\t0.9666666666666667\n",
      "6\t1.0\n",
      "7\t1.0\n",
      "8\t0.9\n",
      "9\t1.0\n",
      "------------------------------\n",
      "Avg. precision: 0.9800000000000001\n"
     ]
    }
   ],
   "source": [
    "classfierD2 = getRandomForestPrecision(baseD2PoLAndSound, groupD2PoLAndSound, 'D2')"
   ]
  },
  {
   "cell_type": "code",
   "execution_count": 437,
   "metadata": {},
   "outputs": [
    {
     "data": {
      "text/plain": [
       "array([ 0.07412156,  0.00520173,  0.00279475,  0.00872906,  0.01723311,\n",
       "        0.        ,  0.        ,  0.00551009,  0.00652568,  0.00781666,\n",
       "        0.01288525,  0.01753142,  0.00581413,  0.00587582,  0.10877502,\n",
       "        0.28402855,  0.30688402,  0.01206548,  0.01450654,  0.02831948,\n",
       "        0.03224837,  0.00494498,  0.00958443,  0.01986552,  0.00873834])"
      ]
     },
     "execution_count": 437,
     "metadata": {},
     "output_type": "execute_result"
    }
   ],
   "source": [
    "classfierD2[0].classifier.feature_importances_"
   ]
  },
  {
   "cell_type": "code",
   "execution_count": 417,
   "metadata": {},
   "outputs": [
    {
     "name": "stdout",
     "output_type": "stream",
     "text": [
      "Precision of D2-PoL\n",
      "------------------------------\n",
      "0\t0.9666666666666667\n",
      "1\t1.0\n",
      "2\t0.9666666666666667\n",
      "3\t0.9666666666666667\n",
      "4\t0.9666666666666667\n",
      "5\t1.0\n",
      "6\t0.9666666666666667\n",
      "7\t0.9666666666666667\n",
      "8\t1.0\n",
      "9\t0.9666666666666667\n",
      "------------------------------\n",
      "Avg. precision: 0.9766666666666668\n"
     ]
    }
   ],
   "source": [
    "classfierD2PoL = getRandomForestPrecision(baseD2PoL, groupD2PoL, 'D2-PoL')"
   ]
  },
  {
   "cell_type": "code",
   "execution_count": 438,
   "metadata": {},
   "outputs": [
    {
     "data": {
      "text/plain": [
       "array([ 0.08961264,  0.00687797,  0.00681916,  0.01025267,  0.03044665,\n",
       "        0.        ,  0.        ,  0.00841392,  0.0174694 ,  0.01465152,\n",
       "        0.01328498,  0.021413  ,  0.01082464,  0.01933149,  0.11995047,\n",
       "        0.24802527,  0.38262621])"
      ]
     },
     "execution_count": 438,
     "metadata": {},
     "output_type": "execute_result"
    }
   ],
   "source": [
    "classfierD2PoL[0].classifier.feature_importances_"
   ]
  },
  {
   "cell_type": "code",
   "execution_count": 431,
   "metadata": {
    "scrolled": true
   },
   "outputs": [
    {
     "name": "stdout",
     "output_type": "stream",
     "text": [
      "Precision of D3\n",
      "------------------------------\n",
      "0\t1.0\n",
      "1\t0.9666666666666667\n",
      "2\t1.0\n",
      "3\t1.0\n",
      "4\t1.0\n",
      "5\t1.0\n",
      "6\t1.0\n",
      "7\t1.0\n",
      "8\t1.0\n",
      "9\t0.9666666666666667\n",
      "------------------------------\n",
      "Avg. precision: 0.9933333333333334\n"
     ]
    }
   ],
   "source": [
    "classfierD3 = getRandomForestPrecision(baseD3PoLAndSound, groupD3PoLAndSound, 'D3')"
   ]
  },
  {
   "cell_type": "code",
   "execution_count": 439,
   "metadata": {},
   "outputs": [
    {
     "data": {
      "text/plain": [
       "array([ 0.08454541,  0.00795675,  0.00901815,  0.00994495,  0.01473869,\n",
       "        0.        ,  0.        ,  0.00445123,  0.00456905,  0.01577546,\n",
       "        0.01179244,  0.02742571,  0.00369138,  0.0074923 ,  0.08334879,\n",
       "        0.29086979,  0.32897338,  0.01400976,  0.01122154,  0.0169663 ,\n",
       "        0.01341126,  0.00619417,  0.00362518,  0.01853572,  0.0114426 ])"
      ]
     },
     "execution_count": 439,
     "metadata": {},
     "output_type": "execute_result"
    }
   ],
   "source": [
    "classfierD3[0].classifier.feature_importances_"
   ]
  },
  {
   "cell_type": "code",
   "execution_count": 433,
   "metadata": {},
   "outputs": [
    {
     "name": "stdout",
     "output_type": "stream",
     "text": [
      "Precision of D3-PoL\n",
      "------------------------------\n",
      "0\t1.0\n",
      "1\t1.0\n",
      "2\t0.9666666666666667\n",
      "3\t1.0\n",
      "4\t1.0\n",
      "5\t0.9666666666666667\n",
      "6\t1.0\n",
      "7\t0.9666666666666667\n",
      "8\t1.0\n",
      "9\t0.9666666666666667\n",
      "------------------------------\n",
      "Avg. precision: 0.9866666666666667\n"
     ]
    }
   ],
   "source": [
    "classfierD3PoL = getRandomForestPrecision(baseD3PoL, groupD3PoL, 'D3-PoL')"
   ]
  },
  {
   "cell_type": "code",
   "execution_count": 440,
   "metadata": {},
   "outputs": [
    {
     "data": {
      "text/plain": [
       "array([ 0.09239525,  0.00733732,  0.01195268,  0.01867531,  0.03212464,\n",
       "        0.        ,  0.        ,  0.0045369 ,  0.00646549,  0.00632691,\n",
       "        0.01951592,  0.02581771,  0.00971273,  0.01297086,  0.05282221,\n",
       "        0.26651012,  0.43283596])"
      ]
     },
     "execution_count": 440,
     "metadata": {},
     "output_type": "execute_result"
    }
   ],
   "source": [
    "classfierD3PoL[0].classifier.feature_importances_"
   ]
  },
  {
   "cell_type": "code",
   "execution_count": null,
   "metadata": {
    "collapsed": true
   },
   "outputs": [],
   "source": []
  }
 ],
 "metadata": {
  "kernelspec": {
   "display_name": "Python 3",
   "language": "python",
   "name": "python3"
  },
  "language_info": {
   "codemirror_mode": {
    "name": "ipython",
    "version": 3
   },
   "file_extension": ".py",
   "mimetype": "text/x-python",
   "name": "python",
   "nbconvert_exporter": "python",
   "pygments_lexer": "ipython3",
   "version": "3.5.2"
  }
 },
 "nbformat": 4,
 "nbformat_minor": 2
}
