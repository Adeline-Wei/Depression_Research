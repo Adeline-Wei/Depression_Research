{
 "cells": [
  {
   "cell_type": "code",
   "execution_count": 1,
   "metadata": {},
   "outputs": [
    {
     "name": "stderr",
     "output_type": "stream",
     "text": [
      "/usr/local/lib/python3.5/dist-packages/sklearn/cross_validation.py:41: DeprecationWarning: This module was deprecated in version 0.18 in favor of the model_selection module into which all the refactored classes and functions are moved. Also note that the interface of the new CV iterators are different from that of this module. This module will be removed in 0.20.\n",
      "  \"This module will be removed in 0.20.\", DeprecationWarning)\n"
     ]
    }
   ],
   "source": [
    "import re, math\n",
    "import operator\n",
    "import numpy as np\n",
    "import pandas as pd\n",
    "from sklearn.ensemble import RandomForestClassifier\n",
    "from sklearn.feature_extraction.text import TfidfVectorizer\n",
    "from sklearn.cross_validation import StratifiedShuffleSplit\n",
    "from random import randint\n",
    "import ipynb.fs.defs.PeopleInfo as peopleInfo\n",
    "from nltk.corpus import stopwords\n",
    "from nltk import TweetTokenizer\n",
    "from nltk import PorterStemmer\n",
    "# import ipynb.fs.defs.TweetTextHandler as tweetTextHandler\n",
    "import ipynb.fs.defs.FilterMethods as filterMethods\n",
    "import sys, os\n",
    "sys.path.append('../2_feature')\n",
    "import ipynb.fs.defs.GetFeatures as getFeatures\n",
    "global stop_words\n",
    "stop_words = stopwords.words('english')\n",
    "import plotly\n",
    "import plotly.plotly as py\n",
    "import plotly.graph_objs as go\n",
    "from IPython.display import display, Image\n",
    "plotly.tools.set_credentials_file(username='Adeline', api_key='Z5eltNtBQXqvI05ZFQtz')\n",
    "# import plotly.offline as offline\n",
    "# offline.init_notebook_mode(connected=True)"
   ]
  },
  {
   "cell_type": "code",
   "execution_count": 2,
   "metadata": {
    "collapsed": true
   },
   "outputs": [],
   "source": [
    "def replace_by_symbols(txt):\n",
    "#     txt = re.sub(r\"https\\S+\", 'URL', txt)\n",
    "#     txt = re.sub(r\"http\\S+\", 'URL', txt)\n",
    "#     txt = re.sub(r\"pic.twitter.com\\S+\", 'URL', txt)\n",
    "#     txt = re.sub(r\"twitter.com/\\S+\", 'URL', txt)\n",
    "#     txt = re.sub(r\"\\S+/\\S+\", 'URL', txt)\n",
    "#     txt = re.sub(r\"@\\S+\", 'USERMENTION', txt)\n",
    "#     txt = re.sub(r\"#\\S+\", 'HASHTAG', txt)\n",
    "    txt = re.sub(r\"https\\S+\", '', txt)\n",
    "    txt = re.sub(r\"http\\S+\", '', txt)\n",
    "    txt = re.sub(r\"pic.twitter.com\\S+\", '', txt)\n",
    "    txt = re.sub(r\"twitter.com/\\S+\", '', txt)\n",
    "    txt = re.sub(r\"\\S+/\\S+\", '', txt)\n",
    "    txt = re.sub(r\"@\\S+\", '', txt)\n",
    "    txt = re.sub(r\"#\\S+\", '', txt)\n",
    "    txt = re.sub(r\"idk\", 'i do not know', txt)   # idk: i don't know\n",
    "    txt = re.sub(r\"tho\", 'though', txt)   # tho\n",
    "    txt = re.sub(r\"i\\'m\", 'i am', txt)\n",
    "    txt = re.sub(r\"you\\'re\", 'you are', txt)\n",
    "    txt = re.sub(r\"he\\'s\", 'he is', txt)\n",
    "    txt = re.sub(r\"she\\'s\", 'she is', txt)\n",
    "    txt = re.sub(r\"it\\'s\", 'it is', txt)\n",
    "    txt = re.sub(r\"we\\'re\", 'we are', txt)\n",
    "    txt = re.sub(r\"they\\'re\", 'they are', txt)\n",
    "    txt = re.sub(r\"isn\\'t\", 'is not', txt)\n",
    "    txt = re.sub(r\"don\\'t\", 'do not', txt)\n",
    "    txt = re.sub(r\"doesn\\'t\", 'does not', txt)\n",
    "    txt = re.sub(r\"didn\\'t\", 'did not', txt)\n",
    "    txt = re.sub(r\"wasn\\'t\", 'was not', txt)\n",
    "    txt = re.sub(r\"weren\\'t\", 'were not', txt)\n",
    "    txt = re.sub(r\"can\\'t\", 'can not', txt)\n",
    "    txt = re.sub(r\"couldn\\'t\", 'could not', txt)\n",
    "    txt = re.sub(r\"wouldn\\'t\", 'would not', txt)\n",
    "#     txt = re.sub(r\"\\S+\\'ll\", '{0} will'.format(txt[0:-3]), txt)\n",
    "#     txt = re.sub(r\"\\S+\\'ve\", '{0} have'.format(txt[0:-3]), txt)\n",
    "    return txt"
   ]
  },
  {
   "cell_type": "code",
   "execution_count": 3,
   "metadata": {
    "collapsed": true
   },
   "outputs": [],
   "source": [
    "patients = dict()\n",
    "ordinarys = dict()\n",
    "with open('../0_dataset/patient_ids') as r:\n",
    "    for patient in r.readlines()[:100]:\n",
    "        patient = patient.strip()\n",
    "        patients[patient] = peopleInfo.Patient(patient)\n",
    "with open('../0_dataset/ordinary_ids') as r:\n",
    "    for ordinary in r.readlines()[:100]:\n",
    "        ordinary = ordinary.strip()\n",
    "        ordinarys[ordinary] = peopleInfo.Ordinary(ordinary)"
   ]
  },
  {
   "cell_type": "code",
   "execution_count": 6,
   "metadata": {},
   "outputs": [
    {
     "name": "stdout",
     "output_type": "stream",
     "text": [
      "Remove users:[]\n",
      "Remove users:[]\n"
     ]
    }
   ],
   "source": [
    "patients = filterMethods.filter_user_by_tweet_number(patients)\n",
    "ordinarys = filterMethods.filter_user_by_tweet_number(ordinarys)"
   ]
  },
  {
   "cell_type": "code",
   "execution_count": 7,
   "metadata": {},
   "outputs": [],
   "source": [
    "base_texts = []\n",
    "group_texts = []\n",
    "\n",
    "for key in patients.keys():\n",
    "    group_texts.append(replace_by_symbols('\\n'.join(patients[key].getText())))\n",
    "\n",
    "for key in ordinarys.keys():\n",
    "    base_texts.append(replace_by_symbols('\\n'.join(ordinarys[key].getText())))\n",
    "\n",
    "corpus = base_texts + group_texts"
   ]
  },
  {
   "cell_type": "code",
   "execution_count": 12,
   "metadata": {},
   "outputs": [],
   "source": [
    "def create_vectorizer():\n",
    "    vectorizer = TfidfVectorizer(stop_words=\"english\", token_pattern='(?u)\\\\b[a-zA-Z]\\\\w{2,}\\\\b', ngram_range = (1,1), min_df=1)\n",
    "    return vectorizer"
   ]
  },
  {
   "cell_type": "code",
   "execution_count": 38,
   "metadata": {},
   "outputs": [],
   "source": [
    "def display_scores(vectorizer, tfidf_result):\n",
    "    # http://stackoverflow.com/questions/16078015/\n",
    "    scores = zip(vectorizer.get_feature_names(),\n",
    "                 np.asarray(tfidf_result.sum(axis=0)).ravel())\n",
    "    sorted_scores = sorted(scores, key=lambda x: x[1], reverse=True)\n",
    "    words = []\n",
    "    scores = []\n",
    "    for item in sorted_scores[:100]:\n",
    "        print(\"{0:30}\\tScore: {1}\".format(item[0], item[1]))\n",
    "#     for item in sorted_scores[:100]:\n",
    "#         words.append(item[0])\n",
    "#         scores.append(item[1])\n",
    "#     return words, scores"
   ]
  },
  {
   "cell_type": "markdown",
   "metadata": {},
   "source": [
    "# TF-IDF (Mix)"
   ]
  },
  {
   "cell_type": "code",
   "execution_count": 39,
   "metadata": {
    "scrolled": false
   },
   "outputs": [
    {
     "name": "stdout",
     "output_type": "stream",
     "text": [
      "just                          \tScore: 17.14452918209988\n",
      "like                          \tScore: 15.37073891937705\n",
      "love                          \tScore: 12.7235574780505\n",
      "lol                           \tScore: 9.33724674489984\n",
      "know                          \tScore: 9.17101903136456\n",
      "people                        \tScore: 8.541506205066401\n",
      "good                          \tScore: 8.269798836092946\n",
      "want                          \tScore: 7.9386156745784096\n",
      "really                        \tScore: 7.795278980867316\n",
      "day                           \tScore: 7.2506707341165315\n",
      "time                          \tScore: 7.190305986253592\n",
      "thank                         \tScore: 7.176296748892114\n",
      "did                           \tScore: 6.963546741778938\n",
      "today                         \tScore: 6.419045311679172\n",
      "need                          \tScore: 6.281900618607257\n",
      "think                         \tScore: 6.176412203613765\n",
      "got                           \tScore: 6.069076297639588\n",
      "life                          \tScore: 5.8297357147029185\n",
      "shit                          \tScore: 5.705935476088171\n",
      "going                         \tScore: 5.657684683950505\n",
      "amp                           \tScore: 5.6202590747172545\n",
      "feel                          \tScore: 5.545208393468654\n",
      "new                           \tScore: 5.432943334099569\n",
      "fuck                          \tScore: 5.122466879060334\n",
      "happy                         \tScore: 4.931012847865775\n",
      "right                         \tScore: 4.780186091585588\n",
      "fucking                       \tScore: 4.742408532361039\n",
      "make                          \tScore: 4.644202235190839\n",
      "does                          \tScore: 4.634438839254786\n",
      "thanks                        \tScore: 4.467312507053274\n",
      "great                         \tScore: 4.410175658832073\n",
      "yes                           \tScore: 4.3653885436876765\n",
      "hate                          \tScore: 4.316231785865047\n",
      "work                          \tScore: 4.277687495026386\n",
      "way                           \tScore: 4.214236585947398\n",
      "best                          \tScore: 4.109566281309443\n",
      "lmao                          \tScore: 4.095078638072069\n",
      "gonna                         \tScore: 3.9773948912137698\n",
      "let                           \tScore: 3.923052915619005\n",
      "look                          \tScore: 3.9101217408880315\n",
      "come                          \tScore: 3.696768338270993\n",
      "better                        \tScore: 3.65357738991747\n",
      "hope                          \tScore: 3.5644206565179393\n",
      "say                           \tScore: 3.53367865424767\n",
      "night                         \tScore: 3.5113556030803417\n",
      "omg                           \tScore: 3.488784997690551\n",
      "week                          \tScore: 3.472384868454938\n",
      "friends                       \tScore: 3.455286597682688\n",
      "girl                          \tScore: 3.42270882983203\n",
      "thing                         \tScore: 3.3697325152587836\n",
      "bad                           \tScore: 3.3438292408271932\n",
      "birthday                      \tScore: 3.3289068981277685\n",
      "man                           \tScore: 3.3210082848002265\n",
      "yeah                          \tScore: 3.249584675308179\n",
      "wanna                         \tScore: 3.2299324077423566\n",
      "god                           \tScore: 3.2270264671029922\n",
      "wait                          \tScore: 3.181628897776412\n",
      "little                        \tScore: 3.122993926296073\n",
      "home                          \tScore: 3.1106665608108544\n",
      "sleep                         \tScore: 3.1042199951296507\n",
      "said                          \tScore: 3.101992630513633\n",
      "morning                       \tScore: 3.0612463660136737\n",
      "stop                          \tScore: 2.970331026788301\n",
      "follow                        \tScore: 2.9642652403176832\n",
      "tell                          \tScore: 2.953432119544276\n",
      "actually                      \tScore: 2.952288552150036\n",
      "tomorrow                      \tScore: 2.9443683222430965\n",
      "beautiful                     \tScore: 2.9307488148104075\n",
      "okay                          \tScore: 2.9066406285165565\n",
      "things                        \tScore: 2.852164245689174\n",
      "miss                          \tScore: 2.8467328462628805\n",
      "wish                          \tScore: 2.844953994984561\n",
      "tonight                       \tScore: 2.8125153097117375\n",
      "haha                          \tScore: 2.8116750832096575\n",
      "sure                          \tScore: 2.7844245601719373\n",
      "amazing                       \tScore: 2.7501790552899172\n",
      "days                          \tScore: 2.7355631748809146\n",
      "getting                       \tScore: 2.731635752748192\n",
      "trying                        \tScore: 2.7016196663384426\n",
      "twitter                       \tScore: 2.6593358278159673\n",
      "ass                           \tScore: 2.6535147048837664\n",
      "guys                          \tScore: 2.6485030257640156\n",
      "doing                         \tScore: 2.6323753290603955\n",
      "literally                     \tScore: 2.578211422186227\n",
      "year                          \tScore: 2.575403247632198\n",
      "school                        \tScore: 2.5656372806874135\n",
      "makes                         \tScore: 2.545327458652632\n",
      "away                          \tScore: 2.5378910816678997\n",
      "friend                        \tScore: 2.5219213295214074\n",
      "watch                         \tScore: 2.520987155289819\n",
      "don                           \tScore: 2.506573815496204\n",
      "long                          \tScore: 2.485652216592657\n",
      "sorry                         \tScore: 2.473865889702496\n",
      "person                        \tScore: 2.4731443911140856\n",
      "help                          \tScore: 2.4648526657164735\n",
      "wow                           \tScore: 2.464179548866895\n",
      "thoughught                    \tScore: 2.395433886689069\n",
      "try                           \tScore: 2.3667892052753174\n",
      "lot                           \tScore: 2.3148926080641714\n",
      "talk                          \tScore: 2.286077830305702\n"
     ]
    }
   ],
   "source": [
    "vectorizer = create_vectorizer()\n",
    "tfidf_result = vectorizer.fit_transform(corpus)\n",
    "# lst1, lst2 = display_scores(vectorizer, tfidf_result)\n",
    "display_scores(vectorizer, tfidf_result)\n",
    "# pd.set_option('display.max_columns', None)\n",
    "# pd.DataFrame(list(zip(lst1,lst2)), columns=['Word','Score'])"
   ]
  },
  {
   "cell_type": "markdown",
   "metadata": {},
   "source": [
    "# TF-IDF (Base)"
   ]
  },
  {
   "cell_type": "code",
   "execution_count": null,
   "metadata": {},
   "outputs": [],
   "source": [
    "vectorizer = create_vectorizer()\n",
    "tfidf_result = vectorizer.fit_transform(base_texts)\n",
    "display_scores(vectorizer, tfidf_result)"
   ]
  },
  {
   "cell_type": "code",
   "execution_count": 26,
   "metadata": {},
   "outputs": [
    {
     "name": "stdout",
     "output_type": "stream",
     "text": [
      "just\tScore: 11.840374598781692\n",
      "like\tScore: 10.607918209544875\n",
      "love\tScore: 8.880044430846423\n",
      "know\tScore: 6.1386632056295465\n",
      "people\tScore: 5.629592469063686\n",
      "good\tScore: 5.379822587056073\n",
      "want\tScore: 5.0014382279572915\n",
      "lol\tScore: 4.928931735236844\n",
      "really\tScore: 4.877489629624206\n",
      "thank\tScore: 4.807460065074168\n",
      "did\tScore: 4.625035564589052\n",
      "time\tScore: 4.2031384705488515\n",
      "day\tScore: 4.138166454199505\n",
      "life\tScore: 3.9296632391972786\n",
      "shit\tScore: 3.9187086575962486\n",
      "think\tScore: 3.917392572752902\n",
      "need\tScore: 3.852857772689931\n",
      "fuck\tScore: 3.8224055026734045\n",
      "got\tScore: 3.82235950693848\n",
      "feel\tScore: 3.79873739989057\n",
      "fucking\tScore: 3.436510966122875\n",
      "going\tScore: 3.40276453896224\n",
      "lmao\tScore: 3.289144765521493\n",
      "today\tScore: 3.2481035674521115\n",
      "right\tScore: 3.017475984781202\n",
      "happy\tScore: 2.9953806994163465\n",
      "make\tScore: 2.874211104494928\n",
      "new\tScore: 2.7849080872323224\n",
      "gonna\tScore: 2.7819650033052223\n",
      "yes\tScore: 2.779388133945607\n",
      "does\tScore: 2.7727102769064693\n",
      "way\tScore: 2.5995805076327834\n",
      "hate\tScore: 2.484146192984082\n",
      "look\tScore: 2.4808801577571526\n",
      "omg\tScore: 2.4517563294062685\n",
      "thanks\tScore: 2.352921620227819\n",
      "work\tScore: 2.342073222229434\n",
      "let\tScore: 2.339354918762453\n",
      "better\tScore: 2.3311082311467834\n",
      "hope\tScore: 2.3203608604054926\n",
      "say\tScore: 2.23114533433462\n",
      "best\tScore: 2.2169836069216418\n",
      "yeah\tScore: 2.1349525445612123\n",
      "friends\tScore: 2.1314171107725395\n",
      "man\tScore: 2.1049855414347225\n",
      "okay\tScore: 2.068174761602357\n",
      "bad\tScore: 2.0648820918244866\n",
      "great\tScore: 2.0575104553973893\n",
      "stop\tScore: 2.046182823886757\n",
      "come\tScore: 2.0217323990989735\n",
      "said\tScore: 2.021349080081113\n",
      "thing\tScore: 2.0072976868107117\n",
      "things\tScore: 1.976340350111654\n",
      "god\tScore: 1.9671889026279326\n",
      "morning\tScore: 1.9540616045780062\n",
      "night\tScore: 1.9348772225508353\n",
      "wanna\tScore: 1.9284672593742826\n",
      "girl\tScore: 1.9081693576626053\n",
      "beautiful\tScore: 1.8910465510966474\n",
      "literally\tScore: 1.8326832784272424\n",
      "actually\tScore: 1.8270989663975916\n",
      "ass\tScore: 1.8156412609773942\n",
      "tell\tScore: 1.8017627880732516\n",
      "wish\tScore: 1.7855798843287158\n",
      "getting\tScore: 1.7355191536178396\n",
      "sorry\tScore: 1.714559830882087\n",
      "doing\tScore: 1.6934921734510517\n",
      "guys\tScore: 1.666792605102962\n",
      "friend\tScore: 1.6657180651962928\n",
      "amazing\tScore: 1.6641270422191987\n",
      "sleep\tScore: 1.6637648325520518\n",
      "little\tScore: 1.6606995413873118\n",
      "haha\tScore: 1.6560037593286687\n",
      "sure\tScore: 1.6461622034479184\n",
      "trying\tScore: 1.6407353232100563\n",
      "help\tScore: 1.6164970325461718\n",
      "don\tScore: 1.6062051991203725\n",
      "person\tScore: 1.600986849625185\n",
      "wow\tScore: 1.5632342366568819\n",
      "birthday\tScore: 1.5544648716026401\n",
      "thoughught\tScore: 1.5533665583397838\n",
      "makes\tScore: 1.5500900086265081\n",
      "twitter\tScore: 1.5435166587561702\n",
      "miss\tScore: 1.5287651902504087\n",
      "wait\tScore: 1.523751520832199\n",
      "away\tScore: 1.5114397684297982\n",
      "days\tScore: 1.5033517012909154\n",
      "home\tScore: 1.494619891823564\n",
      "hard\tScore: 1.4921286115947767\n",
      "lot\tScore: 1.4816735967379804\n",
      "talk\tScore: 1.470454793402028\n",
      "honestly\tScore: 1.4643558527783833\n",
      "live\tScore: 1.462733440725092\n",
      "week\tScore: 1.4593245123348317\n",
      "mom\tScore: 1.4331987380255509\n",
      "ako\tScore: 1.4326252579366432\n",
      "mean\tScore: 1.4268613004992543\n",
      "follow\tScore: 1.4249102270129865\n",
      "years\tScore: 1.4206335186735495\n",
      "having\tScore: 1.4198785631377666\n"
     ]
    }
   ],
   "source": [
    "vectorizer = create_vectorizer()\n",
    "tfidf_result = vectorizer.fit_transform(group_texts)\n",
    "display_scores(vectorizer, tfidf_result)"
   ]
  },
  {
   "cell_type": "code",
   "execution_count": null,
   "metadata": {
    "collapsed": true
   },
   "outputs": [],
   "source": []
  }
 ],
 "metadata": {
  "kernelspec": {
   "display_name": "Python 3",
   "language": "python",
   "name": "python3"
  },
  "language_info": {
   "codemirror_mode": {
    "name": "ipython",
    "version": 3
   },
   "file_extension": ".py",
   "mimetype": "text/x-python",
   "name": "python",
   "nbconvert_exporter": "python",
   "pygments_lexer": "ipython3",
   "version": "3.5.2"
  }
 },
 "nbformat": 4,
 "nbformat_minor": 2
}
