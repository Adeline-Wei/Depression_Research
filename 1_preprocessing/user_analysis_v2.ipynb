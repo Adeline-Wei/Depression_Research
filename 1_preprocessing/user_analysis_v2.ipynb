{
 "cells": [
  {
   "cell_type": "code",
   "execution_count": 1,
   "metadata": {
    "collapsed": true
   },
   "outputs": [],
   "source": [
    "import os\n",
    "import pandas as pd\n",
    "import datetime\n",
    "from nltk.tokenize import TweetTokenizer\n",
    "from nltk.corpus import stopwords\n",
    "# from nltk.stem.porter import PorterStemmer\n",
    "# 引用 tweetTextHandler.ipynb\n",
    "import ipynb.fs.defs.TweetTextHandler as tweetTextHandler\n",
    "import operator\n",
    "global stop_words\n",
    "stop_words = stopwords.words('english')"
   ]
  },
  {
   "cell_type": "code",
   "execution_count": 2,
   "metadata": {
    "collapsed": true
   },
   "outputs": [],
   "source": [
    "def getWordsDict(texts):\n",
    "    global stop_words\n",
    "    wordDict = dict()\n",
    "    stopwordDict = dict()\n",
    "    stopwordTweetCount = 0\n",
    "    tknzr = TweetTokenizer()\n",
    "\n",
    "    for txt in texts:\n",
    "        stopwordFlag = False\n",
    "        try:\n",
    "            txt = tweetTextHandler.del_url(txt)\n",
    "            for token in tknzr.tokenize(txt):\n",
    "                #token = porter.stem(token.lower())\n",
    "                if token.isdigit():\n",
    "                    pass\n",
    "                elif token in stop_words:\n",
    "                    stopwordDict[token] = stopwordDict.get(token, 0) + 1\n",
    "                    stopwordFlag = True\n",
    "                else:\n",
    "                    wordDict[token] = wordDict.get(token, 0) + 1\n",
    "            if stopwordFlag:\n",
    "                stopwordTweetCount += 1\n",
    "        except Exception as e:\n",
    "            #print(\"Error message:\", e)\n",
    "            pass\n",
    "    return wordDict, stopwordDict, stopwordTweetCount"
   ]
  },
  {
   "cell_type": "code",
   "execution_count": 3,
   "metadata": {
    "collapsed": true
   },
   "outputs": [],
   "source": [
    "class Patient(object):\n",
    "    totalCount = 0\n",
    "    diagnosedTimeAndText = dict()\n",
    "    with open('../0_dataset/diagnosed_tweets.csv') as open_file:\n",
    "        for line in open_file.readlines():\n",
    "            line = line.strip().split('\\t')\n",
    "            diagnosedTimeAndText[line[1]] = (line[0], line[2])\n",
    "       \n",
    "    def __init__(self, name):\n",
    "        self.name = name\n",
    "        self.df = pd.read_csv('../0_dataset/DepressionUsersTweets/'+name,sep='\\t',header=None,usecols=[2,3],names=['Date','Text'],quoting=3,error_bad_lines=False,encoding='utf-8',keep_default_na=False).dropna(axis=0, how='any')\n",
    "        self.diagnosedTime = datetime.datetime.strptime(Patient.diagnosedTimeAndText[name][1], \"%Y-%m-%d %H:%M:%S\")\n",
    "        self.diagnosedTweet = Patient.diagnosedTimeAndText[name][0]\n",
    "        \n",
    "        beforeDiagosedTime = str(self.diagnosedTime - datetime.timedelta(days=90))\n",
    "        self.inRangeDf = self.df[self.df['Date'].between(beforeDiagosedTime, str(self.diagnosedTime))]\n",
    "        \n",
    "        Patient.totalCount += 1 \n",
    "        \n",
    "    def displayCount(self):\n",
    "        print(\"Total Patients {0}\".format(Patient.totalCount))\n",
    "    \n",
    "    def displayTweetsCount(self, category='inRange'):\n",
    "        if category == 'inRange':\n",
    "            return len(self.inRangeDf)\n",
    "        elif category == 'all':\n",
    "            return len(self.df)\n",
    "        else:\n",
    "            print('Please indicate category (inRange or all)')\n",
    "            return False\n",
    "        \n",
    "    def getText(self, category='inRange'):\n",
    "        if category == 'inRange':\n",
    "            return self.inRangeDf['Text'].values\n",
    "        elif category == 'all':\n",
    "            return self.df['Text'].values\n",
    "        else:\n",
    "            print('Please indicate category (inRange or all)')\n",
    "            return False"
   ]
  },
  {
   "cell_type": "code",
   "execution_count": 4,
   "metadata": {
    "collapsed": true
   },
   "outputs": [],
   "source": [
    "class Ordinary(object):\n",
    "    totalCount = 0\n",
    "\n",
    "    def __init__(self, name):\n",
    "        self.name = name\n",
    "        self.df = pd.read_csv('../0_dataset/ordinaryUsersTweets/'+name,sep='\\t',header=None,usecols=[2,3],names=['Date','Text'],quoting=3,error_bad_lines=False,encoding='utf-8',keep_default_na=False).dropna(axis=0, how='any')\n",
    "        # The method to get the latest tweet is wrong\n",
    "        try:\n",
    "            self.latestTweetTime = datetime.datetime.strptime(str(self.df.iloc[-1]['Date']), \"%Y-%m-%d %H:%M:%S\")\n",
    "        except:\n",
    "            print(name)\n",
    "            raise Exception()\n",
    "        \n",
    "        self.latestTweetText = self.df.iloc[-1]['Text']\n",
    "        beforeLatestTweetTime = str(self.latestTweetTime - datetime.timedelta(days=90))\n",
    "        self.inRangeDf = self.df[self.df['Date'].between(beforeLatestTweetTime, str(self.latestTweetTime))]\n",
    "        \n",
    "        Ordinary.totalCount += 1 \n",
    "        \n",
    "    def displayCount(self):\n",
    "        print(\"Total Ordinarys {0}\".format(Ordinary.totalCount))\n",
    "    \n",
    "    def displayTweetsCount(self, category='inRange'):\n",
    "        if category == 'inRange':\n",
    "            return len(self.inRangeDf)\n",
    "        elif category == 'all':\n",
    "            return len(self.df)\n",
    "        else:\n",
    "            print('Please indicate category (inRange or all)')\n",
    "            return False\n",
    "        \n",
    "    def getText(self, category='inRange'):\n",
    "        if category == 'inRange':\n",
    "            return self.inRangeDf['Text'].values\n",
    "        elif category == 'all':\n",
    "            return self.df['Text'].values\n",
    "        else:\n",
    "            print('Please indicate category (inRange or all)')\n",
    "            return False"
   ]
  },
  {
   "cell_type": "code",
   "execution_count": 5,
   "metadata": {
    "collapsed": true
   },
   "outputs": [],
   "source": [
    "patients = dict()\n",
    "ordinarys = dict()"
   ]
  },
  {
   "cell_type": "code",
   "execution_count": 6,
   "metadata": {
    "collapsed": true,
    "scrolled": true
   },
   "outputs": [],
   "source": [
    "with open('../0_dataset/patient_ids') as r:\n",
    "    for patient in r.readlines()[:100]:\n",
    "        patient = patient.strip()\n",
    "        patients[patient] = Patient(patient)"
   ]
  },
  {
   "cell_type": "code",
   "execution_count": 7,
   "metadata": {
    "collapsed": true,
    "scrolled": true
   },
   "outputs": [],
   "source": [
    "with open('../0_dataset/ordinary_ids') as r:\n",
    "    for ordinary in r.readlines()[:100]:\n",
    "        ordinary = ordinary.strip()\n",
    "        ordinarys[ordinary] = Ordinary(ordinary)"
   ]
  },
  {
   "cell_type": "code",
   "execution_count": 27,
   "metadata": {},
   "outputs": [],
   "source": [
    "import plotly\n",
    "# import plotly.offline as offline\n",
    "import plotly.plotly as py\n",
    "import plotly.graph_objs as go\n",
    "# from IPython.display import display\n",
    "plotly.tools.set_credentials_file(username='Adeline', api_key='Z5eltNtBQXqvI05ZFQtz')\n",
    "# offline.init_notebook_mode(connected=True)"
   ]
  },
  {
   "cell_type": "code",
   "execution_count": 397,
   "metadata": {
    "collapsed": true
   },
   "outputs": [],
   "source": [
    "_x = list(range(len(total[0])))\n",
    "_y = list()\n",
    "_y2 = list()\n",
    "_z = total[0]\n",
    "for i, s in enumerate(total[1]):\n",
    "    try:\n",
    "        _y.append(round(s/total[2][i],1))\n",
    "    except ZeroDivisionError:\n",
    "        _y.append(0)\n",
    "    \n",
    "    _y2.append(round(total[2][i]/total[3][i],1))\n",
    "\n",
    "trace1 = go.Scatter(\n",
    "    x = _x,\n",
    "    y = _y,\n",
    "    hoverinfo='text',\n",
    "    text=_z,\n",
    "    mode = 'lines'\n",
    ")\n",
    "\n",
    "trace2 = go.Scatter(\n",
    "    x = _x,\n",
    "    y = _y2,\n",
    "    hoverinfo='text',\n",
    "    text=_z,\n",
    "    mode = 'lines'\n",
    ")\n",
    "\n",
    "data = [trace1, trace2]\n",
    "layout = go.Layout(\n",
    "    title='Stopwords 佔每人每篇推文的數量',\n",
    "    xaxis=dict(\n",
    "        title='',\n",
    "        titlefont=dict(\n",
    "            family='Courier New, monospace',\n",
    "            size=18,\n",
    "            color='#7f7f7f'\n",
    "        )\n",
    "    ),\n",
    "    yaxis=dict(\n",
    "        title='Stopwords 數量',\n",
    "        titlefont=dict(\n",
    "            family='Courier New, monospace',\n",
    "            size=18,\n",
    "            color='#7f7f7f'\n",
    "        )\n",
    "    )\n",
    ")\n",
    "fig = go.Figure(data=data, layout=layout)"
   ]
  },
  {
   "cell_type": "code",
   "execution_count": 398,
   "metadata": {},
   "outputs": [
    {
     "data": {
      "text/html": [
       "<iframe id=\"igraph\" scrolling=\"no\" style=\"border:none;\" seamless=\"seamless\" src=\"https://plot.ly/~Adeline/152.embed\" height=\"525px\" width=\"100%\"></iframe>"
      ],
      "text/plain": [
       "<plotly.tools.PlotlyDisplay object>"
      ]
     },
     "execution_count": 398,
     "metadata": {},
     "output_type": "execute_result"
    }
   ],
   "source": [
    "py.iplot(fig)"
   ]
  },
  {
   "cell_type": "code",
   "execution_count": 382,
   "metadata": {
    "collapsed": true,
    "scrolled": true
   },
   "outputs": [],
   "source": [
    "total2 = [[],[],[],[]]"
   ]
  },
  {
   "cell_type": "code",
   "execution_count": 383,
   "metadata": {
    "collapsed": true
   },
   "outputs": [],
   "source": [
    "for key in ordinarys:\n",
    "    _w, _s, _sc = getWordsDict(ordinarys[key].getText())\n",
    "    total2[0].append(key)\n",
    "    total2[1].append(sum(_s.values()))\n",
    "    total2[2].append(_sc)\n",
    "    total2[3].append(len(ordinarys[key].inRangeDf))"
   ]
  },
  {
   "cell_type": "code",
   "execution_count": 395,
   "metadata": {
    "collapsed": true
   },
   "outputs": [],
   "source": [
    "_x = list(range(len(total2[0])))\n",
    "_y = list()\n",
    "_z = total2[0]\n",
    "for i, s in enumerate(total2[1]):\n",
    "    try:\n",
    "        _y.append(round(s/total2[2][i],1))\n",
    "    except ZeroDivisionError:\n",
    "        _y.append(0)\n",
    "\n",
    "trace = go.Scatter(\n",
    "    x = _x,\n",
    "    y = _y,\n",
    "    hoverinfo='text',\n",
    "    mode = 'lines',\n",
    "    text=_z\n",
    ")\n",
    "data = [trace]\n",
    "layout = go.Layout(\n",
    "    title='Stopwords 佔每人每篇推文的數量',\n",
    "    xaxis=dict(\n",
    "        title='',\n",
    "        titlefont=dict(\n",
    "            family='Courier New, monospace',\n",
    "            size=18,\n",
    "            color='#7f7f7f'\n",
    "        )\n",
    "    ),\n",
    "    yaxis=dict(\n",
    "        title='Stopwords 數量',\n",
    "        titlefont=dict(\n",
    "            family='Courier New, monospace',\n",
    "            size=18,\n",
    "            color='#7f7f7f'\n",
    "        )\n",
    "    )\n",
    ")\n",
    "fig2 = go.Figure(data=data, layout=layout)"
   ]
  },
  {
   "cell_type": "code",
   "execution_count": 396,
   "metadata": {},
   "outputs": [
    {
     "data": {
      "text/html": [
       "<iframe id=\"igraph\" scrolling=\"no\" style=\"border:none;\" seamless=\"seamless\" src=\"https://plot.ly/~Adeline/150.embed\" height=\"525px\" width=\"100%\"></iframe>"
      ],
      "text/plain": [
       "<plotly.tools.PlotlyDisplay object>"
      ]
     },
     "execution_count": 396,
     "metadata": {},
     "output_type": "execute_result"
    }
   ],
   "source": [
    "py.iplot(fig2)"
   ]
  },
  {
   "cell_type": "code",
   "execution_count": 9,
   "metadata": {
    "collapsed": true
   },
   "outputs": [],
   "source": [
    "total3 = [0, 0, 0]\n",
    "for key in patients:\n",
    "    _w, _s, _sc = getWordsDict(patients[key].getText())\n",
    "    total3[0] += sum(_s.values())\n",
    "    total3[1] += _sc\n",
    "    total3[2] += len(patients[key].inRangeDf)\n",
    "    \n",
    "# 0:Stopwords總數/ 1:含有stopwords的推文總數/ 2:（時間內的）推文總數"
   ]
  },
  {
   "cell_type": "code",
   "execution_count": 10,
   "metadata": {
    "collapsed": true
   },
   "outputs": [],
   "source": [
    "total4 = [0, 0, 0]\n",
    "for key in ordinarys:\n",
    "    _w, _s, _sc = getWordsDict(ordinarys[key].getText())\n",
    "    total4[0] += sum(_s.values())\n",
    "    total4[1] += _sc\n",
    "    total4[2] += len(ordinarys[key].inRangeDf)\n",
    "\n",
    "# 0:Stopwords總數/ 1:含有stopwords的推文總數/ 2:（時間內的）推文總數"
   ]
  },
  {
   "cell_type": "code",
   "execution_count": 32,
   "metadata": {
    "collapsed": true,
    "scrolled": true
   },
   "outputs": [],
   "source": [
    "trace_patients = go.Bar(x=['Type1', 'Type2'],\n",
    "                  y=[round(total3[0]/total3[1],1), round(total3[1]/total3[2],1)],\n",
    "                  name='Patients',\n",
    "                  marker=dict(color='#ffcdd2'))\n",
    "\n",
    "trace_ordinarys = go.Bar(x=['Type1', 'Type2'],\n",
    "                y=[round(total4[0]/total4[1],1), round(total4[1]/total4[2],1)],\n",
    "                name='Ordinarys',\n",
    "                marker=dict(color='#A2D5F2'))\n",
    "data = [trace_patients, trace_ordinarys]\n",
    "\n",
    "layout = go.Layout(title='比較',\n",
    "                xaxis=dict(title='使用者類型'),\n",
    "                yaxis=dict(title='平均數量'))\n",
    "\n",
    "fig3 = go.Figure(data=data, layout=layout)\n",
    "py.image.save_as(fig3, filename='img/a-simple-plot.png')"
   ]
  },
  {
   "cell_type": "code",
   "execution_count": 34,
   "metadata": {},
   "outputs": [
    {
     "data": {
      "image/png": "[encoded data removed]",
      "text/plain": [
       "<IPython.core.display.Image object>"
      ]
     },
     "execution_count": 34,
     "metadata": {},
     "output_type": "execute_result"
    }
   ],
   "source": [
    "# py.iplot(fig3)\n",
    "# 上傳至 Github 之後會看不到圖片，因此將結果下載成圖片，再載入該圖片\n",
    "from IPython.display import Image\n",
    "Image('img/a-simple-plot.png')"
   ]
  },
  {
   "cell_type": "code",
   "execution_count": null,
   "metadata": {
    "collapsed": true
   },
   "outputs": [],
   "source": []
  }
 ],
 "metadata": {
  "kernelspec": {
   "display_name": "Python 3",
   "language": "python",
   "name": "python3"
  },
  "language_info": {
   "codemirror_mode": {
    "name": "ipython",
    "version": 3
   },
   "file_extension": ".py",
   "mimetype": "text/x-python",
   "name": "python",
   "nbconvert_exporter": "python",
   "pygments_lexer": "ipython3",
   "version": "3.5.2"
  }
 },
 "nbformat": 4,
 "nbformat_minor": 2
}
