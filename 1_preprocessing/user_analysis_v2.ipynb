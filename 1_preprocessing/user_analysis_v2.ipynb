{
 "cells": [
  {
   "cell_type": "code",
   "execution_count": 1,
   "metadata": {},
   "outputs": [
    {
     "name": "stderr",
     "output_type": "stream",
     "text": [
      "/usr/local/lib/python3.5/dist-packages/sklearn/cross_validation.py:41: DeprecationWarning: This module was deprecated in version 0.18 in favor of the model_selection module into which all the refactored classes and functions are moved. Also note that the interface of the new CV iterators are different from that of this module. This module will be removed in 0.20.\n",
      "  \"This module will be removed in 0.20.\", DeprecationWarning)\n"
     ]
    }
   ],
   "source": [
    "import re, math\n",
    "import operator\n",
    "import numpy as np\n",
    "from sklearn.ensemble import RandomForestClassifier\n",
    "from sklearn.feature_extraction.text import TfidfVectorizer\n",
    "from sklearn.cross_validation import StratifiedShuffleSplit\n",
    "from random import randint\n",
    "import ipynb.fs.defs.PeopleInfo as peopleInfo\n",
    "from nltk.corpus import stopwords\n",
    "from nltk import TweetTokenizer\n",
    "# import ipynb.fs.defs.TweetTextHandler as tweetTextHandler\n",
    "import ipynb.fs.defs.FilterMethods as filterMethods\n",
    "import sys, os\n",
    "sys.path.append('../2_feature')\n",
    "import ipynb.fs.defs.GetFeatures as getFeatures\n",
    "global stop_words\n",
    "stop_words = stopwords.words('english')\n",
    "import plotly\n",
    "import plotly.plotly as py\n",
    "import plotly.graph_objs as go\n",
    "from IPython.display import display, Image\n",
    "plotly.tools.set_credentials_file(username='Adeline', api_key='Z5eltNtBQXqvI05ZFQtz')\n",
    "# import plotly.offline as offline\n",
    "# offline.init_notebook_mode(connected=True)"
   ]
  },
  {
   "cell_type": "code",
   "execution_count": 97,
   "metadata": {
    "collapsed": true
   },
   "outputs": [],
   "source": [
    "def replace_by_symbols(txt):\n",
    "#     txt = re.sub(r\"https\\S+\", '<URL>', txt)\n",
    "#     txt = re.sub(r\"http\\S+\", '<URL>', txt)\n",
    "#     txt = re.sub(r\"pic.twitter.com\\S+\", '<URL>', txt)\n",
    "#     txt = re.sub(r\"twitter.com/\\S+\", '<URL>', txt)\n",
    "#     txt = re.sub(r\"\\S+/\\S+\", '<URL>', txt)\n",
    "#     txt = re.sub(r\"@\\S+\", '<USERMENTION>', txt)\n",
    "#     txt = re.sub(r\"#\\S+\", '<HASHTAG>', txt)\n",
    "    txt = re.sub(r\"https\\S+\", '', txt)\n",
    "    txt = re.sub(r\"http\\S+\", '', txt)\n",
    "    txt = re.sub(r\"pic.twitter.com\\S+\", '', txt)\n",
    "    txt = re.sub(r\"twitter.com/\\S+\", '', txt)\n",
    "    txt = re.sub(r\"\\S+/\\S+\", '', txt)\n",
    "    txt = re.sub(r\"@\\S+\", '', txt)\n",
    "    txt = re.sub(r\"#\\S+\", '', txt)\n",
    "    txt = re.sub(r\"idk\", 'i does not know', txt)   # idk: i don't know\n",
    "    txt = re.sub(r\"tho\", 'though', txt)   # tho\n",
    "    txt = re.sub(r\"don\", 'does not', txt)\n",
    "    txt = re.sub(r\"ve\", '', txt)\n",
    "    txt = re.sub(r\"didn\", 'did not', txt)\n",
    "    txt = re.sub(r\"wasn\", 'was not', txt)\n",
    "    return txt"
   ]
  },
  {
   "cell_type": "code",
   "execution_count": 3,
   "metadata": {
    "collapsed": true
   },
   "outputs": [],
   "source": [
    "def getWordsDict(texts):\n",
    "    global stop_words\n",
    "    wordDict = dict()\n",
    "    stopwordDict = dict()\n",
    "    stopwordTweetCount = 0\n",
    "    tweet_length = 0\n",
    "    tknzr = TweetTokenizer()\n",
    "    aaa = texts\n",
    "    length = len(texts)\n",
    "    for txt in texts:\n",
    "        stopwordFlag = False\n",
    "        try:\n",
    "            txt = filterMethods.filter_tweet_by_re(txt)\n",
    "            tweet_length += len(txt)\n",
    "            for token in tknzr.tokenize(txt):\n",
    "                if token.isdigit():\n",
    "                    pass\n",
    "                elif token in stop_words:\n",
    "                    stopwordDict[token] = stopwordDict.get(token, 0) + 1\n",
    "                    stopwordFlag = True\n",
    "                else:\n",
    "                    wordDict[token] = wordDict.get(token, 0) + 1\n",
    "            if stopwordFlag:\n",
    "                stopwordTweetCount += 1\n",
    "        except Exception as e:\n",
    "            print(e)\n",
    "    return wordDict, stopwordDict, stopwordTweetCount, round(tweet_length/length,1)"
   ]
  },
  {
   "cell_type": "markdown",
   "metadata": {},
   "source": [
    "# Initialize Users"
   ]
  },
  {
   "cell_type": "code",
   "execution_count": 87,
   "metadata": {
    "collapsed": true
   },
   "outputs": [],
   "source": [
    "patients = dict()\n",
    "ordinarys = dict()\n",
    "with open('../0_dataset/patient_ids') as r:\n",
    "    for patient in r.readlines()[:100]:\n",
    "        patient = patient.strip()\n",
    "        patients[patient] = peopleInfo.Patient(patient)\n",
    "with open('../0_dataset/ordinary_ids') as r:\n",
    "    for ordinary in r.readlines()[:100]:\n",
    "        ordinary = ordinary.strip()\n",
    "        ordinarys[ordinary] = peopleInfo.Ordinary(ordinary)"
   ]
  },
  {
   "cell_type": "markdown",
   "metadata": {},
   "source": [
    "# Filter Users"
   ]
  },
  {
   "cell_type": "code",
   "execution_count": 89,
   "metadata": {},
   "outputs": [
    {
     "name": "stdout",
     "output_type": "stream",
     "text": [
      "Remove users:[]\n",
      "Remove users:[]\n"
     ]
    }
   ],
   "source": [
    "patients = filterMethods.filter_user_by_tweet_number(patients)\n",
    "ordinarys = filterMethods.filter_user_by_tweet_number(ordinarys)"
   ]
  },
  {
   "cell_type": "markdown",
   "metadata": {},
   "source": [
    "# Compare Stopwords between Ordinary People and Patients"
   ]
  },
  {
   "cell_type": "code",
   "execution_count": 7,
   "metadata": {
    "scrolled": true
   },
   "outputs": [],
   "source": [
    "patients_total = [0, 0, 0, 0]\n",
    "for key in patients:\n",
    "    _w, _s, _sc, _tl = getWordsDict(patients[key].getText())\n",
    "    patients_total[0] += sum(_s.values())\n",
    "    patients_total[1] += _sc\n",
    "    patients_total[2] += len(patients[key].inRangeDf)\n",
    "    patients_total[3] += _tl\n",
    "    \n",
    "patients_total[3] = round(patients_total[3]/len(patients),1)\n",
    "\n",
    "# 0:Stopwords總數/ 1:含有stopwords的發文總數/ 2:（時間內的）發文總數/ 3:平均發文長度"
   ]
  },
  {
   "cell_type": "code",
   "execution_count": 8,
   "metadata": {
    "collapsed": true
   },
   "outputs": [],
   "source": [
    "ordinarys_total = [0, 0, 0, 0]\n",
    "for key in ordinarys:\n",
    "    _w, _s, _sc, _tl = getWordsDict(ordinarys[key].getText())\n",
    "    ordinarys_total[0] += sum(_s.values())\n",
    "    ordinarys_total[1] += _sc\n",
    "    ordinarys_total[2] += len(ordinarys[key].inRangeDf)\n",
    "    ordinarys_total[3] += _tl\n",
    "    \n",
    "ordinarys_total[3] = round(ordinarys_total[3]/len(ordinarys),1)\n",
    "# 0:Stopwords總數/ 1:含有stopwords的推文總數/ 2:（時間內的）推文總數/ 3:平均發文長度"
   ]
  },
  {
   "cell_type": "code",
   "execution_count": 9,
   "metadata": {
    "scrolled": false
   },
   "outputs": [
    {
     "name": "stdout",
     "output_type": "stream",
     "text": [
      "This is the format of your plot grid:\n",
      "[ (1,1) x1,y1 ]  [ (1,2) x2,y2 ]\n",
      "\n"
     ]
    },
    {
     "data": {
      "image/png": "[encoded data removed]",
      "text/plain": [
       "<IPython.core.display.Image object>"
      ]
     },
     "metadata": {},
     "output_type": "display_data"
    }
   ],
   "source": [
    "trace1_p = go.Bar(x=['S佔每篇發文數量', '有S的發文佔總發文數量'],\n",
    "                  y=[round(patients_total[0]/patients_total[1],1), round(patients_total[1]/patients_total[2],1)],\n",
    "                  name='Patients',\n",
    "                  marker=dict(color='rgb(49,130,189)'))\n",
    "\n",
    "trace1_o = go.Bar(x=['S佔每篇發文數量', '有S的發文佔總發文數量'],\n",
    "                y=[round(ordinarys_total[0]/ordinarys_total[1],1), round(ordinarys_total[1]/ordinarys_total[2],1)],\n",
    "                name='Ordinarys',\n",
    "                marker=dict(color='rgb(204,204,204)'))\n",
    "\n",
    "trace2_p = go.Bar(x=['發文平均長度'],\n",
    "                y=[patients_total[3]],\n",
    "                marker=dict(color='rgb(49,130,189)'))\n",
    "\n",
    "trace2_o = go.Bar(x=['發文平均長度'],\n",
    "                y=[ordinarys_total[3]],\n",
    "                marker=dict(color='rgb(204,204,204)'))\n",
    "\n",
    "fig = plotly.tools.make_subplots(rows=1, cols=2)\n",
    "fig.append_trace(trace1_p,1,1)\n",
    "fig.append_trace(trace1_o,1,1)\n",
    "fig.append_trace(trace2_p,1,2)\n",
    "fig.append_trace(trace2_o,1,2)\n",
    "fig['layout'].update(title='推文比較')\n",
    "# fig = go.Figure(data=data, layout=layout)\n",
    "py.image.save_as(fig, filename='img/stopwords_compare.png')\n",
    "display(Image(filename='img/stopwords_compare.png'))\n",
    "# py.iplot(fig)"
   ]
  },
  {
   "cell_type": "markdown",
   "metadata": {},
   "source": [
    "# Prepare Data"
   ]
  },
  {
   "cell_type": "code",
   "execution_count": 98,
   "metadata": {
    "scrolled": true
   },
   "outputs": [],
   "source": [
    "base_texts = []\n",
    "group_texts = []\n",
    "\n",
    "for key in patients.keys():\n",
    "    group_texts.append(replace_by_symbols('\\n'.join(patients[key].getText())))\n",
    "\n",
    "for key in ordinarys.keys():\n",
    "    base_texts.append(replace_by_symbols('\\n'.join(ordinarys[key].getText())))\n",
    "\n",
    "corpus = base_texts + group_texts"
   ]
  },
  {
   "cell_type": "markdown",
   "metadata": {},
   "source": [
    "# TF-IDF Model with Multi-grams"
   ]
  },
  {
   "cell_type": "code",
   "execution_count": 99,
   "metadata": {
    "collapsed": true
   },
   "outputs": [],
   "source": [
    "def getTFIDF(base_texts, group_texts, grams, stop_words=True):\n",
    "    print('Get Tf-idf with grams:{0}'.format(grams))\n",
    "    low = grams[0]\n",
    "    high = grams[1]\n",
    "    text_model = dict()\n",
    "    vectorizer = TfidfVectorizer(stop_words=\"english\",ngram_range = (low,high), min_df=1)\n",
    "    X = vectorizer.fit_transform(base_texts+group_texts)\n",
    "    Y = np.array([0] * len(base_texts) + [1]*len(group_texts), dtype=int)\n",
    "    text_model['X'] = X\n",
    "    text_model['Y'] = Y\n",
    "    text_model['vectorizer'] = vectorizer\n",
    "    return text_model"
   ]
  },
  {
   "cell_type": "code",
   "execution_count": 100,
   "metadata": {
    "collapsed": true
   },
   "outputs": [],
   "source": [
    "def getTopFeatures(vectorizer, classifier, k=50):\n",
    "    vector2word = vectorizer.get_feature_names()\n",
    "    feature_indicies = np.argsort(classifier.feature_importances_)\n",
    "    top_words = []\n",
    "    for i in range(50):\n",
    "        vector = feature_indicies[-i-1]\n",
    "        word = vector2word[vector]\n",
    "        top_words.append(word)\n",
    "    return top_words"
   ]
  },
  {
   "cell_type": "markdown",
   "metadata": {},
   "source": [
    "# Train RandomForest Classifier"
   ]
  },
  {
   "cell_type": "code",
   "execution_count": 101,
   "metadata": {
    "scrolled": true
   },
   "outputs": [
    {
     "name": "stdout",
     "output_type": "stream",
     "text": [
      "Get Tf-idf with grams:[1, 1]\n",
      "Get Tf-idf with grams:[1, 2]\n",
      "Get Tf-idf with grams:[2, 2]\n"
     ]
    }
   ],
   "source": [
    "grams = [[1,1],[1,2],[2,2]]\n",
    "top_words_grams = []\n",
    "for i in range(len(grams)):\n",
    "    text_model = getTFIDF(base_texts, group_texts, grams=grams[i])\n",
    "    classifier  = RandomForestClassifier(n_jobs=-1, max_features=\"sqrt\", n_estimators=128)\n",
    "    classifier.fit(text_model['X'],text_model['Y'])\n",
    "    top_words = getTopFeatures(text_model['vectorizer'],classifier)\n",
    "    top_words_grams.append(top_words)"
   ]
  },
  {
   "cell_type": "markdown",
   "metadata": {},
   "source": [
    "# Top 50: Unigram"
   ]
  },
  {
   "cell_type": "code",
   "execution_count": 102,
   "metadata": {},
   "outputs": [
    {
     "data": {
      "text/plain": [
       "['depression',\n",
       " 'diagnosed',\n",
       " 'fuck',\n",
       " 'pain',\n",
       " 'tried',\n",
       " 'bad',\n",
       " 'cute',\n",
       " 'man',\n",
       " 'sad',\n",
       " 'real',\n",
       " 'attention',\n",
       " 'dead',\n",
       " 'started',\n",
       " 'happy',\n",
       " 'thank',\n",
       " 'heart',\n",
       " 'trying',\n",
       " 'li',\n",
       " 'problem',\n",
       " 'life',\n",
       " 'mind',\n",
       " 'hi',\n",
       " 'die',\n",
       " 'need',\n",
       " 'whater',\n",
       " 'en',\n",
       " 'extremely',\n",
       " 'broken',\n",
       " 'god',\n",
       " 'eryone',\n",
       " 'telling',\n",
       " 'women',\n",
       " 'treat',\n",
       " 'honestly',\n",
       " 'tweet',\n",
       " 'tears',\n",
       " 'sick',\n",
       " 'weird',\n",
       " 'yes',\n",
       " 'major',\n",
       " 'took',\n",
       " 'really',\n",
       " 'erything',\n",
       " 'inside',\n",
       " 'soon',\n",
       " 'idea',\n",
       " 'hard',\n",
       " 'gi',\n",
       " 'sorry',\n",
       " 'chicken']"
      ]
     },
     "execution_count": 102,
     "metadata": {},
     "output_type": "execute_result"
    }
   ],
   "source": [
    "top_words_grams[0]"
   ]
  },
  {
   "cell_type": "markdown",
   "metadata": {},
   "source": [
    "# Top 50: Unigram and Bigrams"
   ]
  },
  {
   "cell_type": "code",
   "execution_count": 103,
   "metadata": {
    "scrolled": false
   },
   "outputs": [
    {
     "data": {
      "text/plain": [
       "['diagnosed',\n",
       " 'depression',\n",
       " 'piece',\n",
       " 'hard',\n",
       " 'literally',\n",
       " 'gis',\n",
       " 'fully',\n",
       " 'broken',\n",
       " 'feel',\n",
       " 'tweet',\n",
       " 'gone',\n",
       " 'delete',\n",
       " 'cares',\n",
       " 'paid',\n",
       " 'adorable',\n",
       " 'google',\n",
       " 'issues',\n",
       " 'sleep',\n",
       " 'asking',\n",
       " 'certain',\n",
       " 'normal',\n",
       " 'life',\n",
       " 'did en',\n",
       " 'does',\n",
       " 'fuck',\n",
       " 'care',\n",
       " 'protect',\n",
       " 'lose',\n",
       " 'people',\n",
       " 'shall',\n",
       " 'new',\n",
       " 'wow',\n",
       " 'big',\n",
       " 'wanna',\n",
       " 'real',\n",
       " 'listening',\n",
       " 'll',\n",
       " 'better',\n",
       " '2017',\n",
       " 'wish',\n",
       " 'like just',\n",
       " 'hurt',\n",
       " 'honestly',\n",
       " 'knew',\n",
       " 'learned',\n",
       " 'sad',\n",
       " 'like',\n",
       " 'floor',\n",
       " 'sick',\n",
       " 'reasons']"
      ]
     },
     "execution_count": 103,
     "metadata": {},
     "output_type": "execute_result"
    }
   ],
   "source": [
    "top_words_grams[1]"
   ]
  },
  {
   "cell_type": "markdown",
   "metadata": {},
   "source": [
    "# Top 50: Bigrams"
   ]
  },
  {
   "cell_type": "code",
   "execution_count": 104,
   "metadata": {
    "scrolled": false
   },
   "outputs": [
    {
     "data": {
      "text/plain": [
       "['does know',\n",
       " 'diagnosed depression',\n",
       " 'ery night',\n",
       " 'did want',\n",
       " 'ice cream',\n",
       " 'know ll',\n",
       " 'just want',\n",
       " 'just got',\n",
       " 'ha idea',\n",
       " 'oh god',\n",
       " 'feel better',\n",
       " '13 reasons',\n",
       " 'ha does',\n",
       " 'did en',\n",
       " 'fuck did',\n",
       " 'does like',\n",
       " 'day lo',\n",
       " 'good just',\n",
       " 'en care',\n",
       " 'really really',\n",
       " 'like does',\n",
       " 'want make',\n",
       " 'just ha',\n",
       " 'does feel',\n",
       " 'gonna ha',\n",
       " 'ha said',\n",
       " 'just stop',\n",
       " 'know lo',\n",
       " 'way lo',\n",
       " 'im gonna',\n",
       " 'doesn know',\n",
       " 'fall lo',\n",
       " 'does note',\n",
       " 'ery single',\n",
       " 'feel like',\n",
       " 'just doesn',\n",
       " 'll make',\n",
       " 'long time',\n",
       " 'did wrong',\n",
       " 'ha lo',\n",
       " 'good night',\n",
       " 'got diagnosed',\n",
       " 'better er',\n",
       " 'does think',\n",
       " 'know just',\n",
       " 'time ha',\n",
       " 'true lo',\n",
       " 'best thing',\n",
       " 'ha ha',\n",
       " 'ha diagnosed']"
      ]
     },
     "execution_count": 104,
     "metadata": {},
     "output_type": "execute_result"
    }
   ],
   "source": [
    "top_words_grams[2]"
   ]
  },
  {
   "cell_type": "markdown",
   "metadata": {},
   "source": [
    "# Get Precision"
   ]
  },
  {
   "cell_type": "code",
   "execution_count": 111,
   "metadata": {
    "collapsed": true
   },
   "outputs": [],
   "source": [
    "def getPrecision(base_texts, group_texts, text_model, clf = \"default\", n_fold=10):\n",
    "    X = text_model['X']\n",
    "    Y = text_model['Y']\n",
    "    sss = StratifiedShuffleSplit(Y, 10, random_state=randint(0,65536))\n",
    "    if clf == 'default':\n",
    "        classifier = RandomForestClassifier(n_jobs=-1, max_features=\"sqrt\", n_estimators=128)\n",
    "        \n",
    "    precisions = []\n",
    "    for train_index, test_index in sss:\n",
    "        X_train, X_test = X[train_index], X[test_index]\n",
    "        Y_train, Y_test = Y[train_index], Y[test_index]\n",
    "        classifier = classifier.fit(X_train, Y_train)\n",
    "        score = classifier.score(X_test, Y_test)\n",
    "        precisions.append(score)\n",
    "    return precisions"
   ]
  },
  {
   "cell_type": "code",
   "execution_count": 112,
   "metadata": {
    "collapsed": true
   },
   "outputs": [],
   "source": [
    "precisions = getPrecision(base_texts,group_texts,text_model)"
   ]
  },
  {
   "cell_type": "code",
   "execution_count": 113,
   "metadata": {},
   "outputs": [
    {
     "data": {
      "text/plain": [
       "0.76315789473684204"
      ]
     },
     "execution_count": 113,
     "metadata": {},
     "output_type": "execute_result"
    }
   ],
   "source": [
    "np.mean(precisions)"
   ]
  },
  {
   "cell_type": "markdown",
   "metadata": {},
   "source": [
    "# Stopwords Pattern"
   ]
  },
  {
   "cell_type": "code",
   "execution_count": 116,
   "metadata": {},
   "outputs": [],
   "source": [
    "with open ('stopwords_pattern_group', 'a') as open_file:\n",
    "    tknzr = TweetTokenizer()\n",
    "    pattern_position = dict()\n",
    "    for txts in group_texts:\n",
    "        for txt in txts.split('\\n'):\n",
    "            position = []\n",
    "            for i, word in enumerate(replace_by_symbols(txt)):\n",
    "                if word in stop_words:\n",
    "                    position.append(i)\n",
    "            open_file.write('{0}\\n'.format(position))"
   ]
  },
  {
   "cell_type": "code",
   "execution_count": 117,
   "metadata": {
    "collapsed": true
   },
   "outputs": [],
   "source": [
    "with open ('stopwords_pattern_base', 'a') as open_file:\n",
    "    tknzr = TweetTokenizer()\n",
    "    pattern_position = dict()\n",
    "    for txts in base_texts:\n",
    "        for txt in txts.split('\\n'):\n",
    "            position = []\n",
    "            for i, word in enumerate(replace_by_symbols(txt)):\n",
    "                if word in stop_words:\n",
    "                    position.append(i)\n",
    "            open_file.write('{0}\\n'.format(position))"
   ]
  },
  {
   "cell_type": "code",
   "execution_count": 118,
   "metadata": {},
   "outputs": [],
   "source": [
    "swg = dict()\n",
    "swg_len = 0\n",
    "with open ('stopwords_pattern_group') as open_file:\n",
    "    for line in open_file.readlines():\n",
    "        swg_len += 1\n",
    "        a = list(line.strip()[1:-1].split(', '))\n",
    "        for i in range(len(a)):\n",
    "            try:\n",
    "                difference = abs(int(a[i]) - int(a[i+1]))\n",
    "                swg[difference] = swg.get(difference, 0) + 1 \n",
    "            except (IndexError, ValueError) as e:\n",
    "#                 if e.args[0] == \"invalid literal for int() with base 10: ''\":\n",
    "#                     print(line)\n",
    "                continue"
   ]
  },
  {
   "cell_type": "code",
   "execution_count": 119,
   "metadata": {},
   "outputs": [],
   "source": [
    "swb = dict()\n",
    "swb_len = 0\n",
    "with open ('stopwords_pattern_base') as open_file:\n",
    "    for line in open_file.readlines():\n",
    "        swb_len += 1\n",
    "        a = list(line.strip()[1:-1].split(', '))\n",
    "        for i in range(len(a)):\n",
    "            try:\n",
    "                difference = abs(int(a[i]) - int(a[i+1]))\n",
    "                swb[difference] = swb.get(difference, 0) + 1 \n",
    "            except (IndexError, ValueError) as e:\n",
    "                continue"
   ]
  },
  {
   "cell_type": "code",
   "execution_count": 138,
   "metadata": {},
   "outputs": [],
   "source": [
    "for key in swb.keys():\n",
    "    swb[key] = swb[key]/swb_len\n",
    "sorted_swb = sorted(swb.items(), key=operator.itemgetter(1), reverse=True)\n",
    "\n",
    "for key in swg.keys():\n",
    "    swg[key] = swg[key]/swg_len\n",
    "sorted_swg = sorted(swg.items(), key=operator.itemgetter(1), reverse=True)"
   ]
  },
  {
   "cell_type": "code",
   "execution_count": 157,
   "metadata": {},
   "outputs": [
    {
     "name": "stdout",
     "output_type": "stream",
     "text": [
      "This is the format of your plot grid:\n",
      "[ (1,1) x1,y1 ]  [ (1,2) x2,y2 ]\n",
      "\n"
     ]
    },
    {
     "data": {
      "text/html": [
       "<iframe id=\"igraph\" scrolling=\"no\" style=\"border:none;\" seamless=\"seamless\" src=\"https://plot.ly/~Adeline/200.embed\" height=\"525px\" width=\"100%\"></iframe>"
      ],
      "text/plain": [
       "<plotly.tools.PlotlyDisplay object>"
      ]
     },
     "execution_count": 157,
     "metadata": {},
     "output_type": "execute_result"
    }
   ],
   "source": [
    "trace11 = go.Bar(\n",
    "    x=[ele[0] for ele in sorted_swb[:10]],\n",
    "    y=[ele[1] for ele in sorted_swb[:10]],\n",
    "    name='Ordinary',\n",
    "    marker=dict(color='rgb(204,204,204)'))\n",
    "\n",
    "trace22 = go.Bar(\n",
    "    x=[ele[0] for ele in sorted_swg[:10]],\n",
    "    y=[ele[1] for ele in sorted_swg[:10]],\n",
    "    name='Patient',\n",
    "    marker=dict(color='rgb(49,130,189)'))\n",
    "\n",
    "fig12 = plotly.tools.make_subplots(rows=1, cols=2)\n",
    "fig12.append_trace(trace22,1,1)\n",
    "fig12.append_trace(trace11,1,2)\n",
    "py.iplot(fig12)"
   ]
  },
  {
   "cell_type": "code",
   "execution_count": 154,
   "metadata": {},
   "outputs": [
    {
     "data": {
      "text/html": [
       "<iframe id=\"igraph\" scrolling=\"no\" style=\"border:none;\" seamless=\"seamless\" src=\"https://plot.ly/~Adeline/56.embed\" height=\"525px\" width=\"100%\"></iframe>"
      ],
      "text/plain": [
       "<plotly.tools.PlotlyDisplay object>"
      ]
     },
     "execution_count": 154,
     "metadata": {},
     "output_type": "execute_result"
    }
   ],
   "source": [
    "trace1 = go.Bar(\n",
    "    x=[ele[0] for ele in sorted_swb[:10]],\n",
    "    y=[abs(1/math.log(ele[1])) for ele in sorted_swb[:10]],\n",
    "    name='Ordinary',\n",
    "    marker=dict(color='rgb(204,204,204)')\n",
    ")\n",
    "trace2 = go.Bar(\n",
    "    x=[ele[0] for ele in sorted_swg[:10]],\n",
    "    y=[abs(1/math.log(ele[1])) for ele in sorted_swg[:10]],\n",
    "    name='Patient',\n",
    "    marker=dict(color='rgb(49,130,189)')\n",
    ")\n",
    "\n",
    "data = [trace1, trace2]\n",
    "layout = go.Layout(\n",
    "    barmode='stack'\n",
    ")\n",
    "\n",
    "fig = go.Figure(data=data, layout=layout)\n",
    "py.iplot(fig, filename='stacked-bar')"
   ]
  },
  {
   "cell_type": "code",
   "execution_count": 52,
   "metadata": {},
   "outputs": [],
   "source": [
    "pattern = re.compile(r\"tho\")"
   ]
  },
  {
   "cell_type": "code",
   "execution_count": 53,
   "metadata": {},
   "outputs": [
    {
     "name": "stdout",
     "output_type": "stream",
     "text": [
      "[0] those look really cool :D\n",
      "[6] those don't count \n",
      "[17] thought the album was out \n",
      "[39] those are definitely worth the money. I completely understand.\n",
      "[47] thought you were coming at me, but i apologize and deleted the tweet.\n",
      "[47] those are boots\n",
      "[47] thought someone contacted his mom and got him away and shit but he's back at it.\n",
      "[47] those people deserve nothing.\n",
      "[47] those boots are so cute omg\n",
      "[47] those were the cookies i got last night.\n",
      "[61] thought this was thinspo !\n",
      "[68] thoughts on thoughts — Uthoughts   /167752389?t=1498127183 …\n",
      "[68] thoughs on juan miguel  work? — I like him! He is talented and quite vocal and rela...   /167722620?t=1498114218 …\n",
      "[68] thoughts on Jake Zyrus? — HE IS NOW MY HEADCANON LARS   /166699748?t=1497971548 …\n",
      "[68] thoughts on hamilton? — Di ko pa rin natatapos but as a writer-slash-makata...   /166266870?t=1497959875 …\n",
      "[68] thoughts on this???   ... — what the FUCK is HAPPENING   /162086521?t=1497273750 …\n",
      "[68] thoughts about zizek? — He's great and all but I can't help but feel he's k...   /161201164?t=1496997463 …\n",
      "[68] thoughts on change sex surgeries? — They're cool...???   /160728166?t=1496923062 …\n",
      "[68] thoughts on riverdale — Never seen but I hate it including but not limited ...   /159650564?t=1496759145 …\n",
      "[68] thoughts on karl marx?? — He quite literally revolutionized social theory and thought. Class and economic factors …   5V62DDAUPY6IQO7L72NS7NA4SD36LA5ZCDW3L7NP2MT5A6I6OEEI6FTQCSVP2EQCIJUTYV2UQJY3WIPSPTZ25LRHXYAAPASYL53CCGPDAKOCQKG5T2YPHZDXQOKMCQRK77FX3GNRLKPB6WDG4LYTLIA= …\n",
      "[68] thoughts on eponine? — Sinaunang martir   5V62DDAUPY6IQO7L72NS7NA4SD36LA5ZCDW3L7NP2MT5A6I6OEEI6FTQCSVP2EQCINXDSWKWQJ2LOLPSPTZ25LRHXYAAPASYL53CCGPDAKOCQKG5T2YPHZDXQOKMCQRK77FX3GNRLKPB6WDG4LYTLIA= …\n",
      "[68] thomas sanders is so pure and his fans are also so pure this is the world i want to live in\n",
      "[68] thoughts on the age of consent being 12 years old? (i'm… — Too low. Age of consent is 12 but advances towards teen…   5V62DDAUPY6IQO7L72NS7NA4SD36LA5ZCDW3L7NP2MT5A6I6OEEI6FTQCSVP2EQDJNSDWVKSQRY3GIPSPTZ25LRHXYAAPASYL53CCGPDAKOCQKG5T2YPHZDXQOKMCQRK77FX3GNRLKPB6WDG4LYTLIA= …\n",
      "[68] thoughts?    … … — I'm tired of religion trying to control ways of life. M…   5V62DDAUPY6IQO7L72NS7NA4SD36LA5ZCDW3L7NP2MT5A6I6OEEI6FTQCSVP2EQDIVSTYU2ZQ5Z3ML7SPTZ25LRHXYAAPASYL53CCL7ED2MCQ27XQWVMFVTTSWQZSHSLZLLHDHMEIHIR4WDOZ7HHT7ENYDIV3YJZRSWKE6OLDJPGHRPW3ANODW6UTQRL2MS7UVINXADNGVQQM=== …\n",
      "[80] those images should be showed in private not posted in public like that for women who've had abortions to see or for scared children lmao\n",
      "[87] though *\n",
      "[88] thoughts on maia and ollie? — as a ship?    …\n",
      "[88] those anons are so yikes wtf. i love u — yeah i know :s and i love u    …\n",
      "[88] thoughts on down by 5h — the more I listen to it the more I like it my girli...    …\n"
     ]
    }
   ],
   "source": [
    "for i, txts in enumerate(group_texts):\n",
    "    for txt in txts.split('\\n'):\n",
    "        if pattern.match(txt):\n",
    "            print('[{0}] {1}'.format(i, txt))"
   ]
  },
  {
   "cell_type": "code",
   "execution_count": 105,
   "metadata": {
    "scrolled": false
   },
   "outputs": [
    {
     "data": {
      "text/plain": [
       "['i',\n",
       " 'me',\n",
       " 'my',\n",
       " 'myself',\n",
       " 'we',\n",
       " 'our',\n",
       " 'ours',\n",
       " 'ourselves',\n",
       " 'you',\n",
       " 'your',\n",
       " 'yours',\n",
       " 'yourself',\n",
       " 'yourselves',\n",
       " 'he',\n",
       " 'him',\n",
       " 'his',\n",
       " 'himself',\n",
       " 'she',\n",
       " 'her',\n",
       " 'hers',\n",
       " 'herself',\n",
       " 'it',\n",
       " 'its',\n",
       " 'itself',\n",
       " 'they',\n",
       " 'them',\n",
       " 'their',\n",
       " 'theirs',\n",
       " 'themselves',\n",
       " 'what',\n",
       " 'which',\n",
       " 'who',\n",
       " 'whom',\n",
       " 'this',\n",
       " 'that',\n",
       " 'these',\n",
       " 'those',\n",
       " 'am',\n",
       " 'is',\n",
       " 'are',\n",
       " 'was',\n",
       " 'were',\n",
       " 'be',\n",
       " 'been',\n",
       " 'being',\n",
       " 'have',\n",
       " 'has',\n",
       " 'had',\n",
       " 'having',\n",
       " 'do',\n",
       " 'does',\n",
       " 'did',\n",
       " 'doing',\n",
       " 'a',\n",
       " 'an',\n",
       " 'the',\n",
       " 'and',\n",
       " 'but',\n",
       " 'if',\n",
       " 'or',\n",
       " 'because',\n",
       " 'as',\n",
       " 'until',\n",
       " 'while',\n",
       " 'of',\n",
       " 'at',\n",
       " 'by',\n",
       " 'for',\n",
       " 'with',\n",
       " 'about',\n",
       " 'against',\n",
       " 'between',\n",
       " 'into',\n",
       " 'through',\n",
       " 'during',\n",
       " 'before',\n",
       " 'after',\n",
       " 'above',\n",
       " 'below',\n",
       " 'to',\n",
       " 'from',\n",
       " 'up',\n",
       " 'down',\n",
       " 'in',\n",
       " 'out',\n",
       " 'on',\n",
       " 'off',\n",
       " 'over',\n",
       " 'under',\n",
       " 'again',\n",
       " 'further',\n",
       " 'then',\n",
       " 'once',\n",
       " 'here',\n",
       " 'there',\n",
       " 'when',\n",
       " 'where',\n",
       " 'why',\n",
       " 'how',\n",
       " 'all',\n",
       " 'any',\n",
       " 'both',\n",
       " 'each',\n",
       " 'few',\n",
       " 'more',\n",
       " 'most',\n",
       " 'other',\n",
       " 'some',\n",
       " 'such',\n",
       " 'no',\n",
       " 'nor',\n",
       " 'not',\n",
       " 'only',\n",
       " 'own',\n",
       " 'same',\n",
       " 'so',\n",
       " 'than',\n",
       " 'too',\n",
       " 'very',\n",
       " 's',\n",
       " 't',\n",
       " 'can',\n",
       " 'will',\n",
       " 'just',\n",
       " 'don',\n",
       " 'should',\n",
       " 'now',\n",
       " 'd',\n",
       " 'll',\n",
       " 'm',\n",
       " 'o',\n",
       " 're',\n",
       " 've',\n",
       " 'y',\n",
       " 'ain',\n",
       " 'aren',\n",
       " 'couldn',\n",
       " 'didn',\n",
       " 'doesn',\n",
       " 'hadn',\n",
       " 'hasn',\n",
       " 'haven',\n",
       " 'isn',\n",
       " 'ma',\n",
       " 'mightn',\n",
       " 'mustn',\n",
       " 'needn',\n",
       " 'shan',\n",
       " 'shouldn',\n",
       " 'wasn',\n",
       " 'weren',\n",
       " 'won',\n",
       " 'wouldn']"
      ]
     },
     "execution_count": 105,
     "metadata": {},
     "output_type": "execute_result"
    }
   ],
   "source": [
    "stop_words"
   ]
  },
  {
   "cell_type": "code",
   "execution_count": null,
   "metadata": {
    "collapsed": true
   },
   "outputs": [],
   "source": []
  }
 ],
 "metadata": {
  "kernelspec": {
   "display_name": "Python 3",
   "language": "python",
   "name": "python3"
  },
  "language_info": {
   "codemirror_mode": {
    "name": "ipython",
    "version": 3
   },
   "file_extension": ".py",
   "mimetype": "text/x-python",
   "name": "python",
   "nbconvert_exporter": "python",
   "pygments_lexer": "ipython3",
   "version": "3.5.2"
  }
 },
 "nbformat": 4,
 "nbformat_minor": 2
}
