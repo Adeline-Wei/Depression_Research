{
 "cells": [
  {
   "cell_type": "code",
   "execution_count": null,
   "metadata": {
    "collapsed": true
   },
   "outputs": [],
   "source": [
    "### Construct the phonetic dictionary\n",
    "eSPEDictV2 = dict()\n",
    "with open('eSPEPhonologicalTableV2') as openFile:\n",
    "    for line in openFile.readlines():\n",
    "        line = line.strip().split('\\t')\n",
    "        eSPEDictV2[line[0]] = np.array([eval(x) for x in line[1:]])"
   ]
  },
  {
   "cell_type": "code",
   "execution_count": null,
   "metadata": {
    "collapsed": true
   },
   "outputs": [],
   "source": [
    "### Calculate energy of score (8 classes + 1 class:#(words))\n",
    "def getTweetScoreV2(tweet):\n",
    "    wordCount = 0\n",
    "    words = tokenize(tweet)\n",
    "    score = np.zeros((8,), dtype=np.int)\n",
    "    for word in words:\n",
    "        # 字典裡找不到這個字\n",
    "        cmu, ipa = cv.convert(word)\n",
    "        ipa = re.sub('[ˌˈ ]' ,'' ,ipa)\n",
    "        if '*' in ipa:\n",
    "            continue\n",
    "        wordCount += 1\n",
    "        i = 0\n",
    "        while i < len(ipa):\n",
    "            # 最後一個音標\n",
    "            if i == len(ipa)-1:\n",
    "                sym = ipa[i]\n",
    "                score += eSPEDictV2[sym]\n",
    "                i += 1\n",
    "            # 非最後一個音標\n",
    "            else:\n",
    "                try:\n",
    "                    sym = ipa[i] + ipa[i+1]\n",
    "                    score += eSPEDictV2[sym]\n",
    "                    i += 2\n",
    "                except KeyError:\n",
    "                    sym = ipa[i]\n",
    "                    score += eSPEDictV2[sym]\n",
    "                    i += 1\n",
    "\n",
    "    score = np.append(score, wordCount)\n",
    "    return score"
   ]
  },
  {
   "cell_type": "markdown",
   "metadata": {},
   "source": [
    "# For Patient Classification"
   ]
  },
  {
   "cell_type": "code",
   "execution_count": null,
   "metadata": {
    "collapsed": true
   },
   "outputs": [],
   "source": [
    "# Patient\n",
    "progress = initializeProgressBar(len(groupTextCase1))\t\n",
    "groupScoresV2 = []\n",
    "for i, person in enumerate(groupTextCase1):\t# Type of groupTextCase1: List\n",
    "    progress.value += 1\n",
    "    progress.description = 'Task {0}/{1}'.format(i+1, len(groupTextCase1))\n",
    "    tweets = person.split('\\n')\n",
    "    score = np.zeros((9,), dtype=np.int)\n",
    "    for tweet in tweets:\n",
    "        score += getTweetScoreV2(tweet)\n",
    "    groupScoresV2.append(list(score))"
   ]
  },
  {
   "cell_type": "code",
   "execution_count": null,
   "metadata": {
    "collapsed": true
   },
   "outputs": [],
   "source": [
    "### Ordinary People\n",
    "progress = initializeProgressBar(len(baseTextCase1))\n",
    "baseScoresV2 = []\n",
    "for i, person in enumerate(baseTextCase1):\n",
    "    progress.value += 1\n",
    "    progress.description = 'Task {0}/{1}'.format(i+1, len(baseTextCase1))\n",
    "    tweets = person.split('\\n')\n",
    "    score = np.zeros((9,), dtype=np.int)\n",
    "    for tweet in tweets:\n",
    "        score += getTweetScoreV2(tweet)\n",
    "    baseScoresV2.append(list(score))"
   ]
  },
  {
   "cell_type": "code",
   "execution_count": null,
   "metadata": {
    "collapsed": true
   },
   "outputs": [],
   "source": [
    "### RandomForest Classifier\n",
    "sss = StratifiedShuffleSplit(Y, 10, random_state=randint(0,65536))\n",
    "classifierV2 = RandomForestClassifier(n_jobs=-1, max_features=\"sqrt\", n_estimators=128)\n",
    "X = np.array(baseScoresV2 + groupScoresV2)\n",
    "Y = np.array([0] * len(baseScoresV2) + [1]*len(groupScoresV2), dtype=int)\n",
    "precisionsV2 = []\n",
    "for train_index, test_index in sss:\n",
    "    print(train_index, test_index)\n",
    "    X_train, X_test = X[train_index], X[test_index]\n",
    "    Y_train, Y_test = Y[train_index], Y[test_index]\n",
    "    classifierV2 = classifierV2.fit(X_train, Y_train)\n",
    "    precision = classifierV2.score(X_test, Y_test)\n",
    "    precisionsV2.append(precision)"
   ]
  }
 ],
 "metadata": {
  "kernelspec": {
   "display_name": "Python 3",
   "language": "python",
   "name": "python3"
  },
  "language_info": {
   "codemirror_mode": {
    "name": "ipython",
    "version": 3
   },
   "file_extension": ".py",
   "mimetype": "text/x-python",
   "name": "python",
   "nbconvert_exporter": "python",
   "pygments_lexer": "ipython3",
   "version": "3.5.2"
  }
 },
 "nbformat": 4,
 "nbformat_minor": 2
}
